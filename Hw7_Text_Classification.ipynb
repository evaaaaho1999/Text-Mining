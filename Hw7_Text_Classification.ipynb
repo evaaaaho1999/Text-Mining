{
  "nbformat": 4,
  "nbformat_minor": 0,
  "metadata": {
    "colab": {
      "name": "Hw7-Text Classification.ipynb",
      "provenance": [],
      "collapsed_sections": [],
      "toc_visible": true
    },
    "kernelspec": {
      "name": "python3",
      "display_name": "Python 3"
    }
  },
  "cells": [
    {
      "cell_type": "markdown",
      "metadata": {
        "id": "9Esn_gEBwDdN",
        "colab_type": "text"
      },
      "source": [
        "# Classification with supervised leanring - Sample code for homework 7"
      ]
    },
    {
      "cell_type": "code",
      "metadata": {
        "id": "XGE4jT4csRew",
        "colab_type": "code",
        "colab": {}
      },
      "source": [
        "import matplotlib.pyplot as plt\n",
        "from sklearn.metrics import confusion_matrix\n",
        "import numpy as np\n",
        "from collections import Counter #計數器\n",
        "\n",
        "def cm_plot(original_label, predict_label, pic=None):\n",
        "    cm = confusion_matrix(original_label, predict_label)   # 由原标签和预测标签生成混淆矩阵\n",
        "    plt.figure()\n",
        "    \n",
        "    # plt.imshow(cm,cmap=plt.cm.get_cmap('gray', 1))\n",
        "    plt.matshow(cm, cmap=plt.cm.Blues)     # 画混淆矩阵，配色风格使用cm.Blues\n",
        "    plt.colorbar()    # 颜色标签\n",
        "    for x in range(len(cm)):\n",
        "        for y in range(len(cm)):\n",
        "            plt.annotate(cm[y, x], xy=(x, y), horizontalalignment='center', verticalalignment='center')\n",
        "            # annotate主要在图形中添加注释\n",
        "            # 第一个参数添加注释\n",
        "            # 第二个参数是注释的内容\n",
        "            # xy设置箭头尖的坐标\n",
        "            # horizontalalignment水平对齐\n",
        "            # verticalalignment垂直对齐\n",
        "            # 其余常用参数如下：\n",
        "            # xytext设置注释内容显示的起始位置\n",
        "            # arrowprops 用来设置箭头\n",
        "            # facecolor 设置箭头的颜色\n",
        "            # headlength 箭头的头的长度\n",
        "            # headwidth 箭头的宽度\n",
        "            # width 箭身的宽度\n",
        "    plt.ylabel('True label')  # 坐标轴标签\n",
        "    plt.xlabel('Predicted label')  # 坐标轴标签\n",
        "    plt.title('confusion matrix')\n",
        "    if pic is not None:\n",
        "        plt.savefig(str(pic) + '.jpg')\n",
        "    plt.show()"
      ],
      "execution_count": 0,
      "outputs": []
    },
    {
      "cell_type": "code",
      "metadata": {
        "id": "q2LmP8gpx2xp",
        "colab_type": "code",
        "outputId": "dfcdd322-b71f-4c2d-8e5c-0d08c8b94c51",
        "colab": {
          "base_uri": "https://localhost:8080/",
          "height": 34
        }
      },
      "source": [
        "from keras.utils import np_utils # 轉onehot\n",
        "# DNN by keras\n",
        "import keras.models \n",
        "from keras.models import Sequential\n",
        "from keras.layers.core import Dense,Activation\n",
        "from keras.optimizers import Adam\n",
        "from sklearn import preprocessing\n",
        "from keras.layers import Dropout\n",
        "\n",
        "# 建立Sequential模型\n",
        "def build_model(in_layer=1000,hid_layer=500,out_layer=2):\n",
        "    model = Sequential()\n",
        "    model.add(Dense(input_dim=in_layer,units=hid_layer))\n",
        "    model.add(Activation('relu'))\n",
        "    model.add(Dense(units=out_layer))\n",
        "    model.add(Activation('softmax'))\n",
        "    model.summary()\n",
        "    model.compile(loss='categorical_crossentropy',\n",
        "             optimizer='adam',\n",
        "             metrics=['accuracy'])\n",
        "    return model\n",
        "# 建立Sequential模型\n",
        "def build_model2(in_layer=1000,hid_layer1=500,hid_layer2=250,out_layer=2):\n",
        "    model = Sequential()\n",
        "    model.add(Dropout(0.2, input_shape=(in_layer,)))\n",
        "    model.add(Dense(input_dim=in_layer,units=hid_layer1))\n",
        "    model.add(Activation('relu'))\n",
        "    model.add(Dropout(0.2, input_shape=(hid_layer2,)))\n",
        "    model.add(Activation('relu'))\n",
        "    model.add(Dense(units=out_layer))\n",
        "    model.add(Activation('sigmoid'))\n",
        "    model.summary()\n",
        "    model.compile(loss='categorical_crossentropy',\n",
        "             optimizer='adam',\n",
        "             metrics=['accuracy'])\n",
        "    return model\n",
        "# 訓練繪圖工具\n",
        "def show_train_history(train_history,train,validation):\n",
        "    plt.plot(train_history.history[train])\n",
        "    plt.plot(train_history.history[validation])\n",
        "    \n",
        "    plt.legend(['train','validation'],loc='upper left')\n",
        "    plt.show()"
      ],
      "execution_count": 0,
      "outputs": [
        {
          "output_type": "stream",
          "text": [
            "Using TensorFlow backend.\n"
          ],
          "name": "stderr"
        }
      ]
    },
    {
      "cell_type": "code",
      "metadata": {
        "id": "dWrDN-Av6IIn",
        "colab_type": "code",
        "outputId": "bf5fc8d3-793e-445c-fef1-6f0bea82e8f0",
        "colab": {
          "base_uri": "https://localhost:8080/",
          "height": 122
        }
      },
      "source": [
        "#Mount google drive to google colab virtual machine\n",
        "from google.colab import drive\n",
        "drive.mount('/content/drive')\n",
        "mydrive =\"/content/drive/My Drive/Colab Notebooks/\""
      ],
      "execution_count": 0,
      "outputs": [
        {
          "output_type": "stream",
          "text": [
            "Go to this URL in a browser: https://accounts.google.com/o/oauth2/auth?client_id=947318989803-6bn6qk8qdgf4n4g3pfee6491hc0brc4i.apps.googleusercontent.com&redirect_uri=urn%3aietf%3awg%3aoauth%3a2.0%3aoob&response_type=code&scope=email%20https%3a%2f%2fwww.googleapis.com%2fauth%2fdocs.test%20https%3a%2f%2fwww.googleapis.com%2fauth%2fdrive%20https%3a%2f%2fwww.googleapis.com%2fauth%2fdrive.photos.readonly%20https%3a%2f%2fwww.googleapis.com%2fauth%2fpeopleapi.readonly\n",
            "\n",
            "Enter your authorization code:\n",
            "··········\n",
            "Mounted at /content/drive\n"
          ],
          "name": "stdout"
        }
      ]
    },
    {
      "cell_type": "code",
      "metadata": {
        "id": "dn1kf50k_S8p",
        "colab_type": "code",
        "outputId": "e13a50ea-450b-4739-d4f3-52ebbe7b6534",
        "colab": {
          "base_uri": "https://localhost:8080/",
          "height": 102
        }
      },
      "source": [
        "#download data from google drive\n",
        "import gdown\n",
        "url = \"https://drive.google.com/uc?id=1jbb0HQ9oTZkRNK055AvXD3ya8_ZLtN9o\"\n",
        "gdown.download(url, mydrive+\"Amazon_review.csv\", quiet=False)"
      ],
      "execution_count": 0,
      "outputs": [
        {
          "output_type": "stream",
          "text": [
            "Downloading...\n",
            "From: https://drive.google.com/uc?id=1jbb0HQ9oTZkRNK055AvXD3ya8_ZLtN9o\n",
            "To: /content/drive/My Drive/Colab Notebooks/Amazon_review.csv\n",
            "4.52MB [00:00, 119MB/s]\n"
          ],
          "name": "stderr"
        },
        {
          "output_type": "execute_result",
          "data": {
            "text/plain": [
              "'/content/drive/My Drive/Colab Notebooks/Amazon_review.csv'"
            ]
          },
          "metadata": {
            "tags": []
          },
          "execution_count": 3
        }
      ]
    },
    {
      "cell_type": "code",
      "metadata": {
        "id": "xE-PauzV-WZA",
        "colab_type": "code",
        "outputId": "e95f90b4-a083-4398-88aa-3b5ead566760",
        "colab": {
          "base_uri": "https://localhost:8080/",
          "height": 419
        }
      },
      "source": [
        "#load dataset into pandas dataframe\n",
        "import pandas as pd\n",
        "amazon_reviewDF = pd.read_csv(mydrive+\"Amazon_review.csv\",delimiter=',',header = None)\n",
        "amazon_reviewDF.columns=['text', 'label'] # name the column of dataframe \n",
        "amazon_reviewDF"
      ],
      "execution_count": 0,
      "outputs": [
        {
          "output_type": "execute_result",
          "data": {
            "text/html": [
              "<div>\n",
              "<style scoped>\n",
              "    .dataframe tbody tr th:only-of-type {\n",
              "        vertical-align: middle;\n",
              "    }\n",
              "\n",
              "    .dataframe tbody tr th {\n",
              "        vertical-align: top;\n",
              "    }\n",
              "\n",
              "    .dataframe thead th {\n",
              "        text-align: right;\n",
              "    }\n",
              "</style>\n",
              "<table border=\"1\" class=\"dataframe\">\n",
              "  <thead>\n",
              "    <tr style=\"text-align: right;\">\n",
              "      <th></th>\n",
              "      <th>text</th>\n",
              "      <th>label</th>\n",
              "    </tr>\n",
              "  </thead>\n",
              "  <tbody>\n",
              "    <tr>\n",
              "      <th>0</th>\n",
              "      <td>Stuning even for the non-gamer: This sound tra...</td>\n",
              "      <td>Positive</td>\n",
              "    </tr>\n",
              "    <tr>\n",
              "      <th>1</th>\n",
              "      <td>The best soundtrack ever to anything.: I'm rea...</td>\n",
              "      <td>Positive</td>\n",
              "    </tr>\n",
              "    <tr>\n",
              "      <th>2</th>\n",
              "      <td>Amazing!: This soundtrack is my favorite music...</td>\n",
              "      <td>Positive</td>\n",
              "    </tr>\n",
              "    <tr>\n",
              "      <th>3</th>\n",
              "      <td>Excellent Soundtrack: I truly like this soundt...</td>\n",
              "      <td>Positive</td>\n",
              "    </tr>\n",
              "    <tr>\n",
              "      <th>4</th>\n",
              "      <td>Remember, Pull Your Jaw Off The Floor After He...</td>\n",
              "      <td>Positive</td>\n",
              "    </tr>\n",
              "    <tr>\n",
              "      <th>...</th>\n",
              "      <td>...</td>\n",
              "      <td>...</td>\n",
              "    </tr>\n",
              "    <tr>\n",
              "      <th>9995</th>\n",
              "      <td>A revelation of life in small town America in ...</td>\n",
              "      <td>Positive</td>\n",
              "    </tr>\n",
              "    <tr>\n",
              "      <th>9996</th>\n",
              "      <td>Great biography of a very interesting journali...</td>\n",
              "      <td>Positive</td>\n",
              "    </tr>\n",
              "    <tr>\n",
              "      <th>9997</th>\n",
              "      <td>Interesting Subject; Poor Presentation: You'd ...</td>\n",
              "      <td>Negative</td>\n",
              "    </tr>\n",
              "    <tr>\n",
              "      <th>9998</th>\n",
              "      <td>Don't buy: The box looked used and it is obvio...</td>\n",
              "      <td>Negative</td>\n",
              "    </tr>\n",
              "    <tr>\n",
              "      <th>9999</th>\n",
              "      <td>Beautiful Pen and Fast Delivery.: The pen was ...</td>\n",
              "      <td>Positive</td>\n",
              "    </tr>\n",
              "  </tbody>\n",
              "</table>\n",
              "<p>10000 rows × 2 columns</p>\n",
              "</div>"
            ],
            "text/plain": [
              "                                                   text     label\n",
              "0     Stuning even for the non-gamer: This sound tra...  Positive\n",
              "1     The best soundtrack ever to anything.: I'm rea...  Positive\n",
              "2     Amazing!: This soundtrack is my favorite music...  Positive\n",
              "3     Excellent Soundtrack: I truly like this soundt...  Positive\n",
              "4     Remember, Pull Your Jaw Off The Floor After He...  Positive\n",
              "...                                                 ...       ...\n",
              "9995  A revelation of life in small town America in ...  Positive\n",
              "9996  Great biography of a very interesting journali...  Positive\n",
              "9997  Interesting Subject; Poor Presentation: You'd ...  Negative\n",
              "9998  Don't buy: The box looked used and it is obvio...  Negative\n",
              "9999  Beautiful Pen and Fast Delivery.: The pen was ...  Positive\n",
              "\n",
              "[10000 rows x 2 columns]"
            ]
          },
          "metadata": {
            "tags": []
          },
          "execution_count": 5
        }
      ]
    },
    {
      "cell_type": "code",
      "metadata": {
        "id": "oDMxvqVQkdd3",
        "colab_type": "code",
        "outputId": "ff8bf946-a4fb-4c32-adc2-b13baf541562",
        "colab": {
          "base_uri": "https://localhost:8080/",
          "height": 54
        }
      },
      "source": [
        "amazon_reviewDF['text'][0]"
      ],
      "execution_count": 0,
      "outputs": [
        {
          "output_type": "execute_result",
          "data": {
            "text/plain": [
              "'Stuning even for the non-gamer: This sound track was beautiful! It paints the senery in your mind so well I would recomend it even to people who hate vid. game music! I have played the game Chrono Cross but out of all of the games I have ever played it has the best music! It backs away from crude keyboarding and takes a fresher step with grate guitars and soulful orchestras. It would impress anyone who cares to listen! ^_^'"
            ]
          },
          "metadata": {
            "tags": []
          },
          "execution_count": 5
        }
      ]
    },
    {
      "cell_type": "markdown",
      "metadata": {
        "id": "B4rK_quui_ju",
        "colab_type": "text"
      },
      "source": [
        "Definition POS of spacy here: https://spacy.io/api/annotation#pos-tagging\n"
      ]
    },
    {
      "cell_type": "code",
      "metadata": {
        "id": "lbTtCrhIf8mD",
        "colab_type": "code",
        "colab": {}
      },
      "source": [
        "# Define function for Lemmatization and feature selection using POS, spacy package\n",
        "import spacy\n",
        "def spacy_preprocess (text,lemma= True, pos= True, pos_select = [\"VERB\", \"NOUN\", \"ADJ\",\"ADV\",\"PART\"]):\n",
        "  # Initialize spacy 'en' model, keeping only tagger component needed for lemmatization\n",
        "  nlp = spacy.load('en', disable=['parser', 'ner']) # disable parser, ner for faster loading\n",
        "  # Parse the sentence using the loaded 'en' model object `nlp`\n",
        "  doc = nlp(text)\n",
        "  if pos== False:\n",
        "    if lemma== True: text_preprocess= \" \".join([token.lemma_ for token in doc])\n",
        "    if lemma== False:text_preprocess= \" \".join([token.text for token in doc])\n",
        "  else:\n",
        "    if lemma== True : text_preprocess= \" \".join([token.lemma_ for token in doc if token.pos_ in pos_select])\n",
        "    if lemma== False : text_preprocess= \" \".join([token.text for token in doc if token.pos_ in pos_select])\n",
        "  return text_preprocess"
      ],
      "execution_count": 0,
      "outputs": []
    },
    {
      "cell_type": "code",
      "metadata": {
        "id": "C35IRw-gjODt",
        "colab_type": "code",
        "outputId": "5f48e3bc-d88f-49f0-df05-7b0bdf002d48",
        "colab": {
          "base_uri": "https://localhost:8080/",
          "height": 34
        }
      },
      "source": [
        "from IPython.display import clear_output\n",
        "#this may thake long time to process all 10.000 comments\n",
        "amazon_reviewDF_lem_pos = amazon_reviewDF\n",
        "for index in amazon_reviewDF.index:\n",
        "   text =  amazon_reviewDF['text'][index]\n",
        "   amazon_reviewDF_lem_pos['text'][index]= spacy_preprocess (text,lemma= True, pos= True, pos_select = [\"VERB\", \"ADJ\",\"ADV\"])\n",
        "   # print out the perentage complete\n",
        "   clear_output(wait=True)\n",
        "   if ((index+1)%10==0):print(\"finish %s\" %(str(round((index+1)/100,2))+\"%\"))\n",
        "\n",
        "# you should write the result after remove pos and lemmatizaiton to use later\n",
        "amazon_reviewDF_lem_pos.to_csv(mydrive+\"Amazon_review_lem_pos_vaa.csv\", index = False)"
      ],
      "execution_count": 0,
      "outputs": [
        {
          "output_type": "stream",
          "text": [
            "finish 38.5%\n"
          ],
          "name": "stdout"
        }
      ]
    },
    {
      "cell_type": "markdown",
      "metadata": {
        "id": "8sXP8IdUOGTd",
        "colab_type": "text"
      },
      "source": [
        "**Now you have 2 data frame:**\n",
        "\n",
        "the original one:  *amazon_reviewDF*\n",
        "\n",
        "the data after lemmatization, pos: *amazon_reviewDF_lem_pos*"
      ]
    },
    {
      "cell_type": "markdown",
      "metadata": {
        "id": "1mI95qbHJKkA",
        "colab_type": "text"
      },
      "source": [
        "## max_features 500000"
      ]
    },
    {
      "cell_type": "code",
      "metadata": {
        "id": "yLRdlJgstk2U",
        "colab_type": "code",
        "colab": {}
      },
      "source": [
        "MAX_FEATURES = 500000"
      ],
      "execution_count": 0,
      "outputs": []
    },
    {
      "cell_type": "markdown",
      "metadata": {
        "id": "fP_e2EWrqS7x",
        "colab_type": "text"
      },
      "source": [
        "### Without POS"
      ]
    },
    {
      "cell_type": "markdown",
      "metadata": {
        "id": "HD__dzsMEgNQ",
        "colab_type": "text"
      },
      "source": [
        "**Split Training - Testing data for validation**"
      ]
    },
    {
      "cell_type": "code",
      "metadata": {
        "id": "X3GMNhqBDiHd",
        "colab_type": "code",
        "colab": {}
      },
      "source": [
        "from sklearn import model_selection\n",
        "\n",
        "# split the dataset into training and testing \n",
        "train_x, valid_x, train_y, valid_y = model_selection.train_test_split(amazon_reviewDF['text'], \n",
        "                                                      amazon_reviewDF['label'],test_size=0.1,random_state=1)\n",
        "\n",
        "#test_size = 0.1 mean 90% data is used for traning data, 10% for testing data.\n",
        "\n",
        "\n",
        "from sklearn import preprocessing\n",
        "# encode the target variable, label Negative/Positive -> 0/1\n",
        "encoder = preprocessing.LabelEncoder()\n",
        "train_y_en = encoder.fit_transform(train_y)\n",
        "valid_y_en = encoder.fit_transform(valid_y)\n",
        "\n",
        "from sklearn.feature_extraction.text import TfidfVectorizer\n",
        "# word level tf-idf\n",
        "tfidf_vect = TfidfVectorizer(stop_words='english',  max_features = MAX_FEATURES)\n",
        "tfidf_vect.fit(train_x) #Learn vocabulary and idf from training data set. (in bad words)\n",
        "xtrain_tfidf =  tfidf_vect.transform(train_x) # compute tfidf for tranning data set\n",
        "xvalid_tfidf =  tfidf_vect.transform(valid_x) # compute tfidf for testing data set"
      ],
      "execution_count": 0,
      "outputs": []
    },
    {
      "cell_type": "code",
      "metadata": {
        "id": "5yv_fz1mYPg6",
        "colab_type": "code",
        "outputId": "6408d90c-1d54-4002-b7d2-92a71952c63f",
        "colab": {
          "base_uri": "https://localhost:8080/",
          "height": 359
        }
      },
      "source": [
        "from sklearn import tree,  metrics\n",
        "classifier_tree = tree.DecisionTreeClassifier(random_state=1)\n",
        "# fit the training dataset on the classifier\n",
        "classifier_tree =classifier_tree.fit(xtrain_tfidf, train_y_en)\n",
        "\n",
        "# predict the labels on validation dataset\n",
        "valid_y_pred_tree = classifier_tree.predict(xvalid_tfidf)\n",
        "accuracy_tree = metrics.accuracy_score(valid_y_en, valid_y_pred_tree)\n",
        "confusion_matrix_tree = metrics.confusion_matrix(valid_y_en, valid_y_pred_tree, labels=[0,1])\n",
        "print (\"Accuracy\", accuracy_tree)\n",
        "F1_score1=metrics.f1_score(valid_y_en, valid_y_pred_tree)\n",
        "print (\"F-score\", F1_score1)\n",
        "print (\"confusion_matrix\\n\", confusion_matrix_tree)\n",
        "cm_plot(valid_y_en,valid_y_pred_tree)"
      ],
      "execution_count": 0,
      "outputs": [
        {
          "output_type": "stream",
          "text": [
            "Accuracy 0.72\n",
            "F-score 0.714867617107943\n",
            "confusion_matrix\n",
            " [[369 141]\n",
            " [139 351]]\n"
          ],
          "name": "stdout"
        },
        {
          "output_type": "display_data",
          "data": {
            "text/plain": [
              "<Figure size 432x288 with 0 Axes>"
            ]
          },
          "metadata": {
            "tags": []
          }
        },
        {
          "output_type": "display_data",
          "data": {
            "image/png": "[encoded data removed]",
            "text/plain": [
              "<Figure size 288x288 with 2 Axes>"
            ]
          },
          "metadata": {
            "tags": [],
            "needs_background": "light"
          }
        }
      ]
    },
    {
      "cell_type": "markdown",
      "metadata": {
        "id": "thESsGvIsAac",
        "colab_type": "text"
      },
      "source": [
        "**Use RandomForestClassifier- Full code**"
      ]
    },
    {
      "cell_type": "code",
      "metadata": {
        "id": "Xu0JBn7eD3qz",
        "colab_type": "code",
        "outputId": "54f47014-0ccf-48eb-92c5-ad7cdfa95ef9",
        "colab": {
          "base_uri": "https://localhost:8080/",
          "height": 359
        }
      },
      "source": [
        "from sklearn import ensemble\n",
        "classifier_rf = ensemble.RandomForestClassifier(random_state= 1)\n",
        "# fit the training dataset on the classifier\n",
        "classifier_rf.fit(xtrain_tfidf, train_y_en)\n",
        "\n",
        "# predict the labels on validation dataset\n",
        "valid_y_pred_rf = classifier_rf.predict(xvalid_tfidf)\n",
        "\n",
        "accuracy_rf = metrics.accuracy_score(valid_y_en, valid_y_pred_rf)\n",
        "confusion_matrix_rf = metrics.confusion_matrix(valid_y_en, valid_y_pred_rf, labels=[0,1])\n",
        "F1_score=metrics.f1_score(valid_y_en, valid_y_pred_rf)\n",
        "print (\"Accuracy\", accuracy_rf)\n",
        "print (\"F-score\", F1_score)\n",
        "print (\"confusion_matrix\\n\", confusion_matrix_rf)\n",
        "cm_plot(valid_y_en, valid_y_pred_rf)"
      ],
      "execution_count": 0,
      "outputs": [
        {
          "output_type": "stream",
          "text": [
            "Accuracy 0.839\n",
            "F-score 0.8338493292053664\n",
            "confusion_matrix\n",
            " [[435  75]\n",
            " [ 86 404]]\n"
          ],
          "name": "stdout"
        },
        {
          "output_type": "display_data",
          "data": {
            "text/plain": [
              "<Figure size 432x288 with 0 Axes>"
            ]
          },
          "metadata": {
            "tags": []
          }
        },
        {
          "output_type": "display_data",
          "data": {
            "image/png": "[encoded data removed]",
            "text/plain": [
              "<Figure size 288x288 with 2 Axes>"
            ]
          },
          "metadata": {
            "tags": [],
            "needs_background": "light"
          }
        }
      ]
    },
    {
      "cell_type": "markdown",
      "metadata": {
        "id": "w4glR6AjsJ1N",
        "colab_type": "text"
      },
      "source": [
        "**Use Neural Network- Multi-layer Perceptron classifier.**"
      ]
    },
    {
      "cell_type": "code",
      "metadata": {
        "id": "FaKHqIJKa0wN",
        "colab_type": "code",
        "outputId": "05862862-802f-4f37-a12c-c314b6f85e18",
        "colab": {
          "base_uri": "https://localhost:8080/",
          "height": 374
        }
      },
      "source": [
        "from sklearn.neural_network import MLPClassifier\n",
        "import time\n",
        "start = time.clock()\n",
        "classifier_nn = MLPClassifier(random_state=1)\n",
        "# fit the training dataset on the classifier\n",
        "classifier_nn.fit(xtrain_tfidf, train_y_en) # take around 3-4 minutes\n",
        "\n",
        "# predict the labels on validation dataset\n",
        "valid_y_pred_nn = classifier_nn.predict(xvalid_tfidf)\n",
        "\n",
        "accuracy_nn = metrics.accuracy_score(valid_y_en, valid_y_pred_nn)\n",
        "confusion_matrix_nn = metrics.confusion_matrix(valid_y_en, valid_y_pred_nn, labels=[0,1])\n",
        "print (\"Accuracy\", accuracy_nn)\n",
        "F1_score=metrics.f1_score(valid_y_en, valid_y_pred_nn)\n",
        "print (\"F-score\", F1_score)\n",
        "print (\"confusion_matrix\\n\", confusion_matrix_nn)\n",
        "cm_plot(valid_y_en, valid_y_pred_nn)\n",
        "end = time.clock()\n",
        "print (end-start)"
      ],
      "execution_count": 0,
      "outputs": [
        {
          "output_type": "stream",
          "text": [
            "Accuracy 0.842\n",
            "F-score 0.8381147540983608\n",
            "confusion_matrix\n",
            " [[433  77]\n",
            " [ 81 409]]\n"
          ],
          "name": "stdout"
        },
        {
          "output_type": "display_data",
          "data": {
            "text/plain": [
              "<Figure size 432x288 with 0 Axes>"
            ]
          },
          "metadata": {
            "tags": []
          }
        },
        {
          "output_type": "display_data",
          "data": {
            "image/png": "[encoded data removed]",
            "text/plain": [
              "<Figure size 288x288 with 2 Axes>"
            ]
          },
          "metadata": {
            "tags": [],
            "needs_background": "light"
          }
        },
        {
          "output_type": "stream",
          "text": [
            "360.1977160000001\n"
          ],
          "name": "stdout"
        }
      ]
    },
    {
      "cell_type": "code",
      "metadata": {
        "id": "WaIn7XpyMGMf",
        "colab_type": "code",
        "outputId": "9bc9735b-f102-4df0-a95d-d95219284cb3",
        "colab": {
          "base_uri": "https://localhost:8080/",
          "height": 428
        }
      },
      "source": [
        "from sklearn.neural_network import MLPClassifier\n",
        "import time\n",
        "start = time.clock()\n",
        "\n",
        "classifier_nn = MLPClassifier(hidden_layer_sizes=(500, 2),activation='logistic')\n",
        "# fit the training dataset on the classifier\n",
        "classifier_nn.fit(xtrain_tfidf, train_y_en) # take around 3-4 minutes\n",
        "\n",
        "# predict the labels on validation dataset\n",
        "valid_y_pred_nn = classifier_nn.predict(xvalid_tfidf)\n",
        "\n",
        "accuracy_nn = metrics.accuracy_score(valid_y_en, valid_y_pred_nn)\n",
        "confusion_matrix_nn = metrics.confusion_matrix(valid_y_en, valid_y_pred_nn, labels=[0,1])\n",
        "print (\"Accuracy\", accuracy_nn)\n",
        "F1_score=metrics.f1_score(valid_y_en, valid_y_pred_nn)\n",
        "print (\"F-score\", F1_score)\n",
        "print (\"confusion_matrix\\n\", confusion_matrix_nn)\n",
        "cm_plot(valid_y_en, valid_y_pred_nn)\n",
        "end = time.clock()\n",
        "print (end-start)"
      ],
      "execution_count": 0,
      "outputs": [
        {
          "output_type": "stream",
          "text": [
            "Accuracy 0.843\n",
            "F-score 0.8418932527693858\n",
            "confusion_matrix\n",
            " [[425  85]\n",
            " [ 72 418]]\n"
          ],
          "name": "stdout"
        },
        {
          "output_type": "stream",
          "text": [
            "/usr/local/lib/python3.6/dist-packages/sklearn/neural_network/_multilayer_perceptron.py:573: UserWarning: Training interrupted by user.\n",
            "  warnings.warn(\"Training interrupted by user.\")\n"
          ],
          "name": "stderr"
        },
        {
          "output_type": "display_data",
          "data": {
            "text/plain": [
              "<Figure size 432x288 with 0 Axes>"
            ]
          },
          "metadata": {
            "tags": []
          }
        },
        {
          "output_type": "display_data",
          "data": {
            "image/png": "[encoded data removed]",
            "text/plain": [
              "<Figure size 288x288 with 2 Axes>"
            ]
          },
          "metadata": {
            "tags": [],
            "needs_background": "light"
          }
        },
        {
          "output_type": "stream",
          "text": [
            "3547.357087\n"
          ],
          "name": "stdout"
        }
      ]
    },
    {
      "cell_type": "code",
      "metadata": {
        "id": "gznfDjn2vhkO",
        "colab_type": "code",
        "outputId": "e672bf64-69a9-4d14-d63b-b1f3c4ec8130",
        "colab": {
          "base_uri": "https://localhost:8080/",
          "height": 345
        }
      },
      "source": [
        "# XGBoost\n",
        "from xgboost import XGBClassifier # XGB 分類器\n",
        "from xgboost import plot_importance # XGB特徵重要性\n",
        "\n",
        "xgbc = XGBClassifier(max_depth=5)\n",
        "# fit the training dataset on the classifier\n",
        "xgbc.fit(xtrain_tfidf,train_y_en)\n",
        "# predict the labels on validation dataset\n",
        "valid_y_pred_xgbc = xgbc.predict(xvalid_tfidf)\n",
        "\n",
        "accuracy_xgb = metrics.accuracy_score(valid_y_en, valid_y_pred_xgbc)\n",
        "confusion_matrix_xgb = metrics.confusion_matrix(valid_y_en, valid_y_pred_xgbc, labels=[0,1])\n",
        "print (\"Accuracy\", accuracy_xgb)\n",
        "F1_score=metrics.f1_score(valid_y_en, valid_y_pred_xgbc)\n",
        "print (\"confusion_matrix\\n\", confusion_matrix_xgb)\n",
        "cm_plot(valid_y_en, valid_y_pred_xgbc)"
      ],
      "execution_count": 0,
      "outputs": [
        {
          "output_type": "stream",
          "text": [
            "Accuracy 0.803\n",
            "confusion_matrix\n",
            " [[414  96]\n",
            " [101 389]]\n"
          ],
          "name": "stdout"
        },
        {
          "output_type": "display_data",
          "data": {
            "text/plain": [
              "<Figure size 432x288 with 0 Axes>"
            ]
          },
          "metadata": {
            "tags": []
          }
        },
        {
          "output_type": "display_data",
          "data": {
            "image/png": "[encoded data removed]",
            "text/plain": [
              "<Figure size 288x288 with 2 Axes>"
            ]
          },
          "metadata": {
            "tags": [],
            "needs_background": "light"
          }
        }
      ]
    },
    {
      "cell_type": "code",
      "metadata": {
        "id": "ZPmPzVbhpASj",
        "colab_type": "code",
        "outputId": "66e28d57-66f2-4862-c35c-7c5f16f9e377",
        "colab": {
          "base_uri": "https://localhost:8080/",
          "height": 295
        }
      },
      "source": [
        "plot_importance(xgbc,max_num_features = 20)\n",
        "plt.show()"
      ],
      "execution_count": 0,
      "outputs": [
        {
          "output_type": "display_data",
          "data": {
            "image/png": "[encoded data removed]",
            "text/plain": [
              "<Figure size 432x288 with 1 Axes>"
            ]
          },
          "metadata": {
            "tags": [],
            "needs_background": "light"
          }
        }
      ]
    },
    {
      "cell_type": "code",
      "metadata": {
        "id": "XMgk8NyguXMO",
        "colab_type": "code",
        "outputId": "bde11008-0649-4cf4-c3d7-07ac0aae3676",
        "colab": {
          "base_uri": "https://localhost:8080/",
          "height": 920
        }
      },
      "source": [
        "# User DNN\n",
        "dnn = build_model2(in_layer=29640,hid_layer1=500,hid_layer2=500)\n",
        "X_train,Y_train,X_test,Y_test = xtrain_tfidf,train_y_en,xvalid_tfidf,valid_y_en\n",
        "Y_train_array = np.array(Y_train)\n",
        "Y_train_onehot = np_utils.to_categorical(Y_train_array)\n",
        "Y_test_array = np.array(Y_test)\n",
        "Y_test_onehot = np_utils.to_categorical(Y_test_array)\n",
        "\n",
        "train_history = dnn.fit(\n",
        "    x=X_train,\n",
        "    y=Y_train_onehot,\n",
        "    validation_split=0.2,\n",
        "    epochs=5,batch_size=500,verbose=2)\n",
        "\n",
        "valid_y_pred_DNN = dnn.predict_classes(xvalid_tfidf)\n",
        "accuracy_DNN = metrics.accuracy_score(valid_y_en, valid_y_pred_DNN)\n",
        "confusion_matrix_DNN = metrics.confusion_matrix(valid_y_en, valid_y_pred_DNN, labels=[0,1])\n",
        "print (\"Accuracy\", accuracy_DNN)\n",
        "F1_score=metrics.f1_score(valid_y_en, valid_y_pred_DNN)\n",
        "print (\"F-score\", F1_score)\n",
        "print (\"confusion_matrix\\n\", confusion_matrix_DNN)\n",
        "cm_plot(valid_y_en, valid_y_pred_DNN)"
      ],
      "execution_count": 0,
      "outputs": [
        {
          "output_type": "stream",
          "text": [
            "Model: \"sequential_2\"\n",
            "_________________________________________________________________\n",
            "Layer (type)                 Output Shape              Param #   \n",
            "=================================================================\n",
            "dropout_2 (Dropout)          (None, 29640)             0         \n",
            "_________________________________________________________________\n",
            "dense_4 (Dense)              (None, 500)               14820500  \n",
            "_________________________________________________________________\n",
            "activation_4 (Activation)    (None, 500)               0         \n",
            "_________________________________________________________________\n",
            "dropout_3 (Dropout)          (None, 500)               0         \n",
            "_________________________________________________________________\n",
            "activation_5 (Activation)    (None, 500)               0         \n",
            "_________________________________________________________________\n",
            "dense_5 (Dense)              (None, 2)                 1002      \n",
            "_________________________________________________________________\n",
            "activation_6 (Activation)    (None, 2)                 0         \n",
            "=================================================================\n",
            "Total params: 14,821,502\n",
            "Trainable params: 14,821,502\n",
            "Non-trainable params: 0\n",
            "_________________________________________________________________\n",
            "Train on 7200 samples, validate on 1800 samples\n",
            "Epoch 1/5\n",
            " - 13s - loss: 0.6778 - accuracy: 0.7375 - val_loss: 0.6420 - val_accuracy: 0.8267\n",
            "Epoch 2/5\n",
            " - 13s - loss: 0.5693 - accuracy: 0.8894 - val_loss: 0.5365 - val_accuracy: 0.8306\n",
            "Epoch 3/5\n",
            " - 13s - loss: 0.4041 - accuracy: 0.9190 - val_loss: 0.4271 - val_accuracy: 0.8400\n",
            "Epoch 4/5\n",
            " - 13s - loss: 0.2540 - accuracy: 0.9449 - val_loss: 0.3613 - val_accuracy: 0.8478\n",
            "Epoch 5/5\n",
            " - 13s - loss: 0.1621 - accuracy: 0.9613 - val_loss: 0.3409 - val_accuracy: 0.8511\n",
            "Accuracy 0.865\n",
            "F-score 0.863773965691221\n",
            "confusion_matrix\n",
            " [[437  73]\n",
            " [ 62 428]]\n"
          ],
          "name": "stdout"
        },
        {
          "output_type": "display_data",
          "data": {
            "text/plain": [
              "<Figure size 432x288 with 0 Axes>"
            ]
          },
          "metadata": {
            "tags": []
          }
        },
        {
          "output_type": "display_data",
          "data": {
            "image/png": "[encoded data removed]",
            "text/plain": [
              "<Figure size 288x288 with 2 Axes>"
            ]
          },
          "metadata": {
            "tags": [],
            "needs_background": "light"
          }
        }
      ]
    },
    {
      "cell_type": "markdown",
      "metadata": {
        "id": "qsyJGlGRqQ4r",
        "colab_type": "text"
      },
      "source": [
        "### With POS"
      ]
    },
    {
      "cell_type": "code",
      "metadata": {
        "id": "JngWkhgvsztr",
        "colab_type": "code",
        "outputId": "76a30fd9-29a2-4f09-faf6-5bb7d1d118f2",
        "colab": {
          "base_uri": "https://localhost:8080/",
          "height": 419
        }
      },
      "source": [
        "amazon_reviewDF_lem_pos = pd.read_csv(mydrive+\"Amazon_review_lem_pos_vaa.csv\",delimiter=',',header = None)\n",
        "amazon_reviewDF_lem_pos.columns=['text', 'label'] # name the column of dataframe\n",
        "amazon_reviewDF_lem_pos=amazon_reviewDF_lem_pos.drop(labels=None,axis=0,index=0,inplace=False)\n",
        "amazon_reviewDF_lem_pos"
      ],
      "execution_count": 0,
      "outputs": [
        {
          "output_type": "execute_result",
          "data": {
            "text/html": [
              "<div>\n",
              "<style scoped>\n",
              "    .dataframe tbody tr th:only-of-type {\n",
              "        vertical-align: middle;\n",
              "    }\n",
              "\n",
              "    .dataframe tbody tr th {\n",
              "        vertical-align: top;\n",
              "    }\n",
              "\n",
              "    .dataframe thead th {\n",
              "        text-align: right;\n",
              "    }\n",
              "</style>\n",
              "<table border=\"1\" class=\"dataframe\">\n",
              "  <thead>\n",
              "    <tr style=\"text-align: right;\">\n",
              "      <th></th>\n",
              "      <th>text</th>\n",
              "      <th>label</th>\n",
              "    </tr>\n",
              "  </thead>\n",
              "  <tbody>\n",
              "    <tr>\n",
              "      <th>1</th>\n",
              "      <td>stun even non - gamer sound beautiful paint so...</td>\n",
              "      <td>Positive</td>\n",
              "    </tr>\n",
              "    <tr>\n",
              "      <th>2</th>\n",
              "      <td>good ever read say good figure would write dis...</td>\n",
              "      <td>Positive</td>\n",
              "    </tr>\n",
              "    <tr>\n",
              "      <th>3</th>\n",
              "      <td>amazing favorite hand intense mean more play d...</td>\n",
              "      <td>Positive</td>\n",
              "    </tr>\n",
              "    <tr>\n",
              "      <th>4</th>\n",
              "      <td>excellent truly like enjoy play most here enjo...</td>\n",
              "      <td>Positive</td>\n",
              "    </tr>\n",
              "    <tr>\n",
              "      <th>5</th>\n",
              "      <td>remember pull hear play know how divine single...</td>\n",
              "      <td>Positive</td>\n",
              "    </tr>\n",
              "    <tr>\n",
              "      <th>...</th>\n",
              "      <td>...</td>\n",
              "      <td>...</td>\n",
              "    </tr>\n",
              "    <tr>\n",
              "      <th>9996</th>\n",
              "      <td>small early scholarly reveal much more small m...</td>\n",
              "      <td>Positive</td>\n",
              "    </tr>\n",
              "    <tr>\n",
              "      <th>9997</th>\n",
              "      <td>great very interesting small twentieth most fa...</td>\n",
              "      <td>Positive</td>\n",
              "    </tr>\n",
              "    <tr>\n",
              "      <th>9998</th>\n",
              "      <td>interesting poor would hard pressed tell borin...</td>\n",
              "      <td>Negative</td>\n",
              "    </tr>\n",
              "    <tr>\n",
              "      <th>9999</th>\n",
              "      <td>buy look used obviously new try contact buy</td>\n",
              "      <td>Negative</td>\n",
              "    </tr>\n",
              "    <tr>\n",
              "      <th>10000</th>\n",
              "      <td>beautiful ship promptly classic rave black hol...</td>\n",
              "      <td>Positive</td>\n",
              "    </tr>\n",
              "  </tbody>\n",
              "</table>\n",
              "<p>10000 rows × 2 columns</p>\n",
              "</div>"
            ],
            "text/plain": [
              "                                                    text     label\n",
              "1      stun even non - gamer sound beautiful paint so...  Positive\n",
              "2      good ever read say good figure would write dis...  Positive\n",
              "3      amazing favorite hand intense mean more play d...  Positive\n",
              "4      excellent truly like enjoy play most here enjo...  Positive\n",
              "5      remember pull hear play know how divine single...  Positive\n",
              "...                                                  ...       ...\n",
              "9996   small early scholarly reveal much more small m...  Positive\n",
              "9997   great very interesting small twentieth most fa...  Positive\n",
              "9998   interesting poor would hard pressed tell borin...  Negative\n",
              "9999         buy look used obviously new try contact buy  Negative\n",
              "10000  beautiful ship promptly classic rave black hol...  Positive\n",
              "\n",
              "[10000 rows x 2 columns]"
            ]
          },
          "metadata": {
            "tags": []
          },
          "execution_count": 14
        }
      ]
    },
    {
      "cell_type": "code",
      "metadata": {
        "colab_type": "code",
        "id": "QM_vEV_nqlRj",
        "colab": {}
      },
      "source": [
        "from sklearn import model_selection\n",
        "\n",
        "# split the dataset into training and testing \n",
        "train_x, valid_x, train_y, valid_y = model_selection.train_test_split(amazon_reviewDF_lem_pos['text'], \n",
        "                                                      amazon_reviewDF_lem_pos['label'],test_size=0.1,random_state=1)\n",
        "\n",
        "#test_size = 0.1 mean 90% data is used for traning data, 10% for testing data.\n",
        "\n",
        "\n",
        "from sklearn import preprocessing\n",
        "# encode the target variable, label Negative/Positive -> 0/1\n",
        "encoder = preprocessing.LabelEncoder()\n",
        "train_y_en = encoder.fit_transform(train_y)\n",
        "valid_y_en = encoder.fit_transform(valid_y)\n",
        "\n",
        "from sklearn.feature_extraction.text import TfidfVectorizer\n",
        "# word level tf-idf\n",
        "tfidf_vect = TfidfVectorizer(stop_words='english',  max_features = MAX_FEATURES)\n",
        "tfidf_vect.fit(train_x.values.astype('U')) #Learn vocabulary and idf from training data set. (in bad words)\n",
        "xtrain_tfidf =  tfidf_vect.transform(train_x.values.astype('U')) # compute tfidf for tranning data set\n",
        "xvalid_tfidf =  tfidf_vect.transform(valid_x.values.astype('U')) # compute tfidf for testing data set\n",
        "# .values.astype('U') 是我把它改成unicode，因為不知道為甚麼他會跑error"
      ],
      "execution_count": 0,
      "outputs": []
    },
    {
      "cell_type": "code",
      "metadata": {
        "colab_type": "code",
        "outputId": "f635bf0a-d40c-4692-bcc6-ba75d0376802",
        "id": "NkbSkP0CqlRp",
        "colab": {
          "base_uri": "https://localhost:8080/",
          "height": 359
        }
      },
      "source": [
        "from sklearn import tree,  metrics\n",
        "classifier_tree = tree.DecisionTreeClassifier(random_state=1)\n",
        "# fit the training dataset on the classifier\n",
        "classifier_tree =classifier_tree.fit(xtrain_tfidf, train_y_en)\n",
        "\n",
        "# predict the labels on validation dataset\n",
        "valid_y_pred_tree = classifier_tree.predict(xvalid_tfidf)\n",
        "accuracy_tree = metrics.accuracy_score(valid_y_en, valid_y_pred_tree)\n",
        "confusion_matrix_tree = metrics.confusion_matrix(valid_y_en, valid_y_pred_tree, labels=[0,1])\n",
        "print (\"Accuracy\", accuracy_tree)\n",
        "F1_score1=metrics.f1_score(valid_y_en, valid_y_pred_tree)\n",
        "print (\"F-score\", F1_score1)\n",
        "print (\"confusion_matrix\\n\", confusion_matrix_tree)\n",
        "cm_plot(valid_y_en,valid_y_pred_tree)"
      ],
      "execution_count": 0,
      "outputs": [
        {
          "output_type": "stream",
          "text": [
            "Accuracy 0.692\n",
            "F-score 0.6869918699186991\n",
            "confusion_matrix\n",
            " [[354 156]\n",
            " [152 338]]\n"
          ],
          "name": "stdout"
        },
        {
          "output_type": "display_data",
          "data": {
            "text/plain": [
              "<Figure size 432x288 with 0 Axes>"
            ]
          },
          "metadata": {
            "tags": []
          }
        },
        {
          "output_type": "display_data",
          "data": {
            "image/png": "[encoded data removed]",
            "text/plain": [
              "<Figure size 288x288 with 2 Axes>"
            ]
          },
          "metadata": {
            "tags": [],
            "needs_background": "light"
          }
        }
      ]
    },
    {
      "cell_type": "markdown",
      "metadata": {
        "colab_type": "text",
        "id": "Pkr27Hr-qlRv"
      },
      "source": [
        "**Use RandomForestClassifier- Full code**"
      ]
    },
    {
      "cell_type": "code",
      "metadata": {
        "colab_type": "code",
        "outputId": "db5a01ab-9d00-488a-d415-ae86b3934c64",
        "id": "OvuBUROfqlRv",
        "colab": {
          "base_uri": "https://localhost:8080/",
          "height": 359
        }
      },
      "source": [
        "from sklearn import ensemble\n",
        "classifier_rf = ensemble.RandomForestClassifier(random_state= 1)\n",
        "# fit the training dataset on the classifier\n",
        "classifier_rf.fit(xtrain_tfidf, train_y_en)\n",
        "\n",
        "# predict the labels on validation dataset\n",
        "valid_y_pred_rf = classifier_rf.predict(xvalid_tfidf)\n",
        "\n",
        "accuracy_rf = metrics.accuracy_score(valid_y_en, valid_y_pred_rf)\n",
        "confusion_matrix_rf = metrics.confusion_matrix(valid_y_en, valid_y_pred_rf, labels=[0,1])\n",
        "F1_score=metrics.f1_score(valid_y_en, valid_y_pred_rf)\n",
        "print (\"Accuracy\", accuracy_rf)\n",
        "print (\"F-score\", F1_score)\n",
        "print (\"confusion_matrix\\n\", confusion_matrix_rf)\n",
        "cm_plot(valid_y_en,valid_y_pred_tree)"
      ],
      "execution_count": 0,
      "outputs": [
        {
          "output_type": "stream",
          "text": [
            "Accuracy 0.801\n",
            "F-score 0.7937823834196892\n",
            "confusion_matrix\n",
            " [[418  92]\n",
            " [107 383]]\n"
          ],
          "name": "stdout"
        },
        {
          "output_type": "display_data",
          "data": {
            "text/plain": [
              "<Figure size 432x288 with 0 Axes>"
            ]
          },
          "metadata": {
            "tags": []
          }
        },
        {
          "output_type": "display_data",
          "data": {
            "image/png": "[encoded data removed]",
            "text/plain": [
              "<Figure size 288x288 with 2 Axes>"
            ]
          },
          "metadata": {
            "tags": [],
            "needs_background": "light"
          }
        }
      ]
    },
    {
      "cell_type": "markdown",
      "metadata": {
        "colab_type": "text",
        "id": "Oo4NhOSLqlRy"
      },
      "source": [
        "**Use Neural Network- Multi-layer Perceptron classifier.**"
      ]
    },
    {
      "cell_type": "code",
      "metadata": {
        "colab_type": "code",
        "outputId": "08d6edd2-6a76-4907-b666-614bdfae4d6d",
        "id": "P2EV3A1MqlRz",
        "colab": {
          "base_uri": "https://localhost:8080/",
          "height": 359
        }
      },
      "source": [
        "from sklearn.neural_network import MLPClassifier\n",
        "classifier_nn = MLPClassifier(random_state=1)\n",
        "# fit the training dataset on the classifier\n",
        "classifier_nn.fit(xtrain_tfidf, train_y_en) # take around 3-4 minutes\n",
        "\n",
        "# predict the labels on validation dataset\n",
        "valid_y_pred_nn = classifier_nn.predict(xvalid_tfidf)\n",
        "\n",
        "accuracy_nn = metrics.accuracy_score(valid_y_en, valid_y_pred_nn)\n",
        "confusion_matrix_nn = metrics.confusion_matrix(valid_y_en, valid_y_pred_nn, labels=[0,1])\n",
        "print (\"Accuracy\", accuracy_nn)\n",
        "F1_score=metrics.f1_score(valid_y_en, valid_y_pred_nn)\n",
        "print (\"F-score\", F1_score)\n",
        "print (\"confusion_matrix\\n\", confusion_matrix_nn)\n",
        "cm_plot(valid_y_en,valid_y_pred_tree)"
      ],
      "execution_count": 0,
      "outputs": [
        {
          "output_type": "stream",
          "text": [
            "Accuracy 0.761\n",
            "F-score 0.7553735926305015\n",
            "confusion_matrix\n",
            " [[392 118]\n",
            " [121 369]]\n"
          ],
          "name": "stdout"
        },
        {
          "output_type": "display_data",
          "data": {
            "text/plain": [
              "<Figure size 432x288 with 0 Axes>"
            ]
          },
          "metadata": {
            "tags": []
          }
        },
        {
          "output_type": "display_data",
          "data": {
            "image/png": "[encoded data removed]",
            "text/plain": [
              "<Figure size 288x288 with 2 Axes>"
            ]
          },
          "metadata": {
            "tags": [],
            "needs_background": "light"
          }
        }
      ]
    },
    {
      "cell_type": "code",
      "metadata": {
        "id": "renLpFmSuh1T",
        "colab_type": "code",
        "colab": {}
      },
      "source": [
        "# neural network (user setting)"
      ],
      "execution_count": 0,
      "outputs": []
    },
    {
      "cell_type": "code",
      "metadata": {
        "colab_type": "code",
        "outputId": "ed3226a3-c0be-45a4-8930-1e149d2a9254",
        "id": "Piwkg0BOxTOS",
        "colab": {
          "base_uri": "https://localhost:8080/",
          "height": 344
        }
      },
      "source": [
        "# XGBoost\n",
        "from xgboost import XGBClassifier # XGB 分類器\n",
        "from xgboost import plot_importance # XGB特徵重要性\n",
        "\n",
        "xgbc = XGBClassifier()\n",
        "# fit the training dataset on the classifier\n",
        "xgbc.fit(xtrain_tfidf,train_y_en)\n",
        "# predict the labels on validation dataset\n",
        "valid_y_pred_xgbc = xgbc.predict(xvalid_tfidf)\n",
        "\n",
        "accuracy_xgb = metrics.accuracy_score(valid_y_en, valid_y_pred_xgbc)\n",
        "confusion_matrix_xgb = metrics.confusion_matrix(valid_y_en, valid_y_pred_xgbc, labels=[0,1])\n",
        "print (\"Accuracy\", accuracy_xgb)\n",
        "F1_score=metrics.f1_score(valid_y_en, valid_y_pred_xgbc)\n",
        "print (\"confusion_matrix\\n\", confusion_matrix_xgb)\n",
        "cm_plot(valid_y_en, valid_y_pred_xgbc)"
      ],
      "execution_count": 0,
      "outputs": [
        {
          "output_type": "stream",
          "text": [
            "Accuracy 0.764\n",
            "confusion_matrix\n",
            " [[416  94]\n",
            " [142 348]]\n"
          ],
          "name": "stdout"
        },
        {
          "output_type": "display_data",
          "data": {
            "text/plain": [
              "<Figure size 432x288 with 0 Axes>"
            ]
          },
          "metadata": {
            "tags": []
          }
        },
        {
          "output_type": "display_data",
          "data": {
            "image/png": "[encoded data removed]",
            "text/plain": [
              "<Figure size 288x288 with 2 Axes>"
            ]
          },
          "metadata": {
            "tags": [],
            "needs_background": "light"
          }
        }
      ]
    },
    {
      "cell_type": "code",
      "metadata": {
        "id": "ttKt4-tsrMGX",
        "colab_type": "code",
        "outputId": "51877d52-3970-4d2e-b0d5-89b571bab865",
        "colab": {
          "base_uri": "https://localhost:8080/",
          "height": 295
        }
      },
      "source": [
        "plot_importance(xgbc,max_num_features = 20)\n",
        "plt.show()"
      ],
      "execution_count": 0,
      "outputs": [
        {
          "output_type": "display_data",
          "data": {
            "image/png": "[encoded data removed]",
            "text/plain": [
              "<Figure size 432x288 with 1 Axes>"
            ]
          },
          "metadata": {
            "tags": [],
            "needs_background": "light"
          }
        }
      ]
    },
    {
      "cell_type": "code",
      "metadata": {
        "id": "N2DC8XQOrdf4",
        "colab_type": "code",
        "outputId": "7cfc6dbc-0d09-42ad-f755-2d90d84fdd2c",
        "colab": {
          "base_uri": "https://localhost:8080/",
          "height": 920
        }
      },
      "source": [
        "# User DNN\n",
        "dnn = build_model2(in_layer=9453,hid_layer1=500,hid_layer2=500)\n",
        "X_train,Y_train,X_test,Y_test = xtrain_tfidf,train_y_en,xvalid_tfidf,valid_y_en\n",
        "Y_train_array = np.array(Y_train)\n",
        "Y_train_onehot = np_utils.to_categorical(Y_train_array)\n",
        "Y_test_array = np.array(Y_test)\n",
        "Y_test_onehot = np_utils.to_categorical(Y_test_array)\n",
        "\n",
        "train_history = dnn.fit(\n",
        "    x=X_train,\n",
        "    y=Y_train_onehot,\n",
        "    validation_split=0.2,\n",
        "    epochs=5,batch_size=500,verbose=2)\n",
        "\n",
        "valid_y_pred_DNN = dnn.predict_classes(xvalid_tfidf)\n",
        "accuracy_DNN = metrics.accuracy_score(valid_y_en, valid_y_pred_DNN)\n",
        "confusion_matrix_DNN = metrics.confusion_matrix(valid_y_en, valid_y_pred_DNN, labels=[0,1])\n",
        "print (\"Accuracy\", accuracy_DNN)\n",
        "F1_score=metrics.f1_score(valid_y_en, valid_y_pred_DNN)\n",
        "print (\"F-score\", F1_score)\n",
        "print (\"confusion_matrix\\n\", confusion_matrix_DNN)\n",
        "cm_plot(valid_y_en, valid_y_pred_DNN)"
      ],
      "execution_count": 0,
      "outputs": [
        {
          "output_type": "stream",
          "text": [
            "Model: \"sequential_2\"\n",
            "_________________________________________________________________\n",
            "Layer (type)                 Output Shape              Param #   \n",
            "=================================================================\n",
            "dropout_3 (Dropout)          (None, 9453)              0         \n",
            "_________________________________________________________________\n",
            "dense_3 (Dense)              (None, 500)               4727000   \n",
            "_________________________________________________________________\n",
            "activation_4 (Activation)    (None, 500)               0         \n",
            "_________________________________________________________________\n",
            "dropout_4 (Dropout)          (None, 500)               0         \n",
            "_________________________________________________________________\n",
            "activation_5 (Activation)    (None, 500)               0         \n",
            "_________________________________________________________________\n",
            "dense_4 (Dense)              (None, 2)                 1002      \n",
            "_________________________________________________________________\n",
            "activation_6 (Activation)    (None, 2)                 0         \n",
            "=================================================================\n",
            "Total params: 4,728,002\n",
            "Trainable params: 4,728,002\n",
            "Non-trainable params: 0\n",
            "_________________________________________________________________\n",
            "Train on 7200 samples, validate on 1800 samples\n",
            "Epoch 1/5\n",
            " - 5s - loss: 0.6804 - accuracy: 0.6649 - val_loss: 0.6530 - val_accuracy: 0.7878\n",
            "Epoch 2/5\n",
            " - 4s - loss: 0.6021 - accuracy: 0.8422 - val_loss: 0.5596 - val_accuracy: 0.8144\n",
            "Epoch 3/5\n",
            " - 4s - loss: 0.4769 - accuracy: 0.8600 - val_loss: 0.4609 - val_accuracy: 0.8256\n",
            "Epoch 4/5\n",
            " - 4s - loss: 0.3651 - accuracy: 0.8757 - val_loss: 0.3983 - val_accuracy: 0.8317\n",
            "Epoch 5/5\n",
            " - 4s - loss: 0.2903 - accuracy: 0.8968 - val_loss: 0.3763 - val_accuracy: 0.8333\n",
            "Accuracy 0.835\n",
            "F-score 0.8283038501560874\n",
            "confusion_matrix\n",
            " [[437  73]\n",
            " [ 92 398]]\n"
          ],
          "name": "stdout"
        },
        {
          "output_type": "display_data",
          "data": {
            "text/plain": [
              "<Figure size 432x288 with 0 Axes>"
            ]
          },
          "metadata": {
            "tags": []
          }
        },
        {
          "output_type": "display_data",
          "data": {
            "image/png": "[encoded data removed]",
            "text/plain": [
              "<Figure size 288x288 with 2 Axes>"
            ]
          },
          "metadata": {
            "tags": [],
            "needs_background": "light"
          }
        }
      ]
    },
    {
      "cell_type": "markdown",
      "metadata": {
        "id": "_d1Cm0r7zwCT",
        "colab_type": "text"
      },
      "source": [
        "## max_features 50000"
      ]
    },
    {
      "cell_type": "code",
      "metadata": {
        "colab_type": "code",
        "id": "tOiN1wsdxLzf",
        "colab": {}
      },
      "source": [
        "MAX_FEATURES = 50000"
      ],
      "execution_count": 0,
      "outputs": []
    },
    {
      "cell_type": "markdown",
      "metadata": {
        "colab_type": "text",
        "id": "L93FSuEjxLzm"
      },
      "source": [
        "#### Without POS"
      ]
    },
    {
      "cell_type": "markdown",
      "metadata": {
        "colab_type": "text",
        "id": "FA2df-MHxLzn"
      },
      "source": [
        "**Split Training - Testing data for validation**"
      ]
    },
    {
      "cell_type": "code",
      "metadata": {
        "colab_type": "code",
        "id": "ivYRUAYKxLzp",
        "colab": {}
      },
      "source": [
        "from sklearn import model_selection\n",
        "\n",
        "# split the dataset into training and testing \n",
        "train_x, valid_x, train_y, valid_y = model_selection.train_test_split(amazon_reviewDF['text'], \n",
        "                                                      amazon_reviewDF['label'],test_size=0.1,random_state=1)\n",
        "\n",
        "#test_size = 0.1 mean 90% data is used for traning data, 10% for testing data.\n",
        "\n",
        "\n",
        "from sklearn import preprocessing\n",
        "# encode the target variable, label Negative/Positive -> 0/1\n",
        "encoder = preprocessing.LabelEncoder()\n",
        "train_y_en = encoder.fit_transform(train_y)\n",
        "valid_y_en = encoder.fit_transform(valid_y)\n",
        "\n",
        "from sklearn.feature_extraction.text import TfidfVectorizer\n",
        "# word level tf-idf\n",
        "tfidf_vect = TfidfVectorizer(stop_words='english',  max_features = MAX_FEATURES)\n",
        "tfidf_vect.fit(train_x) #Learn vocabulary and idf from training data set. (in bad words)\n",
        "xtrain_tfidf =  tfidf_vect.transform(train_x) # compute tfidf for tranning data set\n",
        "xvalid_tfidf =  tfidf_vect.transform(valid_x) # compute tfidf for testing data set"
      ],
      "execution_count": 0,
      "outputs": []
    },
    {
      "cell_type": "code",
      "metadata": {
        "colab_type": "code",
        "outputId": "1d6f9113-6b0e-4c9c-9cb7-dfca955d1d18",
        "id": "zCjm5mFBxLzs",
        "colab": {
          "base_uri": "https://localhost:8080/",
          "height": 359
        }
      },
      "source": [
        "from sklearn import tree,  metrics\n",
        "classifier_tree = tree.DecisionTreeClassifier(random_state=1)\n",
        "# fit the training dataset on the classifier\n",
        "classifier_tree =classifier_tree.fit(xtrain_tfidf, train_y_en)\n",
        "\n",
        "# predict the labels on validation dataset\n",
        "valid_y_pred_tree = classifier_tree.predict(xvalid_tfidf)\n",
        "accuracy_tree = metrics.accuracy_score(valid_y_en, valid_y_pred_tree)\n",
        "confusion_matrix_tree = metrics.confusion_matrix(valid_y_en, valid_y_pred_tree, labels=[0,1])\n",
        "print (\"Accuracy\", accuracy_tree)\n",
        "F1_score1=metrics.f1_score(valid_y_en, valid_y_pred_tree)\n",
        "print (\"F-score\", F1_score1)\n",
        "print (\"confusion_matrix\\n\", confusion_matrix_tree)\n",
        "cm_plot(valid_y_en,valid_y_pred_tree)"
      ],
      "execution_count": 0,
      "outputs": [
        {
          "output_type": "stream",
          "text": [
            "Accuracy 0.72\n",
            "F-score 0.714867617107943\n",
            "confusion_matrix\n",
            " [[369 141]\n",
            " [139 351]]\n"
          ],
          "name": "stdout"
        },
        {
          "output_type": "display_data",
          "data": {
            "text/plain": [
              "<Figure size 432x288 with 0 Axes>"
            ]
          },
          "metadata": {
            "tags": []
          }
        },
        {
          "output_type": "display_data",
          "data": {
            "image/png": "[encoded data removed]",
            "text/plain": [
              "<Figure size 288x288 with 2 Axes>"
            ]
          },
          "metadata": {
            "tags": [],
            "needs_background": "light"
          }
        }
      ]
    },
    {
      "cell_type": "markdown",
      "metadata": {
        "colab_type": "text",
        "id": "uRxtbi-qxLzw"
      },
      "source": [
        "**Use RandomForestClassifier- Full code**"
      ]
    },
    {
      "cell_type": "code",
      "metadata": {
        "colab_type": "code",
        "outputId": "89d90e1a-db6a-48fd-ad68-4331bd9b5d1f",
        "id": "Qe96KEuZxLzx",
        "colab": {
          "base_uri": "https://localhost:8080/",
          "height": 359
        }
      },
      "source": [
        "from sklearn import ensemble\n",
        "classifier_rf = ensemble.RandomForestClassifier(random_state= 1)\n",
        "# fit the training dataset on the classifier\n",
        "classifier_rf.fit(xtrain_tfidf, train_y_en)\n",
        "\n",
        "# predict the labels on validation dataset\n",
        "valid_y_pred_rf = classifier_rf.predict(xvalid_tfidf)\n",
        "\n",
        "accuracy_rf = metrics.accuracy_score(valid_y_en, valid_y_pred_rf)\n",
        "confusion_matrix_rf = metrics.confusion_matrix(valid_y_en, valid_y_pred_rf, labels=[0,1])\n",
        "F1_score=metrics.f1_score(valid_y_en, valid_y_pred_rf)\n",
        "print (\"Accuracy\", accuracy_rf)\n",
        "print (\"F-score\", F1_score)\n",
        "print (\"confusion_matrix\\n\", confusion_matrix_rf)\n",
        "cm_plot(valid_y_en,valid_y_pred_rf)"
      ],
      "execution_count": 0,
      "outputs": [
        {
          "output_type": "stream",
          "text": [
            "Accuracy 0.839\n",
            "F-score 0.8338493292053664\n",
            "confusion_matrix\n",
            " [[435  75]\n",
            " [ 86 404]]\n"
          ],
          "name": "stdout"
        },
        {
          "output_type": "display_data",
          "data": {
            "text/plain": [
              "<Figure size 432x288 with 0 Axes>"
            ]
          },
          "metadata": {
            "tags": []
          }
        },
        {
          "output_type": "display_data",
          "data": {
            "image/png": "[encoded data removed]",
            "text/plain": [
              "<Figure size 288x288 with 2 Axes>"
            ]
          },
          "metadata": {
            "tags": [],
            "needs_background": "light"
          }
        }
      ]
    },
    {
      "cell_type": "markdown",
      "metadata": {
        "colab_type": "text",
        "id": "KocEAK3dxLz1"
      },
      "source": [
        "**Use Neural Network- Multi-layer Perceptron classifier.**"
      ]
    },
    {
      "cell_type": "code",
      "metadata": {
        "colab_type": "code",
        "outputId": "7253a23d-f975-40c4-96e3-64bebb77bcd8",
        "id": "KBHkJAWzxLz2",
        "colab": {
          "base_uri": "https://localhost:8080/",
          "height": 359
        }
      },
      "source": [
        "from sklearn.neural_network import MLPClassifier\n",
        "classifier_nn = MLPClassifier(random_state=1)\n",
        "# fit the training dataset on the classifier\n",
        "classifier_nn.fit(xtrain_tfidf, train_y_en) # take around 3-4 minutes\n",
        "\n",
        "# predict the labels on validation dataset\n",
        "valid_y_pred_nn = classifier_nn.predict(xvalid_tfidf)\n",
        "\n",
        "accuracy_nn = metrics.accuracy_score(valid_y_en, valid_y_pred_nn)\n",
        "confusion_matrix_nn = metrics.confusion_matrix(valid_y_en, valid_y_pred_nn, labels=[0,1])\n",
        "print (\"Accuracy\", accuracy_nn)\n",
        "F1_score=metrics.f1_score(valid_y_en, valid_y_pred_nn)\n",
        "print (\"F-score\", F1_score)\n",
        "print (\"confusion_matrix\\n\", confusion_matrix_nn)\n",
        "cm_plot(valid_y_en,valid_y_pred_nn)"
      ],
      "execution_count": 0,
      "outputs": [
        {
          "output_type": "stream",
          "text": [
            "Accuracy 0.842\n",
            "F-score 0.8381147540983608\n",
            "confusion_matrix\n",
            " [[433  77]\n",
            " [ 81 409]]\n"
          ],
          "name": "stdout"
        },
        {
          "output_type": "display_data",
          "data": {
            "text/plain": [
              "<Figure size 432x288 with 0 Axes>"
            ]
          },
          "metadata": {
            "tags": []
          }
        },
        {
          "output_type": "display_data",
          "data": {
            "image/png": "[encoded data removed]",
            "text/plain": [
              "<Figure size 288x288 with 2 Axes>"
            ]
          },
          "metadata": {
            "tags": [],
            "needs_background": "light"
          }
        }
      ]
    },
    {
      "cell_type": "code",
      "metadata": {
        "colab_type": "code",
        "id": "0aS0Bi2zxLz4",
        "colab": {}
      },
      "source": [
        "# neural network (user setting)"
      ],
      "execution_count": 0,
      "outputs": []
    },
    {
      "cell_type": "markdown",
      "metadata": {
        "id": "17XTdleIw6sN",
        "colab_type": "text"
      },
      "source": [
        "**Use XGBoost**"
      ]
    },
    {
      "cell_type": "code",
      "metadata": {
        "id": "_35FWDlGw-9p",
        "colab_type": "code",
        "outputId": "7bdf2672-bc14-4eef-f0d4-959738e6940f",
        "colab": {
          "base_uri": "https://localhost:8080/",
          "height": 342
        }
      },
      "source": [
        "# XGBoost\n",
        "from xgboost import XGBClassifier # XGB 分類器\n",
        "from xgboost import plot_importance # XGB特徵重要性\n",
        "\n",
        "xgbc = XGBClassifier()\n",
        "# fit the training dataset on the classifier\n",
        "xgbc.fit(xtrain_tfidf,train_y_en)\n",
        "# predict the labels on validation dataset\n",
        "valid_y_pred_xgbc = xgbc.predict(xvalid_tfidf)\n",
        "\n",
        "accuracy_xgb = metrics.accuracy_score(valid_y_en, valid_y_pred_xgbc)\n",
        "confusion_matrix_xgb = metrics.confusion_matrix(valid_y_en, valid_y_pred_xgbc, labels=[0,1])\n",
        "print (\"Accuracy\", accuracy_xgb)\n",
        "F1_score=metrics.f1_score(valid_y_en, valid_y_pred_xgbc)\n",
        "print (\"confusion_matrix\\n\", confusion_matrix_xgb)\n",
        "cm_plot(valid_y_en, valid_y_pred_xgbc)"
      ],
      "execution_count": 0,
      "outputs": [
        {
          "output_type": "stream",
          "text": [
            "Accuracy 0.783\n",
            "confusion_matrix\n",
            " [[420  90]\n",
            " [127 363]]\n"
          ],
          "name": "stdout"
        },
        {
          "output_type": "display_data",
          "data": {
            "text/plain": [
              "<Figure size 432x288 with 0 Axes>"
            ]
          },
          "metadata": {
            "tags": []
          }
        },
        {
          "output_type": "display_data",
          "data": {
            "image/png": "[encoded data removed]",
            "text/plain": [
              "<Figure size 288x288 with 2 Axes>"
            ]
          },
          "metadata": {
            "tags": [],
            "needs_background": "light"
          }
        }
      ]
    },
    {
      "cell_type": "code",
      "metadata": {
        "id": "rHzuvLOI7J3m",
        "colab_type": "code",
        "outputId": "31677e35-d291-4d8d-dbe0-bc520f2b7704",
        "colab": {
          "base_uri": "https://localhost:8080/",
          "height": 561
        }
      },
      "source": [
        "# User DNN\n",
        "dnn = build_model2(29640,500,100,2)\n",
        "X_train,Y_train,X_test,Y_test = xtrain_tfidf,train_y_en,xvalid_tfidf,valid_y_en\n",
        "Y_train_array = np.array(Y_train)\n",
        "Y_train_onehot = np_utils.to_categorical(Y_train_array)\n",
        "Y_test_array = np.array(Y_test)\n",
        "Y_test_onehot = np_utils.to_categorical(Y_test_array)\n",
        "\n",
        "train_history = dnn.fit(\n",
        "    x=X_train,\n",
        "    y=Y_train_onehot,\n",
        "    validation_split=0.2,\n",
        "    epochs=10,batch_size=100,verbose=2)\n",
        "\n",
        "valid_y_pred_DNN = dnn.predict_classes(xvalid_tfidf)\n",
        "accuracy_DNN = metrics.accuracy_score(valid_y_en, valid_y_pred_DNN)\n",
        "confusion_matrix_DNN = metrics.confusion_matrix(valid_y_en, valid_y_pred_DNN, labels=[0,1])\n",
        "print (\"Accuracy\", accuracy_DNN)\n",
        "F1_score=metrics.f1_score(valid_y_en, valid_y_pred_DNN)\n",
        "print (\"F-score\", F1_score)\n",
        "print (\"confusion_matrix\\n\", confusion_matrix_DNN)\n",
        "cm_plot(valid_y_en, valid_y_pred_DNN)"
      ],
      "execution_count": 0,
      "outputs": [
        {
          "output_type": "stream",
          "text": [
            "Model: \"sequential_14\"\n",
            "_________________________________________________________________\n",
            "Layer (type)                 Output Shape              Param #   \n",
            "=================================================================\n",
            "dropout_9 (Dropout)          (None, 29640)             0         \n",
            "_________________________________________________________________\n",
            "dense_34 (Dense)             (None, 500)               14820500  \n",
            "_________________________________________________________________\n",
            "activation_34 (Activation)   (None, 500)               0         \n",
            "_________________________________________________________________\n",
            "dense_35 (Dense)             (None, 100)               50100     \n",
            "_________________________________________________________________\n",
            "activation_35 (Activation)   (None, 100)               0         \n",
            "_________________________________________________________________\n",
            "dense_36 (Dense)             (None, 2)                 202       \n",
            "_________________________________________________________________\n",
            "activation_36 (Activation)   (None, 2)                 0         \n",
            "=================================================================\n",
            "Total params: 14,870,802\n",
            "Trainable params: 14,870,802\n",
            "Non-trainable params: 0\n",
            "_________________________________________________________________\n",
            "Train on 7200 samples, validate on 1800 samples\n",
            "Epoch 1/10\n",
            " - 21s - loss: 0.4908 - accuracy: 0.7800 - val_loss: 0.3610 - val_accuracy: 0.8444\n",
            "Epoch 2/10\n",
            " - 21s - loss: 0.1637 - accuracy: 0.9394 - val_loss: 0.4123 - val_accuracy: 0.8383\n",
            "Epoch 3/10\n",
            " - 21s - loss: 0.0650 - accuracy: 0.9760 - val_loss: 0.5295 - val_accuracy: 0.8200\n",
            "Epoch 4/10\n",
            " - 21s - loss: 0.0447 - accuracy: 0.9826 - val_loss: 0.5598 - val_accuracy: 0.8317\n",
            "Epoch 5/10\n"
          ],
          "name": "stdout"
        }
      ]
    },
    {
      "cell_type": "markdown",
      "metadata": {
        "colab_type": "text",
        "id": "1JTx_cfNxLz8"
      },
      "source": [
        "#### With POS"
      ]
    },
    {
      "cell_type": "code",
      "metadata": {
        "colab_type": "code",
        "id": "25wS2PHdxLz9",
        "colab": {}
      },
      "source": [
        "amazon_reviewDF_lem_pos = pd.read_csv(mydrive+\"Amazon_review_lem_pos_vaa.csv\",delimiter=',',header = None)\n",
        "amazon_reviewDF_lem_pos.columns=['text', 'label']"
      ],
      "execution_count": 0,
      "outputs": []
    },
    {
      "cell_type": "code",
      "metadata": {
        "id": "C-RKf_R5PqQE",
        "colab_type": "code",
        "outputId": "f0df5e04-ba4b-40a7-a727-31714c694647",
        "colab": {
          "base_uri": "https://localhost:8080/",
          "height": 54
        }
      },
      "source": [
        "amazon_reviewDF_lem_pos['text'][1]"
      ],
      "execution_count": 0,
      "outputs": [
        {
          "output_type": "execute_result",
          "data": {
            "text/plain": [
              "'stun even non - gamer sound beautiful paint so would recomend even hate play ever play good back away crude take soulful would impress care listen'"
            ]
          },
          "metadata": {
            "tags": []
          },
          "execution_count": 57
        }
      ]
    },
    {
      "cell_type": "code",
      "metadata": {
        "colab_type": "code",
        "id": "qsIM-Bj2xLz_",
        "colab": {}
      },
      "source": [
        "from sklearn import model_selection\n",
        "\n",
        "# split the dataset into training and testing \n",
        "train_x, valid_x, train_y, valid_y = model_selection.train_test_split(amazon_reviewDF_lem_pos['text'], \n",
        "                                                      amazon_reviewDF_lem_pos['label'],test_size=0.1,random_state=1)\n",
        "\n",
        "#test_size = 0.1 mean 90% data is used for traning data, 10% for testing data.\n",
        "\n",
        "\n",
        "from sklearn import preprocessing\n",
        "# encode the target variable, label Negative/Positive -> 0/1\n",
        "encoder = preprocessing.LabelEncoder()\n",
        "train_y_en = encoder.fit_transform(train_y)\n",
        "valid_y_en = encoder.fit_transform(valid_y)\n",
        "\n",
        "from sklearn.feature_extraction.text import TfidfVectorizer\n",
        "# word level tf-idf\n",
        "tfidf_vect = TfidfVectorizer(stop_words='english',  max_features = MAX_FEATURES)\n",
        "tfidf_vect.fit(train_x.astype('U')) #Learn vocabulary and idf from training data set. (in bad words)\n",
        "xtrain_tfidf =  tfidf_vect.transform(train_x.astype('U')) # compute tfidf for tranning data set\n",
        "xvalid_tfidf =  tfidf_vect.transform(valid_x.astype('U')) # compute tfidf for testing data set"
      ],
      "execution_count": 0,
      "outputs": []
    },
    {
      "cell_type": "code",
      "metadata": {
        "colab_type": "code",
        "outputId": "188416c9-78e9-49cf-becc-f91a4a41a8c6",
        "id": "XPYxyN8pxL0C",
        "colab": {
          "base_uri": "https://localhost:8080/",
          "height": 359
        }
      },
      "source": [
        "from sklearn import tree,  metrics\n",
        "classifier_tree = tree.DecisionTreeClassifier(random_state=1)\n",
        "# fit the training dataset on the classifier\n",
        "classifier_tree =classifier_tree.fit(xtrain_tfidf, train_y_en)\n",
        "\n",
        "# predict the labels on validation dataset\n",
        "valid_y_pred_tree = classifier_tree.predict(xvalid_tfidf)\n",
        "accuracy_tree = metrics.accuracy_score(valid_y_en, valid_y_pred_tree)\n",
        "confusion_matrix_tree = metrics.confusion_matrix(valid_y_en, valid_y_pred_tree, labels=[0,1])\n",
        "print (\"Accuracy\", accuracy_tree)\n",
        "F1_score1=metrics.f1_score(valid_y_en, valid_y_pred_tree)\n",
        "print (\"F-score\", F1_score1)\n",
        "print (\"confusion_matrix\\n\", confusion_matrix_tree)\n",
        "cm_plot(valid_y_en,valid_y_pred_tree)"
      ],
      "execution_count": 0,
      "outputs": [
        {
          "output_type": "stream",
          "text": [
            "Accuracy 0.6973026973026973\n",
            "F-score 0.686659772492244\n",
            "confusion_matrix\n",
            " [[366 171]\n",
            " [132 332]]\n"
          ],
          "name": "stdout"
        },
        {
          "output_type": "display_data",
          "data": {
            "text/plain": [
              "<Figure size 432x288 with 0 Axes>"
            ]
          },
          "metadata": {
            "tags": []
          }
        },
        {
          "output_type": "display_data",
          "data": {
            "image/png": "[encoded data removed]",
            "text/plain": [
              "<Figure size 288x288 with 2 Axes>"
            ]
          },
          "metadata": {
            "tags": [],
            "needs_background": "light"
          }
        }
      ]
    },
    {
      "cell_type": "markdown",
      "metadata": {
        "colab_type": "text",
        "id": "UMN3gZBhxL0H"
      },
      "source": [
        "**Use RandomForestClassifier- Full code**"
      ]
    },
    {
      "cell_type": "code",
      "metadata": {
        "colab_type": "code",
        "outputId": "2de7ffd0-9fdf-40c8-cb5e-60113de59b0a",
        "id": "UUL8b_h1xL0H",
        "colab": {
          "base_uri": "https://localhost:8080/",
          "height": 359
        }
      },
      "source": [
        "from sklearn import ensemble\n",
        "classifier_rf = ensemble.RandomForestClassifier(random_state= 1)\n",
        "# fit the training dataset on the classifier\n",
        "classifier_rf.fit(xtrain_tfidf, train_y_en)\n",
        "\n",
        "# predict the labels on validation dataset\n",
        "valid_y_pred_rf = classifier_rf.predict(xvalid_tfidf)\n",
        "\n",
        "accuracy_rf = metrics.accuracy_score(valid_y_en, valid_y_pred_rf)\n",
        "confusion_matrix_rf = metrics.confusion_matrix(valid_y_en, valid_y_pred_rf, labels=[0,1])\n",
        "F1_score=metrics.f1_score(valid_y_en, valid_y_pred_rf)\n",
        "print (\"Accuracy\", accuracy_rf)\n",
        "print (\"F-score\", F1_score)\n",
        "print (\"confusion_matrix\\n\", confusion_matrix_rf)\n",
        "cm_plot(valid_y_en,valid_y_pred_rf)"
      ],
      "execution_count": 0,
      "outputs": [
        {
          "output_type": "stream",
          "text": [
            "Accuracy 0.8071928071928072\n",
            "F-score 0.7944621938232163\n",
            "confusion_matrix\n",
            " [[435 102]\n",
            " [ 91 373]]\n"
          ],
          "name": "stdout"
        },
        {
          "output_type": "display_data",
          "data": {
            "text/plain": [
              "<Figure size 432x288 with 0 Axes>"
            ]
          },
          "metadata": {
            "tags": []
          }
        },
        {
          "output_type": "display_data",
          "data": {
            "image/png": "[encoded data removed]",
            "text/plain": [
              "<Figure size 288x288 with 2 Axes>"
            ]
          },
          "metadata": {
            "tags": [],
            "needs_background": "light"
          }
        }
      ]
    },
    {
      "cell_type": "markdown",
      "metadata": {
        "colab_type": "text",
        "id": "eYcuKagdxL0K"
      },
      "source": [
        "**Use Neural Network- Multi-layer Perceptron classifier.**"
      ]
    },
    {
      "cell_type": "code",
      "metadata": {
        "colab_type": "code",
        "outputId": "8764586e-96cd-4eec-b70a-ef1d20eb0c5e",
        "id": "qZxtjX_BxL0K",
        "colab": {
          "base_uri": "https://localhost:8080/",
          "height": 359
        }
      },
      "source": [
        "from sklearn.neural_network import MLPClassifier\n",
        "classifier_nn = MLPClassifier(random_state=1)\n",
        "# fit the training dataset on the classifier\n",
        "classifier_nn.fit(xtrain_tfidf, train_y_en) # take around 3-4 minutes\n",
        "\n",
        "# predict the labels on validation dataset\n",
        "valid_y_pred_nn = classifier_nn.predict(xvalid_tfidf)\n",
        "\n",
        "accuracy_nn = metrics.accuracy_score(valid_y_en, valid_y_pred_nn)\n",
        "confusion_matrix_nn = metrics.confusion_matrix(valid_y_en, valid_y_pred_nn, labels=[0,1])\n",
        "print (\"Accuracy\", accuracy_nn)\n",
        "F1_score=metrics.f1_score(valid_y_en, valid_y_pred_nn)\n",
        "print (\"F-score\", F1_score)\n",
        "print (\"confusion_matrix\\n\", confusion_matrix_nn)\n",
        "cm_plot(valid_y_en,valid_y_pred_nn)"
      ],
      "execution_count": 0,
      "outputs": [
        {
          "output_type": "stream",
          "text": [
            "Accuracy 0.7802197802197802\n",
            "F-score 0.7659574468085106\n",
            "confusion_matrix\n",
            " [[421 116]\n",
            " [104 360]]\n"
          ],
          "name": "stdout"
        },
        {
          "output_type": "display_data",
          "data": {
            "text/plain": [
              "<Figure size 432x288 with 0 Axes>"
            ]
          },
          "metadata": {
            "tags": []
          }
        },
        {
          "output_type": "display_data",
          "data": {
            "image/png": "[encoded data removed]",
            "text/plain": [
              "<Figure size 288x288 with 2 Axes>"
            ]
          },
          "metadata": {
            "tags": [],
            "needs_background": "light"
          }
        }
      ]
    },
    {
      "cell_type": "code",
      "metadata": {
        "colab_type": "code",
        "id": "Im5pAyDsxL0N",
        "colab": {}
      },
      "source": [
        "# neural network (user setting)"
      ],
      "execution_count": 0,
      "outputs": []
    },
    {
      "cell_type": "code",
      "metadata": {
        "id": "PeuhGiRwyQYN",
        "colab_type": "code",
        "outputId": "2a02ee4e-97aa-4c9d-c8a4-dfd5703d8a17",
        "colab": {
          "base_uri": "https://localhost:8080/",
          "height": 342
        }
      },
      "source": [
        "# XGBoost\n",
        "from xgboost import XGBClassifier # XGB 分類器\n",
        "from xgboost import plot_importance # XGB特徵重要性\n",
        "\n",
        "xgbc = XGBClassifier()\n",
        "# fit the training dataset on the classifier\n",
        "xgbc.fit(xtrain_tfidf,train_y_en)\n",
        "# predict the labels on validation dataset\n",
        "valid_y_pred_xgbc = xgbc.predict(xvalid_tfidf)\n",
        "\n",
        "accuracy_xgb = metrics.accuracy_score(valid_y_en, valid_y_pred_xgbc)\n",
        "confusion_matrix_xgb = metrics.confusion_matrix(valid_y_en, valid_y_pred_xgbc, labels=[0,1])\n",
        "print (\"Accuracy\", accuracy_xgb)\n",
        "F1_score=metrics.f1_score(valid_y_en, valid_y_pred_xgbc)\n",
        "print (\"confusion_matrix\\n\", confusion_matrix_xgb)\n",
        "cm_plot(valid_y_en, valid_y_pred_xgbc)"
      ],
      "execution_count": 0,
      "outputs": [
        {
          "output_type": "stream",
          "text": [
            "Accuracy 0.7542457542457542\n",
            "confusion_matrix\n",
            " [[429 108]\n",
            " [138 326]]\n"
          ],
          "name": "stdout"
        },
        {
          "output_type": "display_data",
          "data": {
            "text/plain": [
              "<Figure size 432x288 with 0 Axes>"
            ]
          },
          "metadata": {
            "tags": []
          }
        },
        {
          "output_type": "display_data",
          "data": {
            "image/png": "[encoded data removed]",
            "text/plain": [
              "<Figure size 288x288 with 2 Axes>"
            ]
          },
          "metadata": {
            "tags": [],
            "needs_background": "light"
          }
        }
      ]
    },
    {
      "cell_type": "markdown",
      "metadata": {
        "colab_type": "text",
        "id": "8-uHDGY9xdKR"
      },
      "source": [
        "## MAX_FEATURES = 3000"
      ]
    },
    {
      "cell_type": "code",
      "metadata": {
        "colab_type": "code",
        "id": "60G9yGKYxdKa",
        "colab": {}
      },
      "source": [
        "MAX_FEATURES = 3000"
      ],
      "execution_count": 0,
      "outputs": []
    },
    {
      "cell_type": "markdown",
      "metadata": {
        "colab_type": "text",
        "id": "onSZrXRWxdKk"
      },
      "source": [
        "#### Without POS"
      ]
    },
    {
      "cell_type": "markdown",
      "metadata": {
        "colab_type": "text",
        "id": "tHBm50KhxdKl"
      },
      "source": [
        "**Split Training - Testing data for validation**"
      ]
    },
    {
      "cell_type": "code",
      "metadata": {
        "colab_type": "code",
        "id": "lQ0-azF-xdKm",
        "colab": {}
      },
      "source": [
        "from sklearn import model_selection\n",
        "\n",
        "# split the dataset into training and testing \n",
        "train_x, valid_x, train_y, valid_y = model_selection.train_test_split(amazon_reviewDF['text'], \n",
        "                                                      amazon_reviewDF['label'],test_size=0.1,random_state=1)\n",
        "\n",
        "#test_size = 0.1 mean 90% data is used for traning data, 10% for testing data.\n",
        "\n",
        "\n",
        "from sklearn import preprocessing\n",
        "# encode the target variable, label Negative/Positive -> 0/1\n",
        "encoder = preprocessing.LabelEncoder()\n",
        "train_y_en = encoder.fit_transform(train_y)\n",
        "valid_y_en = encoder.fit_transform(valid_y)\n",
        "\n",
        "from sklearn.feature_extraction.text import TfidfVectorizer\n",
        "# word level tf-idf\n",
        "tfidf_vect = TfidfVectorizer(stop_words='english',  max_features = MAX_FEATURES)\n",
        "tfidf_vect.fit(train_x) #Learn vocabulary and idf from training data set. (in bad words)\n",
        "xtrain_tfidf =  tfidf_vect.transform(train_x) # compute tfidf for tranning data set\n",
        "xvalid_tfidf =  tfidf_vect.transform(valid_x) # compute tfidf for testing data set"
      ],
      "execution_count": 0,
      "outputs": []
    },
    {
      "cell_type": "code",
      "metadata": {
        "colab_type": "code",
        "outputId": "b528bda3-7dab-443c-d63c-f3aa1fad47b8",
        "id": "sFMCTjjbxdKp",
        "colab": {
          "base_uri": "https://localhost:8080/",
          "height": 362
        }
      },
      "source": [
        "from sklearn import tree,  metrics\n",
        "classifier_tree = tree.DecisionTreeClassifier(random_state=1)\n",
        "# fit the training dataset on the classifier\n",
        "classifier_tree =classifier_tree.fit(xtrain_tfidf, train_y_en)\n",
        "\n",
        "# predict the labels on validation dataset\n",
        "valid_y_pred_tree = classifier_tree.predict(xvalid_tfidf)\n",
        "accuracy_tree = metrics.accuracy_score(valid_y_en, valid_y_pred_tree)\n",
        "confusion_matrix_tree = metrics.confusion_matrix(valid_y_en, valid_y_pred_tree, labels=[0,1])\n",
        "print (\"Accuracy\", accuracy_tree)\n",
        "F1_score1=metrics.f1_score(valid_y_en, valid_y_pred_tree)\n",
        "print (\"F-score\", F1_score1)\n",
        "print (\"confusion_matrix\\n\", confusion_matrix_tree)\n",
        "cm_plot(valid_y_en,valid_y_pred_tree)"
      ],
      "execution_count": 0,
      "outputs": [
        {
          "output_type": "stream",
          "text": [
            "Accuracy 0.702\n",
            "F-score 0.6971544715447154\n",
            "confusion_matrix\n",
            " [[359 151]\n",
            " [147 343]]\n"
          ],
          "name": "stdout"
        },
        {
          "output_type": "display_data",
          "data": {
            "text/plain": [
              "<Figure size 432x288 with 0 Axes>"
            ]
          },
          "metadata": {
            "tags": []
          }
        },
        {
          "output_type": "display_data",
          "data": {
            "image/png": "[encoded data removed]",
            "text/plain": [
              "<Figure size 288x288 with 2 Axes>"
            ]
          },
          "metadata": {
            "tags": [],
            "needs_background": "light"
          }
        }
      ]
    },
    {
      "cell_type": "markdown",
      "metadata": {
        "colab_type": "text",
        "id": "1BuYP4v5xdKt"
      },
      "source": [
        "**Use RandomForestClassifier- Full code**"
      ]
    },
    {
      "cell_type": "code",
      "metadata": {
        "colab_type": "code",
        "outputId": "4110df80-4e86-4595-e7ee-baa2e96c6b43",
        "id": "LYhAMVtDxdKu",
        "colab": {
          "base_uri": "https://localhost:8080/",
          "height": 359
        }
      },
      "source": [
        "from sklearn import ensemble\n",
        "classifier_rf = ensemble.RandomForestClassifier(random_state= 1)\n",
        "# fit the training dataset on the classifier\n",
        "classifier_rf.fit(xtrain_tfidf, train_y_en)\n",
        "\n",
        "# predict the labels on validation dataset\n",
        "valid_y_pred_rf = classifier_rf.predict(xvalid_tfidf)\n",
        "\n",
        "accuracy_rf = metrics.accuracy_score(valid_y_en, valid_y_pred_rf)\n",
        "confusion_matrix_rf = metrics.confusion_matrix(valid_y_en, valid_y_pred_rf, labels=[0,1])\n",
        "F1_score=metrics.f1_score(valid_y_en, valid_y_pred_rf)\n",
        "print (\"Accuracy\", accuracy_rf)\n",
        "print (\"F-score\", F1_score)\n",
        "print (\"confusion_matrix\\n\", confusion_matrix_rf)\n",
        "cm_plot(valid_y_en,valid_y_pred_rf)"
      ],
      "execution_count": 0,
      "outputs": [
        {
          "output_type": "stream",
          "text": [
            "Accuracy 0.834\n",
            "F-score 0.8333333333333334\n",
            "confusion_matrix\n",
            " [[419  91]\n",
            " [ 75 415]]\n"
          ],
          "name": "stdout"
        },
        {
          "output_type": "display_data",
          "data": {
            "text/plain": [
              "<Figure size 432x288 with 0 Axes>"
            ]
          },
          "metadata": {
            "tags": []
          }
        },
        {
          "output_type": "display_data",
          "data": {
            "image/png": "[encoded data removed]",
            "text/plain": [
              "<Figure size 288x288 with 2 Axes>"
            ]
          },
          "metadata": {
            "tags": [],
            "needs_background": "light"
          }
        }
      ]
    },
    {
      "cell_type": "markdown",
      "metadata": {
        "colab_type": "text",
        "id": "A5bDOCftxdKw"
      },
      "source": [
        "**Use Neural Network- Multi-layer Perceptron classifier.**"
      ]
    },
    {
      "cell_type": "code",
      "metadata": {
        "colab_type": "code",
        "outputId": "c4764dc6-d48e-4b1f-d61b-f62567bd44ab",
        "id": "dOB2PpNyxdKx",
        "colab": {
          "base_uri": "https://localhost:8080/",
          "height": 359
        }
      },
      "source": [
        "from sklearn.neural_network import MLPClassifier\n",
        "classifier_nn = MLPClassifier(random_state=1)\n",
        "# fit the training dataset on the classifier\n",
        "classifier_nn.fit(xtrain_tfidf, train_y_en) # take around 3-4 minutes\n",
        "\n",
        "# predict the labels on validation dataset\n",
        "valid_y_pred_nn = classifier_nn.predict(xvalid_tfidf)\n",
        "\n",
        "accuracy_nn = metrics.accuracy_score(valid_y_en, valid_y_pred_nn)\n",
        "confusion_matrix_nn = metrics.confusion_matrix(valid_y_en, valid_y_pred_nn, labels=[0,1])\n",
        "print (\"Accuracy\", accuracy_nn)\n",
        "F1_score=metrics.f1_score(valid_y_en, valid_y_pred_nn)\n",
        "print (\"F-score\", F1_score)\n",
        "print (\"confusion_matrix\\n\", confusion_matrix_nn)\n",
        "cm_plot(valid_y_en,valid_y_pred_nn)"
      ],
      "execution_count": 0,
      "outputs": [
        {
          "output_type": "stream",
          "text": [
            "Accuracy 0.833\n",
            "F-score 0.8304568527918782\n",
            "confusion_matrix\n",
            " [[424  86]\n",
            " [ 81 409]]\n"
          ],
          "name": "stdout"
        },
        {
          "output_type": "display_data",
          "data": {
            "text/plain": [
              "<Figure size 432x288 with 0 Axes>"
            ]
          },
          "metadata": {
            "tags": []
          }
        },
        {
          "output_type": "display_data",
          "data": {
            "image/png": "[encoded data removed]",
            "text/plain": [
              "<Figure size 288x288 with 2 Axes>"
            ]
          },
          "metadata": {
            "tags": [],
            "needs_background": "light"
          }
        }
      ]
    },
    {
      "cell_type": "code",
      "metadata": {
        "colab_type": "code",
        "id": "GYCIt59OxdK3",
        "colab": {}
      },
      "source": [
        "# neural network (user setting)"
      ],
      "execution_count": 0,
      "outputs": []
    },
    {
      "cell_type": "code",
      "metadata": {
        "id": "rIkTHv8LyVX4",
        "colab_type": "code",
        "outputId": "fe2145cd-077e-4739-d959-d5c4f08e581f",
        "colab": {
          "base_uri": "https://localhost:8080/",
          "height": 233
        }
      },
      "source": [
        "# XGBoost\n",
        "from xgboost import XGBClassifier # XGB 分類器\n",
        "from xgboost import plot_importance # XGB特徵重要性\n",
        "\n",
        "xgbc = XGBClassifier()\n",
        "# fit the training dataset on the classifier\n",
        "xgbc.fit(xtrain_tfidf,train_y_en)\n",
        "# predict the labels on validation dataset\n",
        "valid_y_pred_xgbc = xgbc.predict(xvalid_tfidf)\n",
        "\n",
        "accuracy_xgb = metrics.accuracy_score(valid_y_en, valid_y_pred_xgbc)\n",
        "confusion_matrix_xgb = metrics.confusion_matrix(valid_y_en, valid_y_pred_xgbc, labels=[0,1])\n",
        "print (\"Accuracy\", accuracy_xgb)\n",
        "F1_score=metrics.f1_score(valid_y_en, valid_y_pred_xgbc)\n",
        "print (\"confusion_matrix\\n\", confusion_matrix_xgb)\n",
        "cm_plot(valid_y_en, valid_y_pred_xgbc)"
      ],
      "execution_count": 0,
      "outputs": [
        {
          "output_type": "error",
          "ename": "NameError",
          "evalue": "ignored",
          "traceback": [
            "\u001b[0;31m---------------------------------------------------------------------------\u001b[0m",
            "\u001b[0;31mNameError\u001b[0m                                 Traceback (most recent call last)",
            "\u001b[0;32m<ipython-input-1-e5d6eb538a3e>\u001b[0m in \u001b[0;36m<module>\u001b[0;34m()\u001b[0m\n\u001b[1;32m      4\u001b[0m \u001b[0mxgbc\u001b[0m \u001b[0;34m=\u001b[0m \u001b[0mXGBClassifier\u001b[0m\u001b[0;34m(\u001b[0m\u001b[0;34m)\u001b[0m\u001b[0;34m\u001b[0m\u001b[0;34m\u001b[0m\u001b[0m\n\u001b[1;32m      5\u001b[0m \u001b[0;31m# fit the training dataset on the classifier\u001b[0m\u001b[0;34m\u001b[0m\u001b[0;34m\u001b[0m\u001b[0;34m\u001b[0m\u001b[0m\n\u001b[0;32m----> 6\u001b[0;31m \u001b[0mxgbc\u001b[0m\u001b[0;34m.\u001b[0m\u001b[0mfit\u001b[0m\u001b[0;34m(\u001b[0m\u001b[0mxtrain_tfidf\u001b[0m\u001b[0;34m,\u001b[0m\u001b[0mtrain_y_en\u001b[0m\u001b[0;34m)\u001b[0m\u001b[0;34m\u001b[0m\u001b[0;34m\u001b[0m\u001b[0m\n\u001b[0m\u001b[1;32m      7\u001b[0m \u001b[0;31m# predict the labels on validation dataset\u001b[0m\u001b[0;34m\u001b[0m\u001b[0;34m\u001b[0m\u001b[0;34m\u001b[0m\u001b[0m\n\u001b[1;32m      8\u001b[0m \u001b[0mvalid_y_pred_xgbc\u001b[0m \u001b[0;34m=\u001b[0m \u001b[0mxgbc\u001b[0m\u001b[0;34m.\u001b[0m\u001b[0mpredict\u001b[0m\u001b[0;34m(\u001b[0m\u001b[0mxvalid_tfidf\u001b[0m\u001b[0;34m)\u001b[0m\u001b[0;34m\u001b[0m\u001b[0;34m\u001b[0m\u001b[0m\n",
            "\u001b[0;31mNameError\u001b[0m: name 'xtrain_tfidf' is not defined"
          ]
        }
      ]
    },
    {
      "cell_type": "markdown",
      "metadata": {
        "colab_type": "text",
        "id": "RRiidHvWxdK7"
      },
      "source": [
        "#### With POS"
      ]
    },
    {
      "cell_type": "code",
      "metadata": {
        "colab_type": "code",
        "id": "h3ja1RVJxdK8",
        "colab": {}
      },
      "source": [
        "amazon_reviewDF_lem_pos = pd.read_csv(mydrive+\"Amazon_review_lem_pos_vaa.csv\",delimiter=',',header = None)\n",
        "amazon_reviewDF_lem_pos.columns=['text', 'label']"
      ],
      "execution_count": 0,
      "outputs": []
    },
    {
      "cell_type": "code",
      "metadata": {
        "colab_type": "code",
        "id": "3E3XvkRPxdK-",
        "colab": {}
      },
      "source": [
        "from sklearn import model_selection\n",
        "\n",
        "# split the dataset into training and testing \n",
        "train_x, valid_x, train_y, valid_y = model_selection.train_test_split(amazon_reviewDF_lem_pos['text'], \n",
        "                                                      amazon_reviewDF_lem_pos['label'],test_size=0.1,random_state=1)\n",
        "\n",
        "#test_size = 0.1 mean 90% data is used for traning data, 10% for testing data.\n",
        "\n",
        "\n",
        "from sklearn import preprocessing\n",
        "# encode the target variable, label Negative/Positive -> 0/1\n",
        "encoder = preprocessing.LabelEncoder()\n",
        "train_y_en = encoder.fit_transform(train_y)\n",
        "valid_y_en = encoder.fit_transform(valid_y)\n",
        "\n",
        "from sklearn.feature_extraction.text import TfidfVectorizer\n",
        "# word level tf-idf\n",
        "tfidf_vect = TfidfVectorizer(stop_words='english',  max_features = MAX_FEATURES)\n",
        "tfidf_vect.fit(train_x.astype('U')) #Learn vocabulary and idf from training data set. (in bad words)\n",
        "xtrain_tfidf =  tfidf_vect.transform(train_x.astype('U')) # compute tfidf for tranning data set\n",
        "xvalid_tfidf =  tfidf_vect.transform(valid_x.astype('U')) # compute tfidf for testing data set"
      ],
      "execution_count": 0,
      "outputs": []
    },
    {
      "cell_type": "code",
      "metadata": {
        "colab_type": "code",
        "outputId": "18caf154-c7f1-455a-8123-41f0bc2e2314",
        "id": "3PRsr21OxdLB",
        "colab": {
          "base_uri": "https://localhost:8080/",
          "height": 359
        }
      },
      "source": [
        "from sklearn import tree,  metrics\n",
        "classifier_tree = tree.DecisionTreeClassifier(random_state=1)\n",
        "# fit the training dataset on the classifier\n",
        "classifier_tree =classifier_tree.fit(xtrain_tfidf, train_y_en)\n",
        "\n",
        "# predict the labels on validation dataset\n",
        "valid_y_pred_tree = classifier_tree.predict(xvalid_tfidf)\n",
        "accuracy_tree = metrics.accuracy_score(valid_y_en, valid_y_pred_tree)\n",
        "confusion_matrix_tree = metrics.confusion_matrix(valid_y_en, valid_y_pred_tree, labels=[0,1])\n",
        "print (\"Accuracy\", accuracy_tree)\n",
        "F1_score1=metrics.f1_score(valid_y_en, valid_y_pred_tree)\n",
        "print (\"F-score\", F1_score1)\n",
        "print (\"confusion_matrix\\n\", confusion_matrix_tree)\n",
        "cm_plot(valid_y_en,valid_y_pred_tree)"
      ],
      "execution_count": 0,
      "outputs": [
        {
          "output_type": "stream",
          "text": [
            "Accuracy 0.7152847152847153\n",
            "F-score 0.7058823529411765\n",
            "confusion_matrix\n",
            " [[374 163]\n",
            " [122 342]]\n"
          ],
          "name": "stdout"
        },
        {
          "output_type": "display_data",
          "data": {
            "text/plain": [
              "<Figure size 432x288 with 0 Axes>"
            ]
          },
          "metadata": {
            "tags": []
          }
        },
        {
          "output_type": "display_data",
          "data": {
            "image/png": "[encoded data removed]",
            "text/plain": [
              "<Figure size 288x288 with 2 Axes>"
            ]
          },
          "metadata": {
            "tags": [],
            "needs_background": "light"
          }
        }
      ]
    },
    {
      "cell_type": "markdown",
      "metadata": {
        "colab_type": "text",
        "id": "Rkr59D_OxdLF"
      },
      "source": [
        "**Use RandomForestClassifier- Full code**"
      ]
    },
    {
      "cell_type": "code",
      "metadata": {
        "colab_type": "code",
        "outputId": "4a6abbc6-575a-4893-e92f-158e0a2821cc",
        "id": "MzYdMWp8xdLF",
        "colab": {
          "base_uri": "https://localhost:8080/",
          "height": 359
        }
      },
      "source": [
        "from sklearn import ensemble\n",
        "classifier_rf = ensemble.RandomForestClassifier(random_state= 1)\n",
        "# fit the training dataset on the classifier\n",
        "classifier_rf.fit(xtrain_tfidf, train_y_en)\n",
        "\n",
        "# predict the labels on validation dataset\n",
        "valid_y_pred_rf = classifier_rf.predict(xvalid_tfidf)\n",
        "\n",
        "accuracy_rf = metrics.accuracy_score(valid_y_en, valid_y_pred_rf)\n",
        "confusion_matrix_rf = metrics.confusion_matrix(valid_y_en, valid_y_pred_rf, labels=[0,1])\n",
        "F1_score=metrics.f1_score(valid_y_en, valid_y_pred_rf)\n",
        "print (\"Accuracy\", accuracy_rf)\n",
        "print (\"F-score\", F1_score)\n",
        "print (\"confusion_matrix\\n\", confusion_matrix_rf)\n",
        "cm_plot(valid_y_en,valid_y_pred_rf)"
      ],
      "execution_count": 0,
      "outputs": [
        {
          "output_type": "stream",
          "text": [
            "Accuracy 0.7972027972027972\n",
            "F-score 0.788761706555671\n",
            "confusion_matrix\n",
            " [[419 118]\n",
            " [ 85 379]]\n"
          ],
          "name": "stdout"
        },
        {
          "output_type": "display_data",
          "data": {
            "text/plain": [
              "<Figure size 432x288 with 0 Axes>"
            ]
          },
          "metadata": {
            "tags": []
          }
        },
        {
          "output_type": "display_data",
          "data": {
            "image/png": "[encoded data removed]",
            "text/plain": [
              "<Figure size 288x288 with 2 Axes>"
            ]
          },
          "metadata": {
            "tags": [],
            "needs_background": "light"
          }
        }
      ]
    },
    {
      "cell_type": "markdown",
      "metadata": {
        "colab_type": "text",
        "id": "ZkrS0-0ixdLH"
      },
      "source": [
        "**Use Neural Network- Multi-layer Perceptron classifier.**"
      ]
    },
    {
      "cell_type": "code",
      "metadata": {
        "colab_type": "code",
        "outputId": "02668aca-9d69-4681-f6b7-1b46375080f8",
        "id": "sfUF6f8MxdLI",
        "colab": {
          "base_uri": "https://localhost:8080/",
          "height": 359
        }
      },
      "source": [
        "from sklearn.neural_network import MLPClassifier\n",
        "classifier_nn = MLPClassifier(random_state=1)\n",
        "# fit the training dataset on the classifier\n",
        "classifier_nn.fit(xtrain_tfidf, train_y_en) # take around 3-4 minutes\n",
        "\n",
        "# predict the labels on validation dataset\n",
        "valid_y_pred_nn = classifier_nn.predict(xvalid_tfidf)\n",
        "\n",
        "accuracy_nn = metrics.accuracy_score(valid_y_en, valid_y_pred_nn)\n",
        "confusion_matrix_nn = metrics.confusion_matrix(valid_y_en, valid_y_pred_nn, labels=[0,1])\n",
        "print (\"Accuracy\", accuracy_nn)\n",
        "F1_score=metrics.f1_score(valid_y_en, valid_y_pred_nn)\n",
        "print (\"F-score\", F1_score)\n",
        "print (\"confusion_matrix\\n\", confusion_matrix_nn)\n",
        "cm_plot(valid_y_en,valid_y_pred_nn)"
      ],
      "execution_count": 0,
      "outputs": [
        {
          "output_type": "stream",
          "text": [
            "Accuracy 0.7752247752247752\n",
            "F-score 0.7572815533980582\n",
            "confusion_matrix\n",
            " [[425 112]\n",
            " [113 351]]\n"
          ],
          "name": "stdout"
        },
        {
          "output_type": "display_data",
          "data": {
            "text/plain": [
              "<Figure size 432x288 with 0 Axes>"
            ]
          },
          "metadata": {
            "tags": []
          }
        },
        {
          "output_type": "display_data",
          "data": {
            "image/png": "[encoded data removed]",
            "text/plain": [
              "<Figure size 288x288 with 2 Axes>"
            ]
          },
          "metadata": {
            "tags": [],
            "needs_background": "light"
          }
        }
      ]
    },
    {
      "cell_type": "code",
      "metadata": {
        "colab_type": "code",
        "id": "fpihU3AyxdLN",
        "colab": {}
      },
      "source": [
        "# neural network (user setting)"
      ],
      "execution_count": 0,
      "outputs": []
    },
    {
      "cell_type": "code",
      "metadata": {
        "id": "4Z5HyzJDyZAB",
        "colab_type": "code",
        "outputId": "ad6634fa-75ba-49a4-b95d-904f41fe506b",
        "colab": {
          "base_uri": "https://localhost:8080/",
          "height": 342
        }
      },
      "source": [
        "# XGBoost\n",
        "from xgboost import XGBClassifier # XGB 分類器\n",
        "from xgboost import plot_importance # XGB特徵重要性\n",
        "\n",
        "xgbc = XGBClassifier()\n",
        "# fit the training dataset on the classifier\n",
        "xgbc.fit(xtrain_tfidf,train_y_en)\n",
        "# predict the labels on validation dataset\n",
        "valid_y_pred_xgbc = xgbc.predict(xvalid_tfidf)\n",
        "\n",
        "accuracy_xgb = metrics.accuracy_score(valid_y_en, valid_y_pred_xgbc)\n",
        "confusion_matrix_xgb = metrics.confusion_matrix(valid_y_en, valid_y_pred_xgbc, labels=[0,1])\n",
        "print (\"Accuracy\", accuracy_xgb)\n",
        "F1_score=metrics.f1_score(valid_y_en, valid_y_pred_xgbc)\n",
        "print (\"confusion_matrix\\n\", confusion_matrix_xgb)\n",
        "cm_plot(valid_y_en, valid_y_pred_xgbc)"
      ],
      "execution_count": 0,
      "outputs": [
        {
          "output_type": "stream",
          "text": [
            "Accuracy 0.7522477522477522\n",
            "confusion_matrix\n",
            " [[427 110]\n",
            " [138 326]]\n"
          ],
          "name": "stdout"
        },
        {
          "output_type": "display_data",
          "data": {
            "text/plain": [
              "<Figure size 432x288 with 0 Axes>"
            ]
          },
          "metadata": {
            "tags": []
          }
        },
        {
          "output_type": "display_data",
          "data": {
            "image/png": "[encoded data removed]",
            "text/plain": [
              "<Figure size 288x288 with 2 Axes>"
            ]
          },
          "metadata": {
            "tags": [],
            "needs_background": "light"
          }
        }
      ]
    },
    {
      "cell_type": "markdown",
      "metadata": {
        "colab_type": "text",
        "id": "xeZLkYf8xdLP"
      },
      "source": [
        "## MAX_FEATURES = 1000"
      ]
    },
    {
      "cell_type": "code",
      "metadata": {
        "colab_type": "code",
        "id": "_cr3Dn4YxdLP",
        "colab": {}
      },
      "source": [
        "MAX_FEATURES = 1000"
      ],
      "execution_count": 0,
      "outputs": []
    },
    {
      "cell_type": "markdown",
      "metadata": {
        "colab_type": "text",
        "id": "52acTUKpxdLR"
      },
      "source": [
        "#### Without POS"
      ]
    },
    {
      "cell_type": "markdown",
      "metadata": {
        "colab_type": "text",
        "id": "sKV_1p5qxdLS"
      },
      "source": [
        "**Split Training - Testing data for validation**"
      ]
    },
    {
      "cell_type": "code",
      "metadata": {
        "colab_type": "code",
        "id": "7vQo01fUxdLS",
        "colab": {}
      },
      "source": [
        "from sklearn import model_selection\n",
        "\n",
        "# split the dataset into training and testing \n",
        "train_x, valid_x, train_y, valid_y = model_selection.train_test_split(amazon_reviewDF['text'], \n",
        "                                                      amazon_reviewDF['label'],test_size=0.1,random_state=1)\n",
        "\n",
        "#test_size = 0.1 mean 90% data is used for traning data, 10% for testing data.\n",
        "\n",
        "\n",
        "from sklearn import preprocessing\n",
        "# encode the target variable, label Negative/Positive -> 0/1\n",
        "encoder = preprocessing.LabelEncoder()\n",
        "train_y_en = encoder.fit_transform(train_y)\n",
        "valid_y_en = encoder.fit_transform(valid_y)\n",
        "\n",
        "from sklearn.feature_extraction.text import TfidfVectorizer\n",
        "# word level tf-idf\n",
        "tfidf_vect = TfidfVectorizer(stop_words='english',  max_features = MAX_FEATURES)\n",
        "tfidf_vect.fit(train_x) #Learn vocabulary and idf from training data set. (in bad words)\n",
        "xtrain_tfidf =  tfidf_vect.transform(train_x) # compute tfidf for tranning data set\n",
        "xvalid_tfidf =  tfidf_vect.transform(valid_x) # compute tfidf for testing data set"
      ],
      "execution_count": 0,
      "outputs": []
    },
    {
      "cell_type": "code",
      "metadata": {
        "colab_type": "code",
        "outputId": "75f14a87-95c9-4d09-ef16-1e0f8d950be1",
        "id": "Pg2CXgOHxdLW",
        "colab": {
          "base_uri": "https://localhost:8080/",
          "height": 359
        }
      },
      "source": [
        "from sklearn import tree,  metrics\n",
        "classifier_tree = tree.DecisionTreeClassifier(random_state=1)\n",
        "# fit the training dataset on the classifier\n",
        "classifier_tree =classifier_tree.fit(xtrain_tfidf, train_y_en)\n",
        "\n",
        "# predict the labels on validation dataset\n",
        "valid_y_pred_tree = classifier_tree.predict(xvalid_tfidf)\n",
        "accuracy_tree = metrics.accuracy_score(valid_y_en, valid_y_pred_tree)\n",
        "confusion_matrix_tree = metrics.confusion_matrix(valid_y_en, valid_y_pred_tree, labels=[0,1])\n",
        "print (\"Accuracy\", accuracy_tree)\n",
        "F1_score1=metrics.f1_score(valid_y_en, valid_y_pred_tree)\n",
        "print (\"F-score\", F1_score1)\n",
        "print (\"confusion_matrix\\n\", confusion_matrix_tree)\n",
        "cm_plot(valid_y_en,valid_y_pred_tree)"
      ],
      "execution_count": 0,
      "outputs": [
        {
          "output_type": "stream",
          "text": [
            "Accuracy 0.706\n",
            "F-score 0.7036290322580645\n",
            "confusion_matrix\n",
            " [[357 153]\n",
            " [141 349]]\n"
          ],
          "name": "stdout"
        },
        {
          "output_type": "display_data",
          "data": {
            "text/plain": [
              "<Figure size 432x288 with 0 Axes>"
            ]
          },
          "metadata": {
            "tags": []
          }
        },
        {
          "output_type": "display_data",
          "data": {
            "image/png": "[encoded data removed]",
            "text/plain": [
              "<Figure size 288x288 with 2 Axes>"
            ]
          },
          "metadata": {
            "tags": [],
            "needs_background": "light"
          }
        }
      ]
    },
    {
      "cell_type": "markdown",
      "metadata": {
        "colab_type": "text",
        "id": "52pQmR6wxdLY"
      },
      "source": [
        "**Use RandomForestClassifier- Full code**"
      ]
    },
    {
      "cell_type": "code",
      "metadata": {
        "colab_type": "code",
        "outputId": "e354abe4-2fda-4f17-993e-92b9addfb5e7",
        "id": "uiC5yGMXxdLZ",
        "colab": {
          "base_uri": "https://localhost:8080/",
          "height": 359
        }
      },
      "source": [
        "from sklearn import ensemble\n",
        "classifier_rf = ensemble.RandomForestClassifier(random_state= 1)\n",
        "# fit the training dataset on the classifier\n",
        "classifier_rf.fit(xtrain_tfidf, train_y_en)\n",
        "\n",
        "# predict the labels on validation dataset\n",
        "valid_y_pred_rf = classifier_rf.predict(xvalid_tfidf)\n",
        "\n",
        "accuracy_rf = metrics.accuracy_score(valid_y_en, valid_y_pred_rf)\n",
        "confusion_matrix_rf = metrics.confusion_matrix(valid_y_en, valid_y_pred_rf, labels=[0,1])\n",
        "F1_score=metrics.f1_score(valid_y_en, valid_y_pred_rf)\n",
        "print (\"Accuracy\", accuracy_rf)\n",
        "print (\"F-score\", F1_score)\n",
        "print (\"confusion_matrix\\n\", confusion_matrix_rf)\n",
        "cm_plot(valid_y_en,valid_y_pred_rf)"
      ],
      "execution_count": 0,
      "outputs": [
        {
          "output_type": "stream",
          "text": [
            "Accuracy 0.821\n",
            "F-score 0.8204613841524574\n",
            "confusion_matrix\n",
            " [[412  98]\n",
            " [ 81 409]]\n"
          ],
          "name": "stdout"
        },
        {
          "output_type": "display_data",
          "data": {
            "text/plain": [
              "<Figure size 432x288 with 0 Axes>"
            ]
          },
          "metadata": {
            "tags": []
          }
        },
        {
          "output_type": "display_data",
          "data": {
            "image/png": "[encoded data removed]",
            "text/plain": [
              "<Figure size 288x288 with 2 Axes>"
            ]
          },
          "metadata": {
            "tags": [],
            "needs_background": "light"
          }
        }
      ]
    },
    {
      "cell_type": "markdown",
      "metadata": {
        "colab_type": "text",
        "id": "euSP3caIxdLf"
      },
      "source": [
        "**Use Neural Network- Multi-layer Perceptron classifier.**"
      ]
    },
    {
      "cell_type": "code",
      "metadata": {
        "colab_type": "code",
        "outputId": "433d0e57-4275-4484-b1e1-c9b48ead6229",
        "id": "hdwzbezWxdLg",
        "colab": {
          "base_uri": "https://localhost:8080/",
          "height": 359
        }
      },
      "source": [
        "from sklearn.neural_network import MLPClassifier\n",
        "classifier_nn = MLPClassifier(random_state=1)\n",
        "# fit the training dataset on the classifier\n",
        "classifier_nn.fit(xtrain_tfidf, train_y_en) # take around 3-4 minutes\n",
        "\n",
        "# predict the labels on validation dataset\n",
        "valid_y_pred_nn = classifier_nn.predict(xvalid_tfidf)\n",
        "\n",
        "accuracy_nn = metrics.accuracy_score(valid_y_en, valid_y_pred_nn)\n",
        "confusion_matrix_nn = metrics.confusion_matrix(valid_y_en, valid_y_pred_nn, labels=[0,1])\n",
        "print (\"Accuracy\", accuracy_nn)\n",
        "F1_score=metrics.f1_score(valid_y_en, valid_y_pred_nn)\n",
        "print (\"F-score\", F1_score)\n",
        "print (\"confusion_matrix\\n\", confusion_matrix_nn)\n",
        "cm_plot(valid_y_en,valid_y_pred_nn)"
      ],
      "execution_count": 0,
      "outputs": [
        {
          "output_type": "stream",
          "text": [
            "Accuracy 0.823\n",
            "F-score 0.8199389623601221\n",
            "confusion_matrix\n",
            " [[420  90]\n",
            " [ 87 403]]\n"
          ],
          "name": "stdout"
        },
        {
          "output_type": "display_data",
          "data": {
            "text/plain": [
              "<Figure size 432x288 with 0 Axes>"
            ]
          },
          "metadata": {
            "tags": []
          }
        },
        {
          "output_type": "display_data",
          "data": {
            "image/png": "[encoded data removed]",
            "text/plain": [
              "<Figure size 288x288 with 2 Axes>"
            ]
          },
          "metadata": {
            "tags": [],
            "needs_background": "light"
          }
        }
      ]
    },
    {
      "cell_type": "code",
      "metadata": {
        "colab_type": "code",
        "id": "7YYHT0_mxdLk",
        "colab": {}
      },
      "source": [
        "# neural network (user setting)"
      ],
      "execution_count": 0,
      "outputs": []
    },
    {
      "cell_type": "code",
      "metadata": {
        "id": "rCs6KB7ezXi5",
        "colab_type": "code",
        "outputId": "89f9df94-1133-4fc7-a680-7d24dcb62805",
        "colab": {
          "base_uri": "https://localhost:8080/",
          "height": 361
        }
      },
      "source": [
        "# XGBoost\n",
        "from xgboost import XGBClassifier # XGB 分類器\n",
        "from xgboost import plot_importance # XGB特徵重要性\n",
        "\n",
        "xgbc = XGBClassifier(max_depth=5)\n",
        "# fit the training dataset on the classifier\n",
        "xgbc.fit(xtrain_tfidf,train_y_en)\n",
        "# predict the labels on validation dataset\n",
        "valid_y_pred_xgbc = xgbc.predict(xvalid_tfidf)\n",
        "\n",
        "accuracy_xgb = metrics.accuracy_score(valid_y_en, valid_y_pred_xgbc)\n",
        "confusion_matrix_xgb = metrics.confusion_matrix(valid_y_en, valid_y_pred_xgbc, labels=[0,1])\n",
        "print (\"Accuracy\", accuracy_xgb)\n",
        "F1_score=metrics.f1_score(valid_y_en, valid_y_pred_xgbc)\n",
        "print (\"F-score\", F1_score)\n",
        "print (\"confusion_matrix\\n\", confusion_matrix_xgb)\n",
        "cm_plot(valid_y_en, valid_y_pred_xgbc)"
      ],
      "execution_count": 0,
      "outputs": [
        {
          "output_type": "stream",
          "text": [
            "Accuracy 0.801\n",
            "F-score 0.7946336429308565\n",
            "confusion_matrix\n",
            " [[416  94]\n",
            " [105 385]]\n"
          ],
          "name": "stdout"
        },
        {
          "output_type": "display_data",
          "data": {
            "text/plain": [
              "<Figure size 432x288 with 0 Axes>"
            ]
          },
          "metadata": {
            "tags": []
          }
        },
        {
          "output_type": "display_data",
          "data": {
            "image/png": "[encoded data removed]",
            "text/plain": [
              "<Figure size 288x288 with 2 Axes>"
            ]
          },
          "metadata": {
            "tags": [],
            "needs_background": "light"
          }
        }
      ]
    },
    {
      "cell_type": "code",
      "metadata": {
        "id": "2TFCd8sE1shR",
        "colab_type": "code",
        "outputId": "2ee7ac21-bece-4206-c2b1-539c039d79d2",
        "colab": {
          "base_uri": "https://localhost:8080/",
          "height": 1000
        }
      },
      "source": [
        "dnn = build_model2(MAX_FEATURES,500,100,2)\n",
        "X_train,Y_train,X_test,Y_test = xtrain_tfidf,train_y_en,xvalid_tfidf,valid_y_en\n",
        "Y_train_array = np.array(Y_train)\n",
        "Y_train_onehot = np_utils.to_categorical(Y_train_array)\n",
        "Y_test_array = np.array(Y_test)\n",
        "Y_test_onehot = np_utils.to_categorical(Y_test_array)\n",
        "\n",
        "train_history = dnn.fit(\n",
        "    x=X_train,\n",
        "    y=Y_train_onehot,\n",
        "    validation_split=0.2,\n",
        "    epochs=10,batch_size=100,verbose=2)\n",
        "\n",
        "valid_y_pred_DNN = dnn.predict_classes(xvalid_tfidf)\n",
        "accuracy_DNN = metrics.accuracy_score(valid_y_en, valid_y_pred_DNN)\n",
        "confusion_matrix_DNN = metrics.confusion_matrix(valid_y_en, valid_y_pred_DNN, labels=[0,1])\n",
        "print (\"Accuracy\", accuracy_DNN)\n",
        "F1_score=metrics.f1_score(valid_y_en, valid_y_pred_DNN)\n",
        "print (\"F-score\", F1_score)\n",
        "print (\"confusion_matrix\\n\", confusion_matrix_DNN)\n",
        "cm_plot(valid_y_en, valid_y_pred_DNN)"
      ],
      "execution_count": 0,
      "outputs": [
        {
          "output_type": "stream",
          "text": [
            "Model: \"sequential_12\"\n",
            "_________________________________________________________________\n",
            "Layer (type)                 Output Shape              Param #   \n",
            "=================================================================\n",
            "dropout_7 (Dropout)          (None, 1000)              0         \n",
            "_________________________________________________________________\n",
            "dense_28 (Dense)             (None, 500)               500500    \n",
            "_________________________________________________________________\n",
            "activation_28 (Activation)   (None, 500)               0         \n",
            "_________________________________________________________________\n",
            "dense_29 (Dense)             (None, 100)               50100     \n",
            "_________________________________________________________________\n",
            "activation_29 (Activation)   (None, 100)               0         \n",
            "_________________________________________________________________\n",
            "dense_30 (Dense)             (None, 2)                 202       \n",
            "_________________________________________________________________\n",
            "activation_30 (Activation)   (None, 2)                 0         \n",
            "=================================================================\n",
            "Total params: 550,802\n",
            "Trainable params: 550,802\n",
            "Non-trainable params: 0\n",
            "_________________________________________________________________\n",
            "Train on 7200 samples, validate on 1800 samples\n",
            "Epoch 1/10\n",
            " - 1s - loss: 0.5216 - accuracy: 0.7489 - val_loss: 0.3872 - val_accuracy: 0.8189\n",
            "Epoch 2/10\n",
            " - 1s - loss: 0.3586 - accuracy: 0.8446 - val_loss: 0.3896 - val_accuracy: 0.8344\n",
            "Epoch 3/10\n",
            " - 1s - loss: 0.3192 - accuracy: 0.8587 - val_loss: 0.3935 - val_accuracy: 0.8244\n",
            "Epoch 4/10\n",
            " - 1s - loss: 0.2824 - accuracy: 0.8803 - val_loss: 0.3923 - val_accuracy: 0.8194\n",
            "Epoch 5/10\n",
            " - 1s - loss: 0.2258 - accuracy: 0.9107 - val_loss: 0.4341 - val_accuracy: 0.8061\n",
            "Epoch 6/10\n",
            " - 1s - loss: 0.1698 - accuracy: 0.9361 - val_loss: 0.4563 - val_accuracy: 0.8000\n",
            "Epoch 7/10\n",
            " - 1s - loss: 0.1184 - accuracy: 0.9583 - val_loss: 0.4813 - val_accuracy: 0.8117\n",
            "Epoch 8/10\n",
            " - 1s - loss: 0.0910 - accuracy: 0.9651 - val_loss: 0.5083 - val_accuracy: 0.8100\n",
            "Epoch 9/10\n",
            " - 1s - loss: 0.0722 - accuracy: 0.9737 - val_loss: 0.5212 - val_accuracy: 0.8144\n",
            "Epoch 10/10\n",
            " - 1s - loss: 0.0593 - accuracy: 0.9793 - val_loss: 0.5853 - val_accuracy: 0.8044\n",
            "Accuracy 0.814\n",
            "F-score 0.8211538461538461\n",
            "confusion_matrix\n",
            " [[387 123]\n",
            " [ 63 427]]\n"
          ],
          "name": "stdout"
        },
        {
          "output_type": "display_data",
          "data": {
            "text/plain": [
              "<Figure size 432x288 with 0 Axes>"
            ]
          },
          "metadata": {
            "tags": []
          }
        },
        {
          "output_type": "display_data",
          "data": {
            "image/png": "[encoded data removed]",
            "text/plain": [
              "<Figure size 288x288 with 2 Axes>"
            ]
          },
          "metadata": {
            "tags": [],
            "needs_background": "light"
          }
        }
      ]
    },
    {
      "cell_type": "markdown",
      "metadata": {
        "colab_type": "text",
        "id": "FKbTTtarxdLp"
      },
      "source": [
        "#### With POS"
      ]
    },
    {
      "cell_type": "code",
      "metadata": {
        "colab_type": "code",
        "id": "LFUXLof2xdLp",
        "colab": {}
      },
      "source": [
        "amazon_reviewDF_lem_pos = pd.read_csv(mydrive+\"Amazon_review_lem_pos_vaa.csv\",delimiter=',',header = None)\n",
        "amazon_reviewDF_lem_pos.columns=['text', 'label']"
      ],
      "execution_count": 0,
      "outputs": []
    },
    {
      "cell_type": "code",
      "metadata": {
        "colab_type": "code",
        "id": "1Z6JiGyoxdLs",
        "colab": {}
      },
      "source": [
        "from sklearn import model_selection\n",
        "\n",
        "# split the dataset into training and testing \n",
        "train_x, valid_x, train_y, valid_y = model_selection.train_test_split(amazon_reviewDF_lem_pos['text'], \n",
        "                                                      amazon_reviewDF_lem_pos['label'],test_size=0.1,random_state=1)\n",
        "\n",
        "#test_size = 0.1 mean 90% data is used for traning data, 10% for testing data.\n",
        "\n",
        "\n",
        "from sklearn import preprocessing\n",
        "# encode the target variable, label Negative/Positive -> 0/1\n",
        "encoder = preprocessing.LabelEncoder()\n",
        "train_y_en = encoder.fit_transform(train_y)\n",
        "valid_y_en = encoder.fit_transform(valid_y)\n",
        "\n",
        "from sklearn.feature_extraction.text import TfidfVectorizer\n",
        "# word level tf-idf\n",
        "tfidf_vect = TfidfVectorizer(stop_words='english',  max_features = MAX_FEATURES)\n",
        "tfidf_vect.fit(train_x.astype('U')) #Learn vocabulary and idf from training data set. (in bad words)\n",
        "xtrain_tfidf =  tfidf_vect.transform(train_x.astype('U')) # compute tfidf for tranning data set\n",
        "xvalid_tfidf =  tfidf_vect.transform(valid_x.astype('U')) # compute tfidf for testing data set"
      ],
      "execution_count": 0,
      "outputs": []
    },
    {
      "cell_type": "code",
      "metadata": {
        "colab_type": "code",
        "outputId": "745a284a-3025-4346-8e44-2ccaa7541a40",
        "id": "CGgUZL7kxdLu",
        "colab": {
          "base_uri": "https://localhost:8080/",
          "height": 359
        }
      },
      "source": [
        "from sklearn import tree,  metrics\n",
        "classifier_tree = tree.DecisionTreeClassifier(random_state=1)\n",
        "# fit the training dataset on the classifier\n",
        "classifier_tree =classifier_tree.fit(xtrain_tfidf, train_y_en)\n",
        "\n",
        "# predict the labels on validation dataset\n",
        "valid_y_pred_tree = classifier_tree.predict(xvalid_tfidf)\n",
        "accuracy_tree = metrics.accuracy_score(valid_y_en, valid_y_pred_tree)\n",
        "confusion_matrix_tree = metrics.confusion_matrix(valid_y_en, valid_y_pred_tree, labels=[0,1])\n",
        "print (\"Accuracy\", accuracy_tree)\n",
        "F1_score1=metrics.f1_score(valid_y_en, valid_y_pred_tree)\n",
        "print (\"F-score\", F1_score1)\n",
        "print (\"confusion_matrix\\n\", confusion_matrix_tree)\n",
        "cm_plot(valid_y_en,valid_y_pred_tree)"
      ],
      "execution_count": 0,
      "outputs": [
        {
          "output_type": "stream",
          "text": [
            "Accuracy 0.7092907092907093\n",
            "F-score 0.6965589155370177\n",
            "confusion_matrix\n",
            " [[376 161]\n",
            " [130 334]]\n"
          ],
          "name": "stdout"
        },
        {
          "output_type": "display_data",
          "data": {
            "text/plain": [
              "<Figure size 432x288 with 0 Axes>"
            ]
          },
          "metadata": {
            "tags": []
          }
        },
        {
          "output_type": "display_data",
          "data": {
            "image/png": "[encoded data removed]",
            "text/plain": [
              "<Figure size 288x288 with 2 Axes>"
            ]
          },
          "metadata": {
            "tags": [],
            "needs_background": "light"
          }
        }
      ]
    },
    {
      "cell_type": "markdown",
      "metadata": {
        "colab_type": "text",
        "id": "KMucSlkHxdLw"
      },
      "source": [
        "**Use RandomForestClassifier- Full code**"
      ]
    },
    {
      "cell_type": "code",
      "metadata": {
        "colab_type": "code",
        "outputId": "179cb1b1-33c4-4dff-bd1b-abbb040927c2",
        "id": "jtI-0PfSxdLx",
        "colab": {
          "base_uri": "https://localhost:8080/",
          "height": 359
        }
      },
      "source": [
        "from sklearn import ensemble\n",
        "classifier_rf = ensemble.RandomForestClassifier(random_state= 1)\n",
        "# fit the training dataset on the classifier\n",
        "classifier_rf.fit(xtrain_tfidf, train_y_en)\n",
        "\n",
        "# predict the labels on validation dataset\n",
        "valid_y_pred_rf = classifier_rf.predict(xvalid_tfidf)\n",
        "\n",
        "accuracy_rf = metrics.accuracy_score(valid_y_en, valid_y_pred_rf)\n",
        "confusion_matrix_rf = metrics.confusion_matrix(valid_y_en, valid_y_pred_rf, labels=[0,1])\n",
        "F1_score=metrics.f1_score(valid_y_en, valid_y_pred_rf)\n",
        "print (\"Accuracy\", accuracy_rf)\n",
        "print (\"F-score\", F1_score)\n",
        "print (\"confusion_matrix\\n\", confusion_matrix_rf)\n",
        "cm_plot(valid_y_en,valid_y_pred_rf)"
      ],
      "execution_count": 0,
      "outputs": [
        {
          "output_type": "stream",
          "text": [
            "Accuracy 0.7872127872127872\n",
            "F-score 0.7778936392075078\n",
            "confusion_matrix\n",
            " [[415 122]\n",
            " [ 91 373]]\n"
          ],
          "name": "stdout"
        },
        {
          "output_type": "display_data",
          "data": {
            "text/plain": [
              "<Figure size 432x288 with 0 Axes>"
            ]
          },
          "metadata": {
            "tags": []
          }
        },
        {
          "output_type": "display_data",
          "data": {
            "image/png": "[encoded data removed]",
            "text/plain": [
              "<Figure size 288x288 with 2 Axes>"
            ]
          },
          "metadata": {
            "tags": [],
            "needs_background": "light"
          }
        }
      ]
    },
    {
      "cell_type": "markdown",
      "metadata": {
        "colab_type": "text",
        "id": "YRIJ1f5nxdL0"
      },
      "source": [
        "**Use Neural Network- Multi-layer Perceptron classifier.**"
      ]
    },
    {
      "cell_type": "code",
      "metadata": {
        "colab_type": "code",
        "outputId": "61de6001-a420-4f3c-dcef-f067acfcd24b",
        "id": "PQ_T7GVpxdL2",
        "colab": {
          "base_uri": "https://localhost:8080/",
          "height": 359
        }
      },
      "source": [
        "from sklearn.neural_network import MLPClassifier\n",
        "classifier_nn = MLPClassifier(random_state=1)\n",
        "# fit the training dataset on the classifier\n",
        "classifier_nn.fit(xtrain_tfidf, train_y_en) # take around 3-4 minutes\n",
        "\n",
        "# predict the labels on validation dataset\n",
        "valid_y_pred_nn = classifier_nn.predict(xvalid_tfidf)\n",
        "\n",
        "accuracy_nn = metrics.accuracy_score(valid_y_en, valid_y_pred_nn)\n",
        "confusion_matrix_nn = metrics.confusion_matrix(valid_y_en, valid_y_pred_nn, labels=[0,1])\n",
        "print (\"Accuracy\", accuracy_nn)\n",
        "F1_score=metrics.f1_score(valid_y_en, valid_y_pred_nn)\n",
        "print (\"F-score\", F1_score)\n",
        "print (\"confusion_matrix\\n\", confusion_matrix_nn)\n",
        "cm_plot(valid_y_en,valid_y_pred_nn)"
      ],
      "execution_count": 0,
      "outputs": [
        {
          "output_type": "stream",
          "text": [
            "Accuracy 0.7972027972027972\n",
            "F-score 0.78609062170706\n",
            "confusion_matrix\n",
            " [[425 112]\n",
            " [ 91 373]]\n"
          ],
          "name": "stdout"
        },
        {
          "output_type": "display_data",
          "data": {
            "text/plain": [
              "<Figure size 432x288 with 0 Axes>"
            ]
          },
          "metadata": {
            "tags": []
          }
        },
        {
          "output_type": "display_data",
          "data": {
            "image/png": "[encoded data removed]",
            "text/plain": [
              "<Figure size 288x288 with 2 Axes>"
            ]
          },
          "metadata": {
            "tags": [],
            "needs_background": "light"
          }
        }
      ]
    },
    {
      "cell_type": "code",
      "metadata": {
        "colab_type": "code",
        "id": "9ELIgX2rxdL8",
        "colab": {}
      },
      "source": [
        "# neural network (user setting)"
      ],
      "execution_count": 0,
      "outputs": []
    },
    {
      "cell_type": "code",
      "metadata": {
        "id": "AdOmHybvzbtZ",
        "colab_type": "code",
        "outputId": "9fb988c2-2041-427e-afef-ee41aed909b8",
        "colab": {
          "base_uri": "https://localhost:8080/",
          "height": 344
        }
      },
      "source": [
        "# XGBoost\n",
        "from xgboost import XGBClassifier # XGB 分類器\n",
        "from xgboost import plot_importance # XGB特徵重要性\n",
        "\n",
        "xgbc = XGBClassifier(max_depth=5)\n",
        "# fit the training dataset on the classifier\n",
        "xgbc.fit(xtrain_tfidf,train_y_en)\n",
        "# predict the labels on validation dataset\n",
        "valid_y_pred_xgbc = xgbc.predict(xvalid_tfidf)\n",
        "\n",
        "accuracy_xgb = metrics.accuracy_score(valid_y_en, valid_y_pred_xgbc)\n",
        "confusion_matrix_xgb = metrics.confusion_matrix(valid_y_en, valid_y_pred_xgbc, labels=[0,1])\n",
        "print (\"Accuracy\", accuracy_xgb)\n",
        "F1_score=metrics.f1_score(valid_y_en, valid_y_pred_xgbc)\n",
        "print (\"confusion_matrix\\n\", confusion_matrix_xgb)\n",
        "cm_plot(valid_y_en, valid_y_pred_xgbc)"
      ],
      "execution_count": 0,
      "outputs": [
        {
          "output_type": "stream",
          "text": [
            "Accuracy 0.801\n",
            "confusion_matrix\n",
            " [[416  94]\n",
            " [105 385]]\n"
          ],
          "name": "stdout"
        },
        {
          "output_type": "display_data",
          "data": {
            "text/plain": [
              "<Figure size 432x288 with 0 Axes>"
            ]
          },
          "metadata": {
            "tags": []
          }
        },
        {
          "output_type": "display_data",
          "data": {
            "image/png": "[encoded data removed]",
            "text/plain": [
              "<Figure size 288x288 with 2 Axes>"
            ]
          },
          "metadata": {
            "tags": [],
            "needs_background": "light"
          }
        }
      ]
    },
    {
      "cell_type": "code",
      "metadata": {
        "id": "nqbma-T-0FHs",
        "colab_type": "code",
        "colab": {}
      },
      "source": [
        ""
      ],
      "execution_count": 0,
      "outputs": []
    },
    {
      "cell_type": "markdown",
      "metadata": {
        "id": "UzJoEL8pJCCa",
        "colab_type": "text"
      },
      "source": [
        "# Assignment 7 \n",
        "\n",
        "## Result\n",
        "### test 1\n",
        "\n",
        "|                     | without POS                 | POS                                   |\n",
        "| ------------------- |:--------------------------- |:------------------------------------- |\n",
        "| classification tree | **0.72, 0.7149** | 0.6973, 0.6867 |\n",
        "\n",
        "### test 2\n",
        "Compare the classification tree method with different limit of max features without POS tagging.\n",
        "\n",
        "| max_feature |     without POS      |\n",
        "| -----------:|:--------------------:|\n",
        "|      500000 | **0.72,  0.7149** |\n",
        "|        5000 |   0.716, 0.7232   |\n",
        "|        3000 |   0.702, 0.6972   |\n",
        "|        1000 |   0.706, 0.7036   |\n",
        "\n",
        "### test 3\n",
        "| model                                        | without POS, max_feature = 500000 |\n",
        "| -------------------------------------------- |:---------------------------------:|\n",
        "| classification tree                          |           0.72, 0.7149            |\n",
        "| random forest                                |           0.839, 0.8338           |\n",
        "| neural network (default setting)             |         **0.842, 0.8381**         |\n",
        "| neural network (hidden_layer_sizes=(500, 2)) |           0.838, 0.8350           |\n",
        "\n",
        "### (optional) other classification algorithms\n",
        "| model   | without POS, max_feature = MAX |\n",
        "|:------- |:------------------------------:|\n",
        "| XGBoost |         0.803, 0.7979          |\n",
        "| DNN     |       **0.865, 0.8637**        |\n",
        "\n",
        "+ DNN\n",
        "    + model imfomation ![](https://i.imgur.com/on2gxfK.png)\n",
        "    + add Dropout layer\n",
        "    + no too deep (2 hidden layers)\n",
        "+ XGBoost\n",
        "    + We compare the importance of the features with and without POS and both  not setting the limitations on max features, and then we sort the most important twenty features.\n",
        "    + **Without POS：**\n",
        "    ![](https://i.imgur.com/CKM8V1B.png)\n",
        "    + **With POS：**\n",
        "    ![](https://i.imgur.com/D1yOF6c.png)\n",
        "    + In the comparison of the two pictures, we found that in the without-POS model, the features with greater importance have higher F-score than those in the POS model. That means the words we’ve deleted in the POS tagging process is useful for us to achieve our target, which is to predict whether it is positive or not.\n",
        "\n",
        "\n",
        "\n",
        "\n",
        "\n",
        "## Discuss and answer the question\n",
        "###  requirement :\n",
        "- pdf file (1-2 pages, show your comparison)\n",
        "- What can you conclude after performing tests 1, 2, 3? Please suggest the best model from the your team perspective.\n",
        "### comparison :\n",
        "- **Test 1: Lemmatization & POS v.s No Lemmatization & POS**\n",
        "We found that in the classification tree, data **without POS tagging** and lemmatization gives better result, and its accuracy is higher than that with POS tagging and lemmatization.\n",
        "- **Test 2: Max features(500000,5000,3000,1000)**\n",
        "We choose the data without POS tagging and lemmatization, and then try four different number of max feature(500000,5000,3000,1000) to train the data.\n",
        "Finally, we find that **the largest features(500000)** gives best output.\n",
        "- **Test 3: random forest ; classification tree ; neural network (default setting) ; neural network (user setting)**\n",
        "After testing different classification algorithm, we found that neural network (default setting) gives the best output, the accuracy is 0.842, and the F-score is 0.8381147540983608, and this process costs about 360 seconds to finish. \n",
        "\n",
        "\n",
        "- **Conclusion**  \n",
        "　　By concluding the test 1,2,3 in our model, we found that using neual network to classify by setting max feature=500000 without POS tagging will give us the best accuracy and F-score. We come up with some possible and reasonable explanations of this outcome. \n",
        "　　First of all, the reason why **without POS tagging gives better outcome** might be that it keeps more  words, which **gives our model more features to select and analyze**, and we get higher accuracy. Besides, the amount of data is big enough; therefore, we can use max feature=500000 to analyze. Then by the testing, neural network with defualt setting has the highest accuracy, we consider that it's because its training way is more complicated and more accrate. Whereas, it also take the longest time to run, which is about 360 seconds, and if we **change its layers and activation algorithm together**, it will spend **over 3500 seconds** to finish; thus, if we are in hurry, the best choice would be the random forest. Moreover, we use two more classification algorithms(XGboost and DNN using keras) to analyze the data, which improve the accuracy up to 0.865.  \n",
        "　　The reason why we set a limit of max features is to prevent **curse of dimensionality**, which refers to the performance of classifier is the highest with specific dimensions. When we have fewer amount of feature limits, the data with POS tagging won’t have much change on its forecast ability toward the so-called general cases. The data without POS tagging originally have better predicting ability toward different special cases for it has more features as references, while when we have limitations on the amount of features, the left features for those special case have weaker abilities in predicting the general cases; thus the overall accuracy and F-score decrease. So that the smaller number of features can better analyze the data than the larger number of the features, which indicates that the curse of dimensionality does not happened with sufficient data in this case.  \n",
        "![](https://i.imgur.com/RGWctlu.png)    \n",
        "　　In conclusion, whether the text with POS tagging  and how to set the feature amount to get the best accuracy depends on the amount and attributes of original data. In the case of this homework, we have large amount of data; thus it is better to use more features without POS tagging to train our data. \n",
        "\n"
      ]
    },
    {
      "cell_type": "code",
      "metadata": {
        "id": "VCuiZ1RQJCsr",
        "colab_type": "code",
        "colab": {}
      },
      "source": [
        ""
      ],
      "execution_count": 0,
      "outputs": []
    }
  ]
}