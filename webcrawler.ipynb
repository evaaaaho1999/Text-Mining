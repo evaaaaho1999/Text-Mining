{
  "nbformat": 4,
  "nbformat_minor": 0,
  "metadata": {
    "colab": {
      "name": "webcrawler.ipynb",
      "provenance": [],
      "collapsed_sections": [],
      "toc_visible": true,
      "include_colab_link": true
    },
    "kernelspec": {
      "name": "python3",
      "display_name": "Python 3"
    }
  },
  "cells": [
    {
      "cell_type": "markdown",
      "metadata": {
        "id": "view-in-github",
        "colab_type": "text"
      },
      "source": [
        "<a href=\"https://colab.research.google.com/github/evaaaaho1999/Text-Mining/blob/main/webcrawler.ipynb\" target=\"_parent\"><img src=\"https://colab.research.google.com/assets/colab-badge.svg\" alt=\"Open In Colab\"/></a>"
      ]
    },
    {
      "cell_type": "markdown",
      "metadata": {
        "id": "n-KH8hUNxJ1I"
      },
      "source": [
        "# News webcrawler "
      ]
    },
    {
      "cell_type": "code",
      "metadata": {
        "id": "RgWVe7b3ktTj",
        "colab": {
          "base_uri": "https://localhost:8080/",
          "height": 1000
        },
        "outputId": "b16d0721-2fd7-4989-973a-e3fac4f74f8c"
      },
      "source": [
        "import bs4\n",
        "from bs4 import BeautifulSoup as soup\n",
        "from urllib.request import urlopen\n",
        "\n",
        "news_url=\"https://news.google.com/rss/topics/CAAqJggKIiBDQkFTRWdvSUwyMHZNRGx6TVdZU0FtVnVHZ0pWVXlnQVAB?hl=en-US\"\n",
        "Client=urlopen(news_url)\n",
        "xml_page=Client.read()\n",
        "Client.close()\n",
        "\n",
        "soup_page=soup(xml_page,\"xml\")\n",
        "news_list=soup_page.findAll(\"item\")\n",
        "# Print news title, url and publish date\n",
        "news_title=[]\n",
        "website=[]\n",
        "today_news=[]\n",
        "i=0\n",
        "for news in news_list:\n",
        "  news_title.append(news.title.text)\n",
        "  website.append(news.link.text)\n",
        "  print(i)\n",
        "  print(news.title.text)\n",
        "  print(news.link.text)\n",
        "  print(news.pubDate.text)\n",
        " # if int(str(news.pubDate.text).split(\" \")[1])==today:\n",
        " #    today_news.append(news.title.text)\n",
        "  print(\"-\"*60)\n",
        "  i+=1\n",
        "print(len(news_list))\n",
        "print(news_title)\n",
        "# print(today_news)\n",
        "# print(len(today_news))"
      ],
      "execution_count": null,
      "outputs": [
        {
          "output_type": "stream",
          "text": [
            "0\n",
            "Stock market opens sharply lower Monday after worst week since March, with Dow down 500 points - The Washington Post\n",
            "https://news.google.com/__i/rss/rd/articles/CBMiSGh0dHBzOi8vd3d3Lndhc2hpbmd0b25wb3N0LmNvbS9idXNpbmVzcy8yMDIwLzA2LzE1L3N0b2NrLW1hcmtldC1lY29ub215L9IBV2h0dHBzOi8vd3d3Lndhc2hpbmd0b25wb3N0LmNvbS9idXNpbmVzcy8yMDIwLzA2LzE1L3N0b2NrLW1hcmtldC1lY29ub215Lz9vdXRwdXRUeXBlPWFtcA?oc=5\n",
            "Mon, 15 Jun 2020 14:21:00 GMT\n",
            "------------------------------------------------------------\n",
            "1\n",
            "AstraZeneca agrees to make experimental COVID-19 vaccine for Europe - The Times of Israel\n",
            "https://news.google.com/__i/rss/rd/articles/CBMiYmh0dHBzOi8vd3d3LnRpbWVzb2Zpc3JhZWwuY29tL2FzdHJhemVuZWNhLWFncmVlcy10by1tYWtlLWV4cGVyaW1lbnRhbC1jb3ZpZC0xOS12YWNjaW5lLWZvci1ldXJvcGUv0gEA?oc=5\n",
            "Sat, 13 Jun 2020 22:31:00 GMT\n",
            "------------------------------------------------------------\n",
            "2\n",
            "BP Takes $17.5 Billion Write-Down, Expects Oil Price to Stay Low - The Wall Street Journal\n",
            "https://news.google.com/__i/rss/rd/articles/CBMiZ2h0dHBzOi8vd3d3Lndzai5jb20vYXJ0aWNsZXMvYnAtdGFrZXMtMTctNS1iaWxsaW9uLXdyaXRlLWRvd24tZXhwZWN0cy1vaWwtcHJpY2UtdG8tc3RheS1sb3ctMTE1OTIyMTExNjnSAQA?oc=5\n",
            "Mon, 15 Jun 2020 12:50:26 GMT\n",
            "------------------------------------------------------------\n",
            "3\n",
            "AstraZeneca in talks with Japan, Russia, Brazil and China on COVID-19 vaccine supplies - CEO - Reuters\n",
            "https://news.google.com/__i/rss/rd/articles/CBMirgFodHRwczovL3d3dy5yZXV0ZXJzLmNvbS9hcnRpY2xlL2hlYWx0aC1jb3JvbmF2aXJ1cy12YWNjaW5lcy1hc3RyYXplbmVjYS9hc3RyYXplbmVjYS1pbi10YWxrcy13aXRoLWphcGFuLXJ1c3NpYS1icmF6aWwtYW5kLWNoaW5hLW9uLWNvdmlkLTE5LXZhY2NpbmUtc3VwcGxpZXMtY2VvLWlkVVNTOE4yQVcwMkPSATRodHRwczovL21vYmlsZS5yZXV0ZXJzLmNvbS9hcnRpY2xlL2FtcC9pZFVTUzhOMkFXMDJD?oc=5\n",
            "Sat, 13 Jun 2020 16:27:00 GMT\n",
            "------------------------------------------------------------\n",
            "4\n",
            "Walmart partners with Shopify to expand online marketplace business - CNBC\n",
            "https://news.google.com/__i/rss/rd/articles/CBMiaGh0dHBzOi8vd3d3LmNuYmMuY29tLzIwMjAvMDYvMTUvd2FsbWFydC1wYXJ0bmVycy13aXRoLXNob3BpZnktdG8tZXhwYW5kLW9ubGluZS1tYXJrZXRwbGFjZS1idXNpbmVzcy5odG1s0gFsaHR0cHM6Ly93d3cuY25iYy5jb20vYW1wLzIwMjAvMDYvMTUvd2FsbWFydC1wYXJ0bmVycy13aXRoLXNob3BpZnktdG8tZXhwYW5kLW9ubGluZS1tYXJrZXRwbGFjZS1idXNpbmVzcy5odG1s?oc=5\n",
            "Mon, 15 Jun 2020 12:53:22 GMT\n",
            "------------------------------------------------------------\n",
            "5\n",
            "Gold, silver prices down, following global stock market sell-off - Kitco NEWS\n",
            "https://news.google.com/__i/rss/rd/articles/CBMiaWh0dHBzOi8vd3d3LmtpdGNvLmNvbS9uZXdzLzIwMjAtMDYtMTUvR29sZC1zaWx2ZXItcHJpY2VzLWRvd24tZm9sbG93aW5nLWdsb2JhbC1zdG9jay1tYXJrZXQtc2VsbC1vZmYuaHRtbNIBAA?oc=5\n",
            "Mon, 15 Jun 2020 12:34:00 GMT\n",
            "------------------------------------------------------------\n",
            "6\n",
            "United Airlines files for issuance and sale of up 28 million shares, stock falls - MarketWatch\n",
            "https://news.google.com/__i/rss/rd/articles/CBMie2h0dHA6Ly93d3cubWFya2V0d2F0Y2guY29tL3N0b3J5L3VuaXRlZC1haXJsaW5lcy1maWxlcy1mb3ItaXNzdWFuY2UtYW5kLXNhbGUtb2YtdXAtMjgtbWlsbGlvbi1zaGFyZXMtc3RvY2stZmFsbHMtMjAyMC0wNi0xNdIBT2h0dHBzOi8vd3d3Lm1hcmtldHdhdGNoLmNvbS9hbXAvc3RvcnkvZ3VpZC9BQ0VBNzQ2OC01MDhDLTQ5MjUtQURENi0zMUUwQUMyNjdGRUI?oc=5\n",
            "Mon, 15 Jun 2020 13:02:00 GMT\n",
            "------------------------------------------------------------\n",
            "7\n",
            "Global stocks sink on new Covid-19 cases in China and US - Financial Times\n",
            "https://news.google.com/__i/rss/rd/articles/CBMiP2h0dHBzOi8vd3d3LmZ0LmNvbS9jb250ZW50L2E2M2I0ODIzLTNmY2UtNGM4Zi04MzA3LWM0ZWVjMTgxMWM5M9IBP2h0dHBzOi8vYW1wLmZ0LmNvbS9jb250ZW50L2E2M2I0ODIzLTNmY2UtNGM4Zi04MzA3LWM0ZWVjMTgxMWM5Mw?oc=5\n",
            "Mon, 15 Jun 2020 13:34:37 GMT\n",
            "------------------------------------------------------------\n",
            "8\n",
            "EU agrees purchase of 300 million coronavirus vaccine doses - The Local Europe\n",
            "https://news.google.com/__i/rss/rd/articles/CBMiXWh0dHBzOi8vd3d3LnRoZWxvY2FsLmNvbS8yMDIwMDYxNC9ldS1hZ3JlZXMtcHVyY2hhc2Utb2YtMzAwLW1pbGxpb24tY29yb25hdmlydXMtdmFjY2luZS1kb3Nlc9IBAA?oc=5\n",
            "Sun, 14 Jun 2020 07:40:46 GMT\n",
            "------------------------------------------------------------\n",
            "9\n",
            "The Station: Spin heads to Europe, Just Eat Takeaway gobbles up Grubhub and a drive in a Bentley Flying Spur - TechCrunch\n",
            "https://news.google.com/__i/rss/rd/articles/CBMijQFodHRwczovL3RlY2hjcnVuY2guY29tLzIwMjAvMDYvMTQvdGhlLXN0YXRpb24tc3Bpbi1oZWFkcy10by1ldXJvcGUtanVzdC1lYXQtdGFrZWF3YXktZ29iYmxlcy11cC1ncnViaHViLWFuZC1hLWRyaXZlLWluLWEtYmVudGxleS1mbHlpbmctc3B1ci_SAZEBaHR0cHM6Ly90ZWNoY3J1bmNoLmNvbS8yMDIwLzA2LzE0L3RoZS1zdGF0aW9uLXNwaW4taGVhZHMtdG8tZXVyb3BlLWp1c3QtZWF0LXRha2Vhd2F5LWdvYmJsZXMtdXAtZ3J1Ymh1Yi1hbmQtYS1kcml2ZS1pbi1hLWJlbnRsZXktZmx5aW5nLXNwdXIvYW1wLw?oc=5\n",
            "Sun, 14 Jun 2020 15:11:28 GMT\n",
            "------------------------------------------------------------\n",
            "10\n",
            "Retirees living abroad still waiting for their stimulus payments - The Washington Post\n",
            "https://news.google.com/__i/rss/rd/articles/CBMicGh0dHBzOi8vd3d3Lndhc2hpbmd0b25wb3N0LmNvbS9idXNpbmVzcy8yMDIwLzA2LzE1L3JldGlyZWVzLWxpdmluZy1hYnJvYWQtc3RpbGwtd2FpdGluZy10aGVpci1zdGltdWx1cy1wYXltZW50cy_SAX9odHRwczovL3d3dy53YXNoaW5ndG9ucG9zdC5jb20vYnVzaW5lc3MvMjAyMC8wNi8xNS9yZXRpcmVlcy1saXZpbmctYWJyb2FkLXN0aWxsLXdhaXRpbmctdGhlaXItc3RpbXVsdXMtcGF5bWVudHMvP291dHB1dFR5cGU9YW1w?oc=5\n",
            "Mon, 15 Jun 2020 11:00:58 GMT\n",
            "------------------------------------------------------------\n",
            "11\n",
            "24 Hour Fitness files for bankruptcy as it permanently closes more than 130 clubs in 14 states - Daily Mail\n",
            "https://news.google.com/__i/rss/rd/articles/CBMifWh0dHBzOi8vd3d3LmRhaWx5bWFpbC5jby51ay9uZXdzL2FydGljbGUtODQyMjIxOS8yNC1Ib3VyLUZpdG5lc3MtZmlsZXMtYmFua3J1cHRjeS1wZXJtYW5lbnRseS1jbG9zZXMtMTMwLWNsdWJzLTE0LXN0YXRlcy5odG1s0gGBAWh0dHBzOi8vd3d3LmRhaWx5bWFpbC5jby51ay9uZXdzL2FydGljbGUtODQyMjIxOS9hbXAvMjQtSG91ci1GaXRuZXNzLWZpbGVzLWJhbmtydXB0Y3ktcGVybWFuZW50bHktY2xvc2VzLTEzMC1jbHVicy0xNC1zdGF0ZXMuaHRtbA?oc=5\n",
            "Mon, 15 Jun 2020 15:35:11 GMT\n",
            "------------------------------------------------------------\n",
            "12\n",
            "Nearly 43,000 pounds of ground beef recalled due to E. coli concerns - FOX 11 Los Angeles\n",
            "https://news.google.com/__i/rss/rd/articles/CBMiXWh0dHBzOi8vd3d3LmZveGxhLmNvbS9uZXdzL25lYXJseS00MzAwMC1wb3VuZHMtb2YtZ3JvdW5kLWJlZWYtcmVjYWxsZWQtZHVlLXRvLWUtY29saS1jb25jZXJuc9IBYWh0dHBzOi8vd3d3LmZveGxhLmNvbS9uZXdzL25lYXJseS00MzAwMC1wb3VuZHMtb2YtZ3JvdW5kLWJlZWYtcmVjYWxsZWQtZHVlLXRvLWUtY29saS1jb25jZXJucy5hbXA?oc=5\n",
            "Mon, 15 Jun 2020 13:02:38 GMT\n",
            "------------------------------------------------------------\n",
            "13\n",
            "Coronavirus live updates: Red Cross to test donations, U.S. restaurant industry lost $120 billion in sales - CNBC\n",
            "https://news.google.com/__i/rss/rd/articles/CBMiPWh0dHBzOi8vd3d3LmNuYmMuY29tLzIwMjAvMDYvMTUvY29yb25hdmlydXMtbGl2ZS11cGRhdGVzLmh0bWzSAUFodHRwczovL3d3dy5jbmJjLmNvbS9hbXAvMjAyMC8wNi8xNS9jb3JvbmF2aXJ1cy1saXZlLXVwZGF0ZXMuaHRtbA?oc=5\n",
            "Mon, 15 Jun 2020 14:14:30 GMT\n",
            "------------------------------------------------------------\n",
            "14\n",
            "3 Stocks to Avoid This Week - Motley Fool\n",
            "https://news.google.com/__i/rss/rd/articles/CBMiSmh0dHBzOi8vd3d3LmZvb2wuY29tL2ludmVzdGluZy8yMDIwLzA2LzE1LzMtc3RvY2tzLXRvLWF2b2lkLXRoaXMtd2Vlay5hc3B40gFOaHR0cHM6Ly93d3cuZm9vbC5jb20vYW1wL2ludmVzdGluZy8yMDIwLzA2LzE1LzMtc3RvY2tzLXRvLWF2b2lkLXRoaXMtd2Vlay5hc3B4?oc=5\n",
            "Mon, 15 Jun 2020 11:30:00 GMT\n",
            "------------------------------------------------------------\n",
            "15\n",
            "Main Street has killed Wall Street during this rally. Here are the stocks they're buying - Seeking Alpha\n",
            "https://news.google.com/__i/rss/rd/articles/CBMiaGh0dHBzOi8vc2Vla2luZ2FscGhhLmNvbS9uZXdzLzM1ODI4NTgtbWFpbi1zdHJlZXQta2lsbGVkLXdhbGwtc3RyZWV0LWR1cmluZy10aGlzLXJhbGx5LWFyZS1zdG9ja3MtYnV5aW5n0gFsaHR0cHM6Ly9zZWVraW5nYWxwaGEuY29tL2FtcC9uZXdzLzM1ODI4NTgtbWFpbi1zdHJlZXQta2lsbGVkLXdhbGwtc3RyZWV0LWR1cmluZy10aGlzLXJhbGx5LWFyZS1zdG9ja3MtYnV5aW5n?oc=5\n",
            "Mon, 15 Jun 2020 08:37:22 GMT\n",
            "------------------------------------------------------------\n",
            "16\n",
            "Burger King adds Impossible Foods' meatless sausage on its breakfast menu nationwide - CNBC\n",
            "https://news.google.com/__i/rss/rd/articles/CBMibWh0dHBzOi8vd3d3LmNuYmMuY29tLzIwMjAvMDYvMTUvYnVyZ2VyLWtpbmctdW52ZWlscy1pbXBvc3NpYmxlLWZvb2RzLW1lYXRsZXNzLXNhdXNhZ2UtYnJlYWtmYXN0LXNhbmR3aWNoLmh0bWzSAXFodHRwczovL3d3dy5jbmJjLmNvbS9hbXAvMjAyMC8wNi8xNS9idXJnZXIta2luZy11bnZlaWxzLWltcG9zc2libGUtZm9vZHMtbWVhdGxlc3Mtc2F1c2FnZS1icmVha2Zhc3Qtc2FuZHdpY2guaHRtbA?oc=5\n",
            "Mon, 15 Jun 2020 12:59:42 GMT\n",
            "------------------------------------------------------------\n",
            "17\n",
            "ByteDance to shut down Vigo apps - TechCrunch\n",
            "https://news.google.com/__i/rss/rd/articles/CBMiUmh0dHBzOi8vdGVjaGNydW5jaC5jb20vMjAyMC8wNi8xNC92aWdvLXZpZGVvLWxpdGUtYXBwcy1zaHV0LWRvd24tYnl0ZWRhbmNlLXRpa3Rvay_SAVZodHRwczovL3RlY2hjcnVuY2guY29tLzIwMjAvMDYvMTQvdmlnby12aWRlby1saXRlLWFwcHMtc2h1dC1kb3duLWJ5dGVkYW5jZS10aWt0b2svYW1wLw?oc=5\n",
            "Mon, 15 Jun 2020 06:23:10 GMT\n",
            "------------------------------------------------------------\n",
            "18\n",
            "Nissan unveils 2021 Rogue crossover as key product in global turnaround plan - CNBC\n",
            "https://news.google.com/__i/rss/rd/articles/CBMiZGh0dHBzOi8vd3d3LmNuYmMuY29tLzIwMjAvMDYvMTUvbmlzc2FuLXVudmVpbHMtbmV3LXJvZ3VlLWNyb3Nzb3Zlci11bmRlci1nbG9iYWwtdHVybmFyb3VuZC1wbGFuLmh0bWzSAWhodHRwczovL3d3dy5jbmJjLmNvbS9hbXAvMjAyMC8wNi8xNS9uaXNzYW4tdW52ZWlscy1uZXctcm9ndWUtY3Jvc3NvdmVyLXVuZGVyLWdsb2JhbC10dXJuYXJvdW5kLXBsYW4uaHRtbA?oc=5\n",
            "Mon, 15 Jun 2020 13:07:29 GMT\n",
            "------------------------------------------------------------\n",
            "19\n",
            "Facebook says its business could afford to get rid of news - Business Insider - Business Insider\n",
            "https://news.google.com/__i/rss/rd/articles/CBMiR2h0dHBzOi8vd3d3LmJ1c2luZXNzaW5zaWRlci5jb20vZmFjZWJvb2stY291bGQtYWZmb3JkLWRpdGNoLW5ld3MtMjAyMC020gFLaHR0cHM6Ly93d3cuYnVzaW5lc3NpbnNpZGVyLmNvbS9mYWNlYm9vay1jb3VsZC1hZmZvcmQtZGl0Y2gtbmV3cy0yMDIwLTY_YW1w?oc=5\n",
            "Mon, 15 Jun 2020 11:21:04 GMT\n",
            "------------------------------------------------------------\n",
            "20\n",
            "Video shows maskless woman intentionally coughing on customer at Queens bagel shop - WABC-TV\n",
            "https://news.google.com/__i/rss/rd/articles/CBMiPmh0dHBzOi8vYWJjN255LmNvbS9xdWVlbnMtY291Z2hpbmctYmFnZWwtc2hvcC1hc3RvcmlhLzYyNDc4NTIv0gFCaHR0cHM6Ly9hYmM3bnkuY29tL2FtcC9xdWVlbnMtY291Z2hpbmctYmFnZWwtc2hvcC1hc3RvcmlhLzYyNDc4NTIv?oc=5\n",
            "Mon, 15 Jun 2020 02:20:51 GMT\n",
            "------------------------------------------------------------\n",
            "21\n",
            "GE aviation head to retire, Embraer executive to take helm - Reuters\n",
            "https://news.google.com/__i/rss/rd/articles/CBMic2h0dHBzOi8vd3d3LnJldXRlcnMuY29tL2FydGljbGUvdXMtZ2UtbW92ZXMvZ2UtYXZpYXRpb24taGVhZC10by1yZXRpcmUtZW1icmFlci1leGVjdXRpdmUtdG8tdGFrZS1oZWxtLWlkVVNLQk4yM00xUFLSATRodHRwczovL21vYmlsZS5yZXV0ZXJzLmNvbS9hcnRpY2xlL2FtcC9pZFVTS0JOMjNNMVBS?oc=5\n",
            "Mon, 15 Jun 2020 15:32:15 GMT\n",
            "------------------------------------------------------------\n",
            "22\n",
            "Gas prices are going up as America reopens, the national average is $2.10 a gallon - USA TODAY\n",
            "https://news.google.com/__i/rss/rd/articles/CBMigwFodHRwczovL3d3dy51c2F0b2RheS5jb20vc3RvcnkvbW9uZXkvY2Fycy8yMDIwLzA2LzE0L2dhc29saW5lLXByaWNlLWluY3JlYXNlcy1zdW1tZXItMjAyMC1jb3JvbmF2aXJ1cy1yZW9wZW5pbmctYW1lcmljYS8zMTg4MTkxMDAxL9IBJ2h0dHBzOi8vYW1wLnVzYXRvZGF5LmNvbS9hbXAvMzE4ODE5MTAwMQ?oc=5\n",
            "Sun, 14 Jun 2020 21:20:50 GMT\n",
            "------------------------------------------------------------\n",
            "23\n",
            "Dallas County Reports More Than 300 New COVID-19 Cases for 5th Straight Day - NBC 5 Dallas-Fort Worth\n",
            "https://news.google.com/__i/rss/rd/articles/CBMifGh0dHBzOi8vd3d3Lm5iY2Rmdy5jb20vbmV3cy9jb3JvbmF2aXJ1cy9kYWxsYXMtY291bnR5LXJlcG9ydHMtbW9yZS10aGFuLTMwMC1uZXctY292aWQtMTktY2FzZXMtZm9yLTV0aC1zdHJhaWdodC1kYXkvMjM4ODU5OS_SAYABaHR0cHM6Ly93d3cubmJjZGZ3LmNvbS9uZXdzL2Nvcm9uYXZpcnVzL2RhbGxhcy1jb3VudHktcmVwb3J0cy1tb3JlLXRoYW4tMzAwLW5ldy1jb3ZpZC0xOS1jYXNlcy1mb3ItNXRoLXN0cmFpZ2h0LWRheS8yMzg4NTk5Lz9hbXA?oc=5\n",
            "Mon, 15 Jun 2020 03:44:00 GMT\n",
            "------------------------------------------------------------\n",
            "24\n",
            "Pierce County reports 19 new COVID-19 cases - Tacoma News Tribune\n",
            "https://news.google.com/__i/rss/rd/articles/CBMiRWh0dHBzOi8vd3d3LnRoZW5ld3N0cmlidW5lLmNvbS9uZXdzL2Nvcm9uYXZpcnVzL2FydGljbGUyNDM1MzI4ODIuaHRtbNIBRWh0dHBzOi8vYW1wLnRoZW5ld3N0cmlidW5lLmNvbS9uZXdzL2Nvcm9uYXZpcnVzL2FydGljbGUyNDM1MzI4ODIuaHRtbA?oc=5\n",
            "Sun, 14 Jun 2020 22:05:17 GMT\n",
            "------------------------------------------------------------\n",
            "25\n",
            "Hertz warns new stock buyers they'll need a miracle to avoid wipeout - Financial Post\n",
            "https://news.google.com/__i/rss/rd/articles/CBMiRmh0dHBzOi8vYnVzaW5lc3MuZmluYW5jaWFscG9zdC5jb20vaW52ZXN0aW5nL2hlcnR6LXdhcm5zLXN0b2NrLXdpcGVvdXTSAUpodHRwczovL2J1c2luZXNzLmZpbmFuY2lhbHBvc3QuY29tL2ludmVzdGluZy9oZXJ0ei13YXJucy1zdG9jay13aXBlb3V0L2FtcA?oc=5\n",
            "Mon, 15 Jun 2020 13:47:00 GMT\n",
            "------------------------------------------------------------\n",
            "26\n",
            "Japan plunges more than 3%, with stocks in Asia dropping as virus fears resurface - CNBC\n",
            "https://news.google.com/__i/rss/rd/articles/CBMiX2h0dHBzOi8vd3d3LmNuYmMuY29tLzIwMjAvMDYvMTUvYXNpYS1tYXJrZXRzLWNvcm9uYXZpcnVzLWNoaW5hLWVjb25vbXktY3VycmVuY2llcy1pbi1mb2N1cy5odG1s0gFjaHR0cHM6Ly93d3cuY25iYy5jb20vYW1wLzIwMjAvMDYvMTUvYXNpYS1tYXJrZXRzLWNvcm9uYXZpcnVzLWNoaW5hLWVjb25vbXktY3VycmVuY2llcy1pbi1mb2N1cy5odG1s?oc=5\n",
            "Mon, 15 Jun 2020 08:32:44 GMT\n",
            "------------------------------------------------------------\n",
            "27\n",
            "White House Adviser: No 'Transparency' Promise Ever Made Over Billions In Loans - HuffPost\n",
            "https://news.google.com/__i/rss/rd/articles/CBMiZmh0dHBzOi8vd3d3Lmh1ZmZwb3N0LmNvbS9lbnRyeS9sYXJyeS1rdWRsb3ctc3RldmVuLW1udWNoaW4tcHBwLXRyYW5zcGFyZW5jeV9uXzVlZTY1ZmNmYzViNmVmZWM3NzU4NWI0Y9IBP2h0dHBzOi8vbS5odWZmcG9zdC5jb20vdXMvZW50cnkvdXNfNWVlNjVmY2ZjNWI2ZWZlYzc3NTg1YjRjL2FtcA?oc=5\n",
            "Sun, 14 Jun 2020 19:02:02 GMT\n",
            "------------------------------------------------------------\n",
            "28\n",
            "Owner of cited Nashville honky tonks fed up, wants to get back to business - WZTV\n",
            "https://news.google.com/__i/rss/rd/articles/CBMiZGh0dHA6Ly9mb3gxNy5jb20vbmV3cy9sb2NhbC9vd25lci1vZi1jaXRlZC1uYXNodmlsbGUtaG9ua3ktdG9ua3MtZmVkLXVwLXdhbnQtdG8tZ2V0LWJhY2stdG8tYnVzaW5lc3PSAWlodHRwczovL2ZveDE3LmNvbS9hbXAvbmV3cy9sb2NhbC9vd25lci1vZi1jaXRlZC1uYXNodmlsbGUtaG9ua3ktdG9ua3MtZmVkLXVwLXdhbnQtdG8tZ2V0LWJhY2stdG8tYnVzaW5lc3M?oc=5\n",
            "Mon, 15 Jun 2020 03:01:22 GMT\n",
            "------------------------------------------------------------\n",
            "29\n",
            "Amazon's Bezos willing to testify before House panel: report - MarketWatch\n",
            "https://news.google.com/__i/rss/rd/articles/CBMiZmh0dHA6Ly93d3cubWFya2V0d2F0Y2guY29tL3N0b3J5L2FtYXpvbnMtYmV6b3Mtd2lsbGluZy10by10ZXN0aWZ5LWJlZm9yZS1ob3VzZS1wYW5lbC1yZXBvcnQtMjAyMC0wNi0xNdIBT2h0dHBzOi8vd3d3Lm1hcmtldHdhdGNoLmNvbS9hbXAvc3RvcnkvZ3VpZC83QzgxNDEwMy1EQThBLTQwOEQtOTI4MS1GREZCRTE1NTYzRTc?oc=5\n",
            "Mon, 15 Jun 2020 14:57:00 GMT\n",
            "------------------------------------------------------------\n",
            "30\n",
            "Indicted CEO of Pilgrim’s Pride takes leave to focus on legal defense - MarketWatch\n",
            "https://news.google.com/__i/rss/rd/articles/CBMicGh0dHA6Ly93d3cubWFya2V0d2F0Y2guY29tL3N0b3J5L2luZGljdGVkLWNlby1vZi1waWxncmltcy1wcmlkZS10YWtlcy1sZWF2ZS10by1mb2N1cy1vbi1sZWdhbC1kZWZlbnNlLTIwMjAtMDYtMTTSAU9odHRwczovL3d3dy5tYXJrZXR3YXRjaC5jb20vYW1wL3N0b3J5L2d1aWQvMTI0QzBFMkMtQUU5QS0xMUVBLUJBQUQtQjMwNTEyQkY5QTNG?oc=5\n",
            "Mon, 15 Jun 2020 00:00:46 GMT\n",
            "------------------------------------------------------------\n",
            "31\n",
            "AstraZeneca to Supply 400 Million Doses of Vaccine in Europe by Year End - The Epoch Times\n",
            "https://news.google.com/__i/rss/rd/articles/CBMicmh0dHBzOi8vbS50aGVlcG9jaHRpbWVzLmNvbS9waGFybWEtZ2lhbnQtdG8tc3VwcGx5LTQwMC1taWxsaW9uLWRvc2VzLW9mLXZhY2NpbmUtaW4tZXVyb3BlLWJ5LXllYXItZW5kXzMzODc1NTYuaHRtbNIBeGh0dHBzOi8vd3d3LnRoZWVwb2NodGltZXMuY29tL3BoYXJtYS1naWFudC10by1zdXBwbHktNDAwLW1pbGxpb24tZG9zZXMtb2YtdmFjY2luZS1pbi1ldXJvcGUtYnkteWVhci1lbmRfMzM4NzU1Ni5odG1sL2FtcA?oc=5\n",
            "Sun, 14 Jun 2020 23:10:36 GMT\n",
            "------------------------------------------------------------\n",
            "32\n",
            "Sinovac says its Covid-19 vaccine generated immune responses - STAT\n",
            "https://news.google.com/__i/rss/rd/articles/CBMiYmh0dHBzOi8vd3d3LnN0YXRuZXdzLmNvbS8yMDIwLzA2LzE0L3Npbm92YWMtZWFybHktZGF0YS1jb3ZpZDE5LXZhY2NpbmUtZ2VuZXJhdGVkLWltbXVuZS1yZXNwb25zZXMv0gEA?oc=5\n",
            "Sun, 14 Jun 2020 12:46:50 GMT\n",
            "------------------------------------------------------------\n",
            "33\n",
            "Taiwan pedals faster to meet global pandemic demand for bikes - Bangkok Post\n",
            "https://news.google.com/__i/rss/rd/articles/CBMiZ2h0dHBzOi8vd3d3LmJhbmdrb2twb3N0LmNvbS93b3JsZC8xOTM1MTA0L3RhaXdhbi1wZWRhbHMtZmFzdGVyLXRvLW1lZXQtZ2xvYmFsLXBhbmRlbWljLWRlbWFuZC1mb3ItYmlrZXPSAQA?oc=5\n",
            "Mon, 15 Jun 2020 03:45:00 GMT\n",
            "------------------------------------------------------------\n",
            "34\n",
            "Landlord alleges 'essential' retailer hasn't paid rent in South Sac - Sacramento Business Journal\n",
            "https://news.google.com/__i/rss/rd/articles/CBMiaGh0dHBzOi8vd3d3LmJpempvdXJuYWxzLmNvbS9zYWNyYW1lbnRvL25ld3MvMjAyMC8wNi8xMy9sYXdzdWl0LWFsbGVnZXMtZGlzY291bnRlci1oYXMtbm90LXBhaWQtcmVudC5odG1s0gFsaHR0cHM6Ly93d3cuYml6am91cm5hbHMuY29tL3NhY3JhbWVudG8vbmV3cy8yMDIwLzA2LzEzL2xhd3N1aXQtYWxsZWdlcy1kaXNjb3VudGVyLWhhcy1ub3QtcGFpZC1yZW50LmFtcC5odG1s?oc=5\n",
            "Sat, 13 Jun 2020 17:30:00 GMT\n",
            "------------------------------------------------------------\n",
            "35\n",
            "What to look for in the European Union charges against Amazon - Politico\n",
            "https://news.google.com/__i/rss/rd/articles/CBMiTWh0dHBzOi8vd3d3LnBvbGl0aWNvLmNvbS9uZXdzLzIwMjAvMDYvMTQvZXVyb3BlYW4tdW5pb24tYW1hem9uLWNoYXJnZXMtMzE5MTc20gEA?oc=5\n",
            "Mon, 15 Jun 2020 02:33:00 GMT\n",
            "------------------------------------------------------------\n",
            "36\n",
            "Israel in talks to buy COVID-19 vaccine possibly available by September - Ynetnews\n",
            "https://news.google.com/__i/rss/rd/articles/CBMiOWh0dHBzOi8vd3d3LnluZXRuZXdzLmNvbS9oZWFsdGhfc2NpZW5jZS9hcnRpY2xlL0IxWmMxNkVUVdIBAA?oc=5\n",
            "Mon, 15 Jun 2020 11:05:00 GMT\n",
            "------------------------------------------------------------\n",
            "37\n",
            "American Express gets nod to start operating card network in China - Fox Business\n",
            "https://news.google.com/__i/rss/rd/articles/CBMiZmh0dHBzOi8vd3d3LmZveGJ1c2luZXNzLmNvbS9tYXJrZXRzL2FtZXJpY2FuLWV4cHJlc3MtZ2V0cy1ub2QtdG8tc3RhcnQtb3BlcmF0aW5nLWNhcmQtbmV0d29yay1pbi1jaGluYdIBAA?oc=5\n",
            "Mon, 15 Jun 2020 07:36:51 GMT\n",
            "------------------------------------------------------------\n",
            "38\n",
            "Facebook's WhatsApp brings digital payment to users in Brazil - Reuters\n",
            "https://news.google.com/__i/rss/rd/articles/CBMihgFodHRwczovL3d3dy5yZXV0ZXJzLmNvbS9hcnRpY2xlL3VzLXdoYXRzYXBwLWJyYXppbC1wYXltZW50cy9mYWNlYm9va3Mtd2hhdHNhcHAtYnJpbmdzLWRpZ2l0YWwtcGF5bWVudC10by11c2Vycy1pbi1icmF6aWwtaWRVU0tCTjIzTTFNU9IBNGh0dHBzOi8vbW9iaWxlLnJldXRlcnMuY29tL2FydGljbGUvYW1wL2lkVVNLQk4yM00xTVM?oc=5\n",
            "Mon, 15 Jun 2020 12:15:00 GMT\n",
            "------------------------------------------------------------\n",
            "39\n",
            "Gold prices fall more than 1.5% even as stocks retreat and coronavirus cases seen rising - MarketWatch\n",
            "https://news.google.com/__i/rss/rd/articles/CBMihQFodHRwczovL3d3dy5tYXJrZXR3YXRjaC5jb20vc3RvcnkvZ29sZC1wcmljZXMtdHVtYmxlLW1vcmUtdGhhbi0xNS1ldmVuLWFzLXN0b2Nrcy1yZXRyZWF0LWFuZC1jb3JvbmF2aXJ1cy1jYXNlcy1zZWVuLXJpc2luZy0yMDIwLTA2LTE10gFPaHR0cHM6Ly93d3cubWFya2V0d2F0Y2guY29tL2FtcC9zdG9yeS9ndWlkL0M4OTYxRDI0LUFFQkYtMTFFQS1CRDJCLTQwNjJBNEIwQzEzMQ?oc=5\n",
            "Mon, 15 Jun 2020 14:00:44 GMT\n",
            "------------------------------------------------------------\n",
            "40\n",
            "Protests force several Little Rock Walmart stores to temporarily shut down on Sunday - KATV\n",
            "https://news.google.com/__i/rss/rd/articles/CBMib2h0dHA6Ly9rYXR2LmNvbS9uZXdzL2xvY2FsL3Byb3Rlc3RzLWZvcmNlLXNldmVyYWwtbGl0dGxlLXJvY2std2FsbWFydC1zdG9yZXMtdG8tdGVtcG9yYXJpbHktc2h1dC1kb3duLW9uLXN1bmRhedIBdGh0dHBzOi8va2F0di5jb20vYW1wL25ld3MvbG9jYWwvcHJvdGVzdHMtZm9yY2Utc2V2ZXJhbC1saXR0bGUtcm9jay13YWxtYXJ0LXN0b3Jlcy10by10ZW1wb3JhcmlseS1zaHV0LWRvd24tb24tc3VuZGF5?oc=5\n",
            "Mon, 15 Jun 2020 03:33:52 GMT\n",
            "------------------------------------------------------------\n",
            "41\n",
            "China's factory output perks up but consumers stay cautious - Fox Business\n",
            "https://news.google.com/__i/rss/rd/articles/CBMiXmh0dHBzOi8vd3d3LmZveGJ1c2luZXNzLmNvbS9tYXJrZXRzL2NoaW5hcy1mYWN0b3J5LW91dHB1dC1wZXJrcy11cC1idXQtY29uc3VtZXJzLXN0YXktY2F1dGlvdXPSAWJodHRwczovL3d3dy5mb3hidXNpbmVzcy5jb20vbWFya2V0cy9jaGluYXMtZmFjdG9yeS1vdXRwdXQtcGVya3MtdXAtYnV0LWNvbnN1bWVycy1zdGF5LWNhdXRpb3VzLmFtcA?oc=5\n",
            "Mon, 15 Jun 2020 05:29:15 GMT\n",
            "------------------------------------------------------------\n",
            "42\n",
            "Fed’s Powell to bring sober message to Capitol Hill this week – Bloomberg - FXStreet\n",
            "https://news.google.com/__i/rss/rd/articles/CBMicWh0dHBzOi8vd3d3LmZ4c3RyZWV0LmNvbS9uZXdzL2ZlZHMtcG93ZWxsLXRvLWJyaW5nLXNvYmVyLW1lc3NhZ2UtdG8tY2FwaXRvbC1oaWxsLXRoaXMtd2Vlay1ibG9vbWJlcmctMjAyMDA2MTQyMTUz0gF1aHR0cHM6Ly93d3cuZnhzdHJlZXQuY29tL2FtcC9uZXdzL2ZlZHMtcG93ZWxsLXRvLWJyaW5nLXNvYmVyLW1lc3NhZ2UtdG8tY2FwaXRvbC1oaWxsLXRoaXMtd2Vlay1ibG9vbWJlcmctMjAyMDA2MTQyMTUz?oc=5\n",
            "Sun, 14 Jun 2020 21:53:00 GMT\n",
            "------------------------------------------------------------\n",
            "43\n",
            "Electric car charge points soar to 7.3 million chargers, 60% growth in public chargers - Electrek\n",
            "https://news.google.com/__i/rss/rd/articles/CBMiP2h0dHBzOi8vZWxlY3RyZWsuY28vMjAyMC8wNi8xNS9lbGVjdHJpYy1jYXItY2hhcmdlLXBvaW50cy1kYXRhL9IBQ2h0dHBzOi8vZWxlY3RyZWsuY28vMjAyMC8wNi8xNS9lbGVjdHJpYy1jYXItY2hhcmdlLXBvaW50cy1kYXRhL2FtcC8?oc=5\n",
            "Mon, 15 Jun 2020 13:22:40 GMT\n",
            "------------------------------------------------------------\n",
            "44\n",
            "Time To Overweight Renewable Energy - Seeking Alpha\n",
            "https://news.google.com/__i/rss/rd/articles/CBMiTGh0dHBzOi8vc2Vla2luZ2FscGhhLmNvbS9hcnRpY2xlLzQzNTM3MjMtdGltZS10by1vdmVyd2VpZ2h0LXJlbmV3YWJsZS1lbmVyZ3nSAVBodHRwczovL3NlZWtpbmdhbHBoYS5jb20vYW1wL2FydGljbGUvNDM1MzcyMy10aW1lLXRvLW92ZXJ3ZWlnaHQtcmVuZXdhYmxlLWVuZXJneQ?oc=5\n",
            "Sun, 14 Jun 2020 17:33:37 GMT\n",
            "------------------------------------------------------------\n",
            "45\n",
            "Mortgage Rates Are Crashing – But That Won’t Save the Housing Market - CCN.com\n",
            "https://news.google.com/__i/rss/rd/articles/CBMiVmh0dHBzOi8vd3d3LmNjbi5jb20vbW9ydGdhZ2UtcmF0ZXMtYXJlLWNyYXNoaW5nLWJ1dC10aGF0LXdvbnQtc2F2ZS10aGUtaG91c2luZy1tYXJrZXQv0gFWaHR0cHM6Ly93d3cuY2NuLmNvbS9tb3J0Z2FnZS1yYXRlcy1hcmUtY3Jhc2hpbmctYnV0LXRoYXQtd29udC1zYXZlLXRoZS1ob3VzaW5nLW1hcmtldC8?oc=5\n",
            "Sun, 14 Jun 2020 18:00:00 GMT\n",
            "------------------------------------------------------------\n",
            "46\n",
            "Colorado oil and gas company files for Chapter 11 bankruptcy - New York Business Journal\n",
            "https://news.google.com/__i/rss/rd/articles/CBMiYGh0dHBzOi8vd3d3LmJpempvdXJuYWxzLmNvbS9kZW52ZXIvbmV3cy8yMDIwLzA2LzE1L2V4dHJhY3Rpb24tb2lsLWdhcy1jaGFwdGVyLTExLWJhbmtycHV0Y3kuaHRtbNIBZGh0dHBzOi8vd3d3LmJpempvdXJuYWxzLmNvbS9kZW52ZXIvbmV3cy8yMDIwLzA2LzE1L2V4dHJhY3Rpb24tb2lsLWdhcy1jaGFwdGVyLTExLWJhbmtycHV0Y3kuYW1wLmh0bWw?oc=5\n",
            "Mon, 15 Jun 2020 14:55:26 GMT\n",
            "------------------------------------------------------------\n",
            "47\n",
            "European stocks open sharply lower on second wave fears as BP stumbles - MarketWatch\n",
            "https://news.google.com/__i/rss/rd/articles/CBMicmh0dHA6Ly93d3cubWFya2V0d2F0Y2guY29tL3N0b3J5L2V1cm9wZWFuLXN0b2Nrcy1vcGVuLXNoYXJwbHktbG93ZXItb24tc2Vjb25kLXdhdmUtZmVhcnMtYXMtYnAtc3R1bWJsZXMtMjAyMC0wNi0xNdIBT2h0dHBzOi8vd3d3Lm1hcmtldHdhdGNoLmNvbS9hbXAvc3RvcnkvZ3VpZC8xOTJEQjAwNS0yNzgzLTQ3MDgtQTc4RC04QjdCNkU1MkQxQTI?oc=5\n",
            "Mon, 15 Jun 2020 07:04:00 GMT\n",
            "------------------------------------------------------------\n",
            "48\n",
            "Morgan Stanley doubles down on forecast for a V-shaped economic recovery by 4th quarter - Business Insider\n",
            "https://news.google.com/__i/rss/rd/articles/CBMidWh0dHBzOi8vd3d3LmJ1c2luZXNzaW5zaWRlci5jb20vZWNvbm9taWMtb3V0bG9vay1tb3JnYW4tc3RhbmxleS12LXNoYXBlZC1yZWNvdmVyeS1zdG9ja3MtY29yb25hdmlydXMtcmVjZXNzaW9uLTIwMjAtNtIBjQFodHRwczovL21hcmtldHMuYnVzaW5lc3NpbnNpZGVyLmNvbS9hbXAvbmV3cy9lY29ub21pYy1vdXRsb29rLW1vcmdhbi1zdGFubGV5LXYtc2hhcGVkLXJlY292ZXJ5LXN0b2Nrcy1jb3JvbmF2aXJ1cy1yZWNlc3Npb24tMjAyMC02LTEwMjkzMDgyODQ?oc=5\n",
            "Mon, 15 Jun 2020 15:08:43 GMT\n",
            "------------------------------------------------------------\n",
            "49\n",
            "Genius Brands stock surges after Arnold Schwarzenegger enters agreement to be 'significant investor' - MarketWatch\n",
            "https://news.google.com/__i/rss/rd/articles/CBMijwFodHRwczovL3d3dy5tYXJrZXR3YXRjaC5jb20vc3RvcnkvZ2VuaXVzLWJyYW5kcy1zdG9jay1zdXJnZXMtYWZ0ZXItYXJub2xkLXNjaHdhcnplbmVnZ2VyLWVudGVycy1hZ3JlZW1lbnQtdG8tYmUtc2lnbmlmaWNhbnQtaW52ZXN0b3ItMjAyMC0wNi0xNdIBT2h0dHBzOi8vd3d3Lm1hcmtldHdhdGNoLmNvbS9hbXAvc3RvcnkvZ3VpZC8zMzJENTkxQi01RTEzLTQ2OTMtOUM0Mi0yMEVBQjI4QTVCOEM?oc=5\n",
            "Mon, 15 Jun 2020 12:43:00 GMT\n",
            "------------------------------------------------------------\n",
            "50\n",
            "9to5Toys Father’s Day Gift Guide: Ideas for Dad at all price points - 9to5Toys\n",
            "https://news.google.com/__i/rss/rd/articles/CBMiPGh0dHBzOi8vOXRvNXRveXMuY29tLzIwMjAvMDYvMTMvZmF0aGVycy1kYXktZ2lmdC1ndWlkZS0yMDIwL9IBQGh0dHBzOi8vOXRvNXRveXMuY29tLzIwMjAvMDYvMTMvZmF0aGVycy1kYXktZ2lmdC1ndWlkZS0yMDIwL2FtcC8?oc=5\n",
            "Sat, 13 Jun 2020 17:12:35 GMT\n",
            "------------------------------------------------------------\n",
            "51\n",
            "Huge queues outside Primark as some wait overnight to shop - Metro.co.uk\n",
            "https://news.google.com/__i/rss/rd/articles/CBMiWGh0dHBzOi8vbWV0cm8uY28udWsvMjAyMC8wNi8xNS9odWdlLXF1ZXVlcy1vdXRzaWRlLXByaW1hcmstd2FpdC1vdmVybmlnaHQtc2hvcC0xMjg1MzE1OC_SAVxodHRwczovL21ldHJvLmNvLnVrLzIwMjAvMDYvMTUvaHVnZS1xdWV1ZXMtb3V0c2lkZS1wcmltYXJrLXdhaXQtb3Zlcm5pZ2h0LXNob3AtMTI4NTMxNTgvYW1wLw?oc=5\n",
            "Mon, 15 Jun 2020 09:51:21 GMT\n",
            "------------------------------------------------------------\n",
            "52\n",
            "India’s Reliance Jio Platforms to sell $250 million stake to L Catterton - TechCrunch\n",
            "https://news.google.com/__i/rss/rd/articles/CBMiaWh0dHBzOi8vdGVjaGNydW5jaC5jb20vMjAyMC8wNi8xMy9pbmRpYXMtcmVsaWFuY2UtamlvLXBsYXRmb3Jtcy10by1zZWxsLTI1MC1taWxsaW9uLXN0YWtlLXRvLWwtY2F0dGVydG9uL9IBbWh0dHBzOi8vdGVjaGNydW5jaC5jb20vMjAyMC8wNi8xMy9pbmRpYXMtcmVsaWFuY2UtamlvLXBsYXRmb3Jtcy10by1zZWxsLTI1MC1taWxsaW9uLXN0YWtlLXRvLWwtY2F0dGVydG9uL2FtcC8?oc=5\n",
            "Sat, 13 Jun 2020 20:49:01 GMT\n",
            "------------------------------------------------------------\n",
            "53\n",
            "Katrin Davidsdottir boycotts CrossFit over CEO scandal - South China Morning Post\n",
            "https://news.google.com/__i/rss/rd/articles/CBMid2h0dHBzOi8vd3d3LnNjbXAuY29tL3Nwb3J0L291dGRvb3IvY3Jvc3NmaXQvYXJ0aWNsZS8zMDg4OTc4L2thdHJpbi1kYXZpZHNkb3R0aXItYm95Y290dHMtY3Jvc3NmaXQtb3Zlci1jZW8tc2NhbmRhbC1wb3N00gF3aHR0cHM6Ly9hbXAuc2NtcC5jb20vc3BvcnQvb3V0ZG9vci9jcm9zc2ZpdC9hcnRpY2xlLzMwODg5Nzgva2F0cmluLWRhdmlkc2RvdHRpci1ib3ljb3R0cy1jcm9zc2ZpdC1vdmVyLWNlby1zY2FuZGFsLXBvc3Q?oc=5\n",
            "Sun, 14 Jun 2020 11:30:23 GMT\n",
            "------------------------------------------------------------\n",
            "54\n",
            "Demand For Used Cars Right Now Is Through The Roof - Jalopnik\n",
            "https://news.google.com/__i/rss/rd/articles/CBMiUmh0dHBzOi8vamFsb3BuaWsuY29tL2RlbWFuZC1mb3ItdXNlZC1jYXJzLXJpZ2h0LW5vdy1pcy10aHJvdWdoLXRoZS1yb29mLTE4NDQwMzczMDfSAVZodHRwczovL2phbG9wbmlrLmNvbS9kZW1hbmQtZm9yLXVzZWQtY2Fycy1yaWdodC1ub3ctaXMtdGhyb3VnaC10aGUtcm9vZi0xODQ0MDM3MzA3L2FtcA?oc=5\n",
            "Mon, 15 Jun 2020 14:26:03 GMT\n",
            "------------------------------------------------------------\n",
            "55\n",
            "Stocks Decline, Treasuries Gain Amid Virus Fears: Markets Wrap - Bloomberg\n",
            "https://news.google.com/__i/rss/rd/articles/CBMibmh0dHBzOi8vd3d3LmJsb29tYmVyZy5jb20vbmV3cy9hcnRpY2xlcy8yMDIwLTA2LTE0L2F1c3NpZS1zbGlwcy1hcy1jaGluYS12aXJ1cy1vdXRicmVhay1tb25pdG9yZWQtbWFya2V0cy13cmFw0gFyaHR0cHM6Ly93d3cuYmxvb21iZXJnLmNvbS9hbXAvbmV3cy9hcnRpY2xlcy8yMDIwLTA2LTE0L2F1c3NpZS1zbGlwcy1hcy1jaGluYS12aXJ1cy1vdXRicmVhay1tb25pdG9yZWQtbWFya2V0cy13cmFw?oc=5\n",
            "Mon, 15 Jun 2020 15:25:57 GMT\n",
            "------------------------------------------------------------\n",
            "56\n",
            "Your NEW Ultimate Guide to Outdoor Dining in Hoboken + Jersey City - hobokengirl.com\n",
            "https://news.google.com/__i/rss/rd/articles/CBMiUGh0dHBzOi8vd3d3LmhvYm9rZW5naXJsLmNvbS9vdXRkb29yLWRpbmluZy1zaWRld2Fsay1wYXJrbGV0LWhvYm9rZW4tamVyc2V5LWNpdHkv0gEA?oc=5\n",
            "Sun, 14 Jun 2020 17:43:43 GMT\n",
            "------------------------------------------------------------\n",
            "57\n",
            "Altamonte Springs bar closes after customers test positive for COVID-19 - WFTV Orlando\n",
            "https://news.google.com/__i/rss/rd/articles/CBMijwFodHRwczovL3d3dy53ZnR2LmNvbS9uZXdzL2xvY2FsL3NlbWlub2xlLWNvdW50eS9hbHRhbW9udGUtc3ByaW5ncy1iYXItY2xvc2VzLWFmdGVyLWN1c3RvbWVycy10ZXN0LXBvc2l0aXZlLWNvdmlkLTE5L1NZUDNaNVRYTkZITlJCQldSRkZORUVTQ0lRL9IBngFodHRwczovL3d3dy53ZnR2LmNvbS9uZXdzL2xvY2FsL3NlbWlub2xlLWNvdW50eS9hbHRhbW9udGUtc3ByaW5ncy1iYXItY2xvc2VzLWFmdGVyLWN1c3RvbWVycy10ZXN0LXBvc2l0aXZlLWNvdmlkLTE5L1NZUDNaNVRYTkZITlJCQldSRkZORUVTQ0lRLz9vdXRwdXRUeXBlPWFtcA?oc=5\n",
            "Sun, 14 Jun 2020 23:00:11 GMT\n",
            "------------------------------------------------------------\n",
            "58\n",
            "American, United move into LaGuardia Airport's new Terminal B - USA TODAY\n",
            "https://news.google.com/__i/rss/rd/articles/CBMibmh0dHBzOi8vd3d3LnVzYXRvZGF5LmNvbS9zdG9yeS90cmF2ZWwvMjAyMC8wNi8xMy9sYWd1YXJkaWEtYWlycG9ydC10ZXJtaW5hbC1iLWFtZXJpY2FuLXVuaXRlZC1tb3ZlLzMxODQ2MTQwMDEv0gEnaHR0cHM6Ly9hbXAudXNhdG9kYXkuY29tL2FtcC8zMTg0NjE0MDAx?oc=5\n",
            "Sat, 13 Jun 2020 22:31:53 GMT\n",
            "------------------------------------------------------------\n",
            "59\n",
            "Fears of Virus Resurgence in Beijing - Bloomberg Markets and Finance\n",
            "https://news.google.com/__i/rss/rd/articles/CBMiK2h0dHBzOi8vd3d3LnlvdXR1YmUuY29tL3dhdGNoP3Y9a3VfQ3ZRTTdFUmfSAQA?oc=5\n",
            "Mon, 15 Jun 2020 04:46:35 GMT\n",
            "------------------------------------------------------------\n",
            "60\n",
            "Defending 100% Clean Power: An Energy Efficiency Approach - CleanTechnica\n",
            "https://news.google.com/__i/rss/rd/articles/CBMiXWh0dHBzOi8vY2xlYW50ZWNobmljYS5jb20vMjAyMC8wNi8xMy9kZWZlbmRpbmctMTAwLWNsZWFuLXBvd2VyLWFuLWVuZXJneS1lZmZpY2llbmN5LWFwcHJvYWNoL9IBYWh0dHBzOi8vY2xlYW50ZWNobmljYS5jb20vMjAyMC8wNi8xMy9kZWZlbmRpbmctMTAwLWNsZWFuLXBvd2VyLWFuLWVuZXJneS1lZmZpY2llbmN5LWFwcHJvYWNoL2FtcC8?oc=5\n",
            "Sat, 13 Jun 2020 17:06:42 GMT\n",
            "------------------------------------------------------------\n",
            "61\n",
            "Portion Of I-676, Several Roads In Center City Closed Saturday Due To Protests - CBS Philly\n",
            "https://news.google.com/__i/rss/rd/articles/CBMie2h0dHBzOi8vcGhpbGFkZWxwaGlhLmNic2xvY2FsLmNvbS8yMDIwLzA2LzEzL3BvcnRpb24tb2YtaS02NzYtc2V2ZXJhbC1yb2Fkcy1pbi1jZW50ZXItY2l0eS1jbG9zZWQtc2F0dXJkYXktZHVlLXRvLXByb3Rlc3RzL9IBf2h0dHBzOi8vcGhpbGFkZWxwaGlhLmNic2xvY2FsLmNvbS8yMDIwLzA2LzEzL3BvcnRpb24tb2YtaS02NzYtc2V2ZXJhbC1yb2Fkcy1pbi1jZW50ZXItY2l0eS1jbG9zZWQtc2F0dXJkYXktZHVlLXRvLXByb3Rlc3RzL2FtcC8?oc=5\n",
            "Sat, 13 Jun 2020 19:28:52 GMT\n",
            "------------------------------------------------------------\n",
            "62\n",
            "Stocks, oil fall as second wave fears cloud recovery prospects - Reuters\n",
            "https://news.google.com/__i/rss/rd/articles/CBMifWh0dHBzOi8vd3d3LnJldXRlcnMuY29tL2FydGljbGUvdXMtZ2xvYmFsLW1hcmtldHMvc3RvY2tzLW9pbC1mYWxsLWFzLXNlY29uZC13YXZlLWZlYXJzLWNsb3VkLXJlY292ZXJ5LXByb3NwZWN0cy1pZFVTS0JOMjNNMDIw0gE0aHR0cHM6Ly9tb2JpbGUucmV1dGVycy5jb20vYXJ0aWNsZS9hbXAvaWRVU0tCTjIzTTAyMA?oc=5\n",
            "Mon, 15 Jun 2020 12:27:20 GMT\n",
            "------------------------------------------------------------\n",
            "63\n",
            "Four European nations to pay $843 million for AstraZeneca's coronavirus vaccine - CNBC\n",
            "https://news.google.com/__i/rss/rd/articles/CBMiZGh0dHBzOi8vd3d3LmNuYmMuY29tLzIwMjAvMDYvMTUvaXRhbHktZnJhbmNlLXRoZS1uZXRoZXJsYW5kcy1nZXJtYW55LXRvLXBheS04NDMtbWlsbGlvbi12YWNjaW5lLmh0bWzSAWhodHRwczovL3d3dy5jbmJjLmNvbS9hbXAvMjAyMC8wNi8xNS9pdGFseS1mcmFuY2UtdGhlLW5ldGhlcmxhbmRzLWdlcm1hbnktdG8tcGF5LTg0My1taWxsaW9uLXZhY2NpbmUuaHRtbA?oc=5\n",
            "Mon, 15 Jun 2020 13:08:08 GMT\n",
            "------------------------------------------------------------\n",
            "64\n",
            "Where are all the robots? - TechCrunch\n",
            "https://news.google.com/__i/rss/rd/articles/CBMiO2h0dHBzOi8vdGVjaGNydW5jaC5jb20vMjAyMC8wNi8xNC93aGVyZS1hcmUtYWxsLXRoZS1yb2JvdHMv0gE_aHR0cHM6Ly90ZWNoY3J1bmNoLmNvbS8yMDIwLzA2LzE0L3doZXJlLWFyZS1hbGwtdGhlLXJvYm90cy9hbXAv?oc=5\n",
            "Sun, 14 Jun 2020 15:16:11 GMT\n",
            "------------------------------------------------------------\n",
            "65\n",
            "Donald Trump's Stimulus Plan Is a Double-Edged Sword - The Motley Fool\n",
            "https://news.google.com/__i/rss/rd/articles/CBMiYmh0dHBzOi8vd3d3LmZvb2wuY29tL3JldGlyZW1lbnQvMjAyMC8wNi8xNC9kb25hbGQtdHJ1bXBzLXN0aW11bHVzLXBsYW4taXMtYS1kb3VibGUtZWRnZWQtc3dvci5hc3B40gFmaHR0cHM6Ly93d3cuZm9vbC5jb20vYW1wL3JldGlyZW1lbnQvMjAyMC8wNi8xNC9kb25hbGQtdHJ1bXBzLXN0aW11bHVzLXBsYW4taXMtYS1kb3VibGUtZWRnZWQtc3dvci5hc3B4?oc=5\n",
            "Sun, 14 Jun 2020 10:11:42 GMT\n",
            "------------------------------------------------------------\n",
            "66\n",
            "Band-Aid Announces it Will Finally Make Bandages For Darker Skin Tones - Good News Network\n",
            "https://news.google.com/__i/rss/rd/articles/CBMiXmh0dHBzOi8vd3d3Lmdvb2RuZXdzbmV0d29yay5vcmcvYmFuZC1haWQtYW5ub3VuY2VzLW11bHRpLWN1bHR1cmFsLWJhbmRhZ2VzLWluLWRhcmstc2tpbi10b25lcy_SAQA?oc=5\n",
            "Sun, 14 Jun 2020 19:55:00 GMT\n",
            "------------------------------------------------------------\n",
            "67\n",
            "Texas women sue Walmart for discrimination after employee allegedly grabbed their bag - ABC News\n",
            "https://news.google.com/__i/rss/rd/articles/CBMibWh0dHBzOi8vYWJjbmV3cy5nby5jb20vVVMvdGV4YXMtd29tZW4tc3VlLXdhbG1hcnQtZGlzY3JpbWluYXRpb24tZW1wbG95ZWUtYWxsZWdlZGx5LWdyYWJiZWQvc3Rvcnk_aWQ9NzEyNDk3MjHSAXFodHRwczovL2FiY25ld3MuZ28uY29tL2FtcC9VUy90ZXhhcy13b21lbi1zdWUtd2FsbWFydC1kaXNjcmltaW5hdGlvbi1lbXBsb3llZS1hbGxlZ2VkbHktZ3JhYmJlZC9zdG9yeT9pZD03MTI0OTcyMQ?oc=5\n",
            "Mon, 15 Jun 2020 04:23:28 GMT\n",
            "------------------------------------------------------------\n",
            "68\n",
            "This could be the next major retailer facing bankruptcy - CNN\n",
            "https://news.google.com/__i/rss/rd/articles/CBMiVGh0dHBzOi8vd3d3LmNubi5jb20vMjAyMC8wNi8xNC9pbnZlc3RpbmcvbWVucy13ZWFyaG91c2UtYmFua3J1cHRjeS10aHJlYXQvaW5kZXguaHRtbNIBWGh0dHBzOi8vYW1wLmNubi5jb20vY25uLzIwMjAvMDYvMTQvaW52ZXN0aW5nL21lbnMtd2VhcmhvdXNlLWJhbmtydXB0Y3ktdGhyZWF0L2luZGV4Lmh0bWw?oc=5\n",
            "Mon, 15 Jun 2020 04:12:59 GMT\n",
            "------------------------------------------------------------\n",
            "69\n",
            "New Mexico law enforcement suspended from using Amazon’s facial recognition technology - KRQE News 13\n",
            "https://news.google.com/__i/rss/rd/articles/CBMie2h0dHBzOi8vd3d3LmtycWUuY29tL25ld3MvbmV3LW1leGljby9uZXctbWV4aWNvLWxhdy1lbmZvcmNlbWVudC1zdXNwZW5kZWQtZnJvbS11c2luZy1hbWF6b25zLWZhY2lhbC1yZWNvZ25pdGlvbi10ZWNobm9sb2d5L9IBf2h0dHBzOi8vd3d3LmtycWUuY29tL25ld3MvbmV3LW1leGljby9uZXctbWV4aWNvLWxhdy1lbmZvcmNlbWVudC1zdXNwZW5kZWQtZnJvbS11c2luZy1hbWF6b25zLWZhY2lhbC1yZWNvZ25pdGlvbi10ZWNobm9sb2d5L2FtcC8?oc=5\n",
            "Sun, 14 Jun 2020 00:28:00 GMT\n",
            "------------------------------------------------------------\n",
            "70\n",
            "['Stock market opens sharply lower Monday after worst week since March, with Dow down 500 points - The Washington Post', 'AstraZeneca agrees to make experimental COVID-19 vaccine for Europe - The Times of Israel', 'BP Takes $17.5 Billion Write-Down, Expects Oil Price to Stay Low - The Wall Street Journal', 'AstraZeneca in talks with Japan, Russia, Brazil and China on COVID-19 vaccine supplies - CEO - Reuters', 'Walmart partners with Shopify to expand online marketplace business - CNBC', 'Gold, silver prices down, following global stock market sell-off - Kitco NEWS', 'United Airlines files for issuance and sale of up 28 million shares, stock falls - MarketWatch', 'Global stocks sink on new Covid-19 cases in China and US - Financial Times', 'EU agrees purchase of 300 million coronavirus vaccine doses - The Local Europe', 'The Station: Spin heads to Europe, Just Eat Takeaway gobbles up Grubhub and a drive in a Bentley Flying Spur - TechCrunch', 'Retirees living abroad still waiting for their stimulus payments - The Washington Post', '24 Hour Fitness files for bankruptcy as it permanently closes more than 130 clubs in 14 states - Daily Mail', 'Nearly 43,000 pounds of ground beef recalled due to E. coli concerns - FOX 11 Los Angeles', 'Coronavirus live updates: Red Cross to test donations, U.S. restaurant industry lost $120 billion in sales - CNBC', '3 Stocks to Avoid This Week - Motley Fool', \"Main Street has killed Wall Street during this rally. Here are the stocks they're buying - Seeking Alpha\", \"Burger King adds Impossible Foods' meatless sausage on its breakfast menu nationwide - CNBC\", 'ByteDance to shut down Vigo apps - TechCrunch', 'Nissan unveils 2021 Rogue crossover as key product in global turnaround plan - CNBC', 'Facebook says its business could afford to get rid of news - Business Insider - Business Insider', 'Video shows maskless woman intentionally coughing on customer at Queens bagel shop - WABC-TV', 'GE aviation head to retire, Embraer executive to take helm - Reuters', 'Gas prices are going up as America reopens, the national average is $2.10 a gallon - USA TODAY', 'Dallas County Reports More Than 300 New COVID-19 Cases for 5th Straight Day - NBC 5 Dallas-Fort Worth', 'Pierce County reports 19 new COVID-19 cases - Tacoma News Tribune', \"Hertz warns new stock buyers they'll need a miracle to avoid wipeout - Financial Post\", 'Japan plunges more than 3%, with stocks in Asia dropping as virus fears resurface - CNBC', \"White House Adviser: No 'Transparency' Promise Ever Made Over Billions In Loans - HuffPost\", 'Owner of cited Nashville honky tonks fed up, wants to get back to business - WZTV', \"Amazon's Bezos willing to testify before House panel: report - MarketWatch\", 'Indicted CEO of Pilgrim’s Pride takes leave to focus on legal defense - MarketWatch', 'AstraZeneca to Supply 400 Million Doses of Vaccine in Europe by Year End - The Epoch Times', 'Sinovac says its Covid-19 vaccine generated immune responses - STAT', 'Taiwan pedals faster to meet global pandemic demand for bikes - Bangkok Post', \"Landlord alleges 'essential' retailer hasn't paid rent in South Sac - Sacramento Business Journal\", 'What to look for in the European Union charges against Amazon - Politico', 'Israel in talks to buy COVID-19 vaccine possibly available by September - Ynetnews', 'American Express gets nod to start operating card network in China - Fox Business', \"Facebook's WhatsApp brings digital payment to users in Brazil - Reuters\", 'Gold prices fall more than 1.5% even as stocks retreat and coronavirus cases seen rising - MarketWatch', 'Protests force several Little Rock Walmart stores to temporarily shut down on Sunday - KATV', \"China's factory output perks up but consumers stay cautious - Fox Business\", 'Fed’s Powell to bring sober message to Capitol Hill this week – Bloomberg - FXStreet', 'Electric car charge points soar to 7.3 million chargers, 60% growth in public chargers - Electrek', 'Time To Overweight Renewable Energy - Seeking Alpha', 'Mortgage Rates Are Crashing – But That Won’t Save the Housing Market - CCN.com', 'Colorado oil and gas company files for Chapter 11 bankruptcy - New York Business Journal', 'European stocks open sharply lower on second wave fears as BP stumbles - MarketWatch', 'Morgan Stanley doubles down on forecast for a V-shaped economic recovery by 4th quarter - Business Insider', \"Genius Brands stock surges after Arnold Schwarzenegger enters agreement to be 'significant investor' - MarketWatch\", '9to5Toys Father’s Day Gift Guide: Ideas for Dad at all price points - 9to5Toys', 'Huge queues outside Primark as some wait overnight to shop - Metro.co.uk', 'India’s Reliance Jio Platforms to sell $250 million stake to L Catterton - TechCrunch', 'Katrin Davidsdottir boycotts CrossFit over CEO scandal - South China Morning Post', 'Demand For Used Cars Right Now Is Through The Roof - Jalopnik', 'Stocks Decline, Treasuries Gain Amid Virus Fears: Markets Wrap - Bloomberg', 'Your NEW Ultimate Guide to Outdoor Dining in Hoboken + Jersey City - hobokengirl.com', 'Altamonte Springs bar closes after customers test positive for COVID-19 - WFTV Orlando', \"American, United move into LaGuardia Airport's new Terminal B - USA TODAY\", 'Fears of Virus Resurgence in Beijing - Bloomberg Markets and Finance', 'Defending 100% Clean Power: An Energy Efficiency Approach - CleanTechnica', 'Portion Of I-676, Several Roads In Center City Closed Saturday Due To Protests - CBS Philly', 'Stocks, oil fall as second wave fears cloud recovery prospects - Reuters', \"Four European nations to pay $843 million for AstraZeneca's coronavirus vaccine - CNBC\", 'Where are all the robots? - TechCrunch', \"Donald Trump's Stimulus Plan Is a Double-Edged Sword - The Motley Fool\", 'Band-Aid Announces it Will Finally Make Bandages For Darker Skin Tones - Good News Network', 'Texas women sue Walmart for discrimination after employee allegedly grabbed their bag - ABC News', 'This could be the next major retailer facing bankruptcy - CNN', 'New Mexico law enforcement suspended from using Amazon’s facial recognition technology - KRQE News 13']\n"
          ],
          "name": "stdout"
        }
      ]
    },
    {
      "cell_type": "code",
      "metadata": {
        "id": "V6Bnrwv5E7WF",
        "colab": {
          "base_uri": "https://localhost:8080/",
          "height": 71
        },
        "outputId": "34937f0f-f64a-40de-e190-9f8fb3ce25ad"
      },
      "source": [
        "print(news_title[16],\"\\n\",website[16])"
      ],
      "execution_count": null,
      "outputs": [
        {
          "output_type": "stream",
          "text": [
            "Burger King adds Impossible Foods' meatless sausage on its breakfast menu nationwide - CNBC \n",
            " https://news.google.com/__i/rss/rd/articles/CBMibWh0dHBzOi8vd3d3LmNuYmMuY29tLzIwMjAvMDYvMTUvYnVyZ2VyLWtpbmctdW52ZWlscy1pbXBvc3NpYmxlLWZvb2RzLW1lYXRsZXNzLXNhdXNhZ2UtYnJlYWtmYXN0LXNhbmR3aWNoLmh0bWzSAXFodHRwczovL3d3dy5jbmJjLmNvbS9hbXAvMjAyMC8wNi8xNS9idXJnZXIta2luZy11bnZlaWxzLWltcG9zc2libGUtZm9vZHMtbWVhdGxlc3Mtc2F1c2FnZS1icmVha2Zhc3Qtc2FuZHdpY2guaHRtbA?oc=5\n"
          ],
          "name": "stdout"
        }
      ]
    },
    {
      "cell_type": "code",
      "metadata": {
        "id": "_349vfz089ND",
        "colab": {
          "base_uri": "https://localhost:8080/",
          "height": 122
        },
        "outputId": "7c0986e6-2523-4bd2-a96f-577007ca9bff"
      },
      "source": [
        "#Mount google drive to google colab virtual machine\n",
        "from google.colab import drive\n",
        "drive.mount('/content/drive')\n",
        "mydrive =\"/content/drive/My Drive/\""
      ],
      "execution_count": null,
      "outputs": [
        {
          "output_type": "stream",
          "text": [
            "Go to this URL in a browser: https://accounts.google.com/o/oauth2/auth?client_id=947318989803-6bn6qk8qdgf4n4g3pfee6491hc0brc4i.apps.googleusercontent.com&redirect_uri=urn%3aietf%3awg%3aoauth%3a2.0%3aoob&response_type=code&scope=email%20https%3a%2f%2fwww.googleapis.com%2fauth%2fdocs.test%20https%3a%2f%2fwww.googleapis.com%2fauth%2fdrive%20https%3a%2f%2fwww.googleapis.com%2fauth%2fdrive.photos.readonly%20https%3a%2f%2fwww.googleapis.com%2fauth%2fpeopleapi.readonly\n",
            "\n",
            "Enter your authorization code:\n",
            "··········\n",
            "Mounted at /content/drive\n"
          ],
          "name": "stdout"
        }
      ]
    },
    {
      "cell_type": "code",
      "metadata": {
        "id": "Yjhxc36Xoksl",
        "colab": {
          "base_uri": "https://localhost:8080/",
          "height": 419
        },
        "outputId": "eeb0d352-809f-4150-bdbd-1e98d193df45"
      },
      "source": [
        "import pandas as pd\n",
        "import datetime\n",
        "t = str(datetime.date.today())\n",
        "dataframe = pd.DataFrame({'news':news_title})\n",
        "#將DataFrame儲存為csv,index表示是否顯示行名，default=True\n",
        "dataframe.to_csv(mydrive+\"news\"+ t + \".csv\",index=False,sep=',')\n",
        "'''同樣pandas也提供簡單的讀csv方法'''\n",
        "csv_data = pd.read_csv(mydrive+\"news\"+ t + \".csv\") # 讀取訓練資料\n",
        "csv_data"
      ],
      "execution_count": null,
      "outputs": [
        {
          "output_type": "execute_result",
          "data": {
            "text/html": [
              "<div>\n",
              "<style scoped>\n",
              "    .dataframe tbody tr th:only-of-type {\n",
              "        vertical-align: middle;\n",
              "    }\n",
              "\n",
              "    .dataframe tbody tr th {\n",
              "        vertical-align: top;\n",
              "    }\n",
              "\n",
              "    .dataframe thead th {\n",
              "        text-align: right;\n",
              "    }\n",
              "</style>\n",
              "<table border=\"1\" class=\"dataframe\">\n",
              "  <thead>\n",
              "    <tr style=\"text-align: right;\">\n",
              "      <th></th>\n",
              "      <th>news</th>\n",
              "    </tr>\n",
              "  </thead>\n",
              "  <tbody>\n",
              "    <tr>\n",
              "      <th>0</th>\n",
              "      <td>Stock market opens sharply lower Monday after ...</td>\n",
              "    </tr>\n",
              "    <tr>\n",
              "      <th>1</th>\n",
              "      <td>AstraZeneca agrees to make experimental COVID-...</td>\n",
              "    </tr>\n",
              "    <tr>\n",
              "      <th>2</th>\n",
              "      <td>BP Takes $17.5 Billion Write-Down, Expects Oil...</td>\n",
              "    </tr>\n",
              "    <tr>\n",
              "      <th>3</th>\n",
              "      <td>AstraZeneca in talks with Japan, Russia, Brazi...</td>\n",
              "    </tr>\n",
              "    <tr>\n",
              "      <th>4</th>\n",
              "      <td>Walmart partners with Shopify to expand online...</td>\n",
              "    </tr>\n",
              "    <tr>\n",
              "      <th>...</th>\n",
              "      <td>...</td>\n",
              "    </tr>\n",
              "    <tr>\n",
              "      <th>65</th>\n",
              "      <td>Donald Trump's Stimulus Plan Is a Double-Edged...</td>\n",
              "    </tr>\n",
              "    <tr>\n",
              "      <th>66</th>\n",
              "      <td>Band-Aid Announces it Will Finally Make Bandag...</td>\n",
              "    </tr>\n",
              "    <tr>\n",
              "      <th>67</th>\n",
              "      <td>Texas women sue Walmart for discrimination aft...</td>\n",
              "    </tr>\n",
              "    <tr>\n",
              "      <th>68</th>\n",
              "      <td>This could be the next major retailer facing b...</td>\n",
              "    </tr>\n",
              "    <tr>\n",
              "      <th>69</th>\n",
              "      <td>New Mexico law enforcement suspended from usin...</td>\n",
              "    </tr>\n",
              "  </tbody>\n",
              "</table>\n",
              "<p>70 rows × 1 columns</p>\n",
              "</div>"
            ],
            "text/plain": [
              "                                                 news\n",
              "0   Stock market opens sharply lower Monday after ...\n",
              "1   AstraZeneca agrees to make experimental COVID-...\n",
              "2   BP Takes $17.5 Billion Write-Down, Expects Oil...\n",
              "3   AstraZeneca in talks with Japan, Russia, Brazi...\n",
              "4   Walmart partners with Shopify to expand online...\n",
              "..                                                ...\n",
              "65  Donald Trump's Stimulus Plan Is a Double-Edged...\n",
              "66  Band-Aid Announces it Will Finally Make Bandag...\n",
              "67  Texas women sue Walmart for discrimination aft...\n",
              "68  This could be the next major retailer facing b...\n",
              "69  New Mexico law enforcement suspended from usin...\n",
              "\n",
              "[70 rows x 1 columns]"
            ]
          },
          "metadata": {
            "tags": []
          },
          "execution_count": 4
        }
      ]
    },
    {
      "cell_type": "markdown",
      "metadata": {
        "id": "znrz3omWsq5B"
      },
      "source": [
        "# US Stock"
      ]
    },
    {
      "cell_type": "code",
      "metadata": {
        "id": "G3tUoa-vsOkz",
        "colab": {
          "base_uri": "https://localhost:8080/",
          "height": 34
        },
        "outputId": "e9352aa7-989a-4136-e99d-8bb1ef945d7b"
      },
      "source": [
        "import time\n",
        "stock_name_US=str(input(\"stock code :\" ))\n",
        "urlst1=\"https://query1.finance.yahoo.com/v7/finance/download/\"\n",
        "urlst2=stock_name_US #user's input\n",
        "urlst3=\"?period1=\"\n",
        "urlst4=\"&period2=\"\n",
        "urlst5=\"&interval=1d&events=history\"\n",
        "t2=round(time.time())\n",
        "t1=t2-86400*7"
      ],
      "execution_count": null,
      "outputs": [
        {
          "output_type": "stream",
          "text": [
            "stock code :AAPL\n"
          ],
          "name": "stdout"
        }
      ]
    },
    {
      "cell_type": "code",
      "metadata": {
        "id": "HRl53X3RtkmV",
        "colab": {
          "base_uri": "https://localhost:8080/",
          "height": 303
        },
        "outputId": "073b821e-4d29-484f-b233-167e0e7348eb"
      },
      "source": [
        "#download data from google drive\n",
        "import gdown\n",
        "url_ST_US=urlst1 +urlst2+urlst3+str(t1) + urlst4+ str(t2) + urlst5\n",
        "gdown.download(url_ST_US, mydrive+\"stock price us.csv\", quiet=False)\n",
        "ST_US_data = pd.read_csv(mydrive+'stock price us.csv')\n",
        "ST_US_data"
      ],
      "execution_count": null,
      "outputs": [
        {
          "output_type": "stream",
          "text": [
            "Downloading...\n",
            "From: https://query1.finance.yahoo.com/v7/finance/download/AAPL?period1=1591631023&period2=1592235823&interval=1d&events=history\n",
            "To: /content/drive/My Drive/stock price us.csv\n",
            "100%|██████████| 491/491 [00:00<00:00, 138kB/s]\n"
          ],
          "name": "stderr"
        },
        {
          "output_type": "execute_result",
          "data": {
            "text/html": [
              "<div>\n",
              "<style scoped>\n",
              "    .dataframe tbody tr th:only-of-type {\n",
              "        vertical-align: middle;\n",
              "    }\n",
              "\n",
              "    .dataframe tbody tr th {\n",
              "        vertical-align: top;\n",
              "    }\n",
              "\n",
              "    .dataframe thead th {\n",
              "        text-align: right;\n",
              "    }\n",
              "</style>\n",
              "<table border=\"1\" class=\"dataframe\">\n",
              "  <thead>\n",
              "    <tr style=\"text-align: right;\">\n",
              "      <th></th>\n",
              "      <th>Date</th>\n",
              "      <th>Open</th>\n",
              "      <th>High</th>\n",
              "      <th>Low</th>\n",
              "      <th>Close</th>\n",
              "      <th>Adj Close</th>\n",
              "      <th>Volume</th>\n",
              "    </tr>\n",
              "  </thead>\n",
              "  <tbody>\n",
              "    <tr>\n",
              "      <th>0</th>\n",
              "      <td>2020-06-08</td>\n",
              "      <td>330.250000</td>\n",
              "      <td>333.600006</td>\n",
              "      <td>327.320007</td>\n",
              "      <td>333.459991</td>\n",
              "      <td>333.459991</td>\n",
              "      <td>23913600</td>\n",
              "    </tr>\n",
              "    <tr>\n",
              "      <th>1</th>\n",
              "      <td>2020-06-09</td>\n",
              "      <td>332.140015</td>\n",
              "      <td>345.609985</td>\n",
              "      <td>332.010010</td>\n",
              "      <td>343.989990</td>\n",
              "      <td>343.989990</td>\n",
              "      <td>36928100</td>\n",
              "    </tr>\n",
              "    <tr>\n",
              "      <th>2</th>\n",
              "      <td>2020-06-10</td>\n",
              "      <td>347.899994</td>\n",
              "      <td>354.769989</td>\n",
              "      <td>346.089996</td>\n",
              "      <td>352.839996</td>\n",
              "      <td>352.839996</td>\n",
              "      <td>41662900</td>\n",
              "    </tr>\n",
              "    <tr>\n",
              "      <th>3</th>\n",
              "      <td>2020-06-11</td>\n",
              "      <td>349.309998</td>\n",
              "      <td>351.059998</td>\n",
              "      <td>335.480011</td>\n",
              "      <td>335.899994</td>\n",
              "      <td>335.899994</td>\n",
              "      <td>50415600</td>\n",
              "    </tr>\n",
              "    <tr>\n",
              "      <th>4</th>\n",
              "      <td>2020-06-12</td>\n",
              "      <td>344.720001</td>\n",
              "      <td>347.799988</td>\n",
              "      <td>334.220001</td>\n",
              "      <td>338.799988</td>\n",
              "      <td>338.799988</td>\n",
              "      <td>50001500</td>\n",
              "    </tr>\n",
              "    <tr>\n",
              "      <th>5</th>\n",
              "      <td>2020-06-15</td>\n",
              "      <td>344.720001</td>\n",
              "      <td>337.899994</td>\n",
              "      <td>332.589996</td>\n",
              "      <td>337.130005</td>\n",
              "      <td>337.130005</td>\n",
              "      <td>13086242</td>\n",
              "    </tr>\n",
              "  </tbody>\n",
              "</table>\n",
              "</div>"
            ],
            "text/plain": [
              "         Date        Open        High  ...       Close   Adj Close    Volume\n",
              "0  2020-06-08  330.250000  333.600006  ...  333.459991  333.459991  23913600\n",
              "1  2020-06-09  332.140015  345.609985  ...  343.989990  343.989990  36928100\n",
              "2  2020-06-10  347.899994  354.769989  ...  352.839996  352.839996  41662900\n",
              "3  2020-06-11  349.309998  351.059998  ...  335.899994  335.899994  50415600\n",
              "4  2020-06-12  344.720001  347.799988  ...  338.799988  338.799988  50001500\n",
              "5  2020-06-15  344.720001  337.899994  ...  337.130005  337.130005  13086242\n",
              "\n",
              "[6 rows x 7 columns]"
            ]
          },
          "metadata": {
            "tags": []
          },
          "execution_count": 6
        }
      ]
    },
    {
      "cell_type": "code",
      "metadata": {
        "id": "mYiM6i8G8_qh",
        "colab": {
          "base_uri": "https://localhost:8080/",
          "height": 298
        },
        "outputId": "17d9ffd6-291c-40b1-9c34-c8eef638d66b"
      },
      "source": [
        "import matplotlib.pyplot as plt\n",
        "if (str(ST_US_data)=='Empty DataFrame\\nColumns: [404 Not Found: No data found,  symbol may be delisted]\\nIndex: []'):\n",
        "  print(\"nothing\")\n",
        "else:\n",
        "  date_US=[]\n",
        "  for i in range (len(ST_US_data.Date)):\n",
        "    date_US.append(ST_US_data.Date[i])\n",
        "  print(date_US)\n",
        "  plt.figure()\n",
        "  x_value = date_US\n",
        "  y_value=ST_US_data[['Open','Close','High', 'Low']]\n",
        "  for i in y_value:\n",
        "    plt.plot(date_US,ST_US_data[str(i)],label = str(i))\n",
        "  plt.title(stock_name_US)\n",
        "  plt.legend(loc=\"upper right\")\n",
        "  plt.savefig(mydrive+'USstock'+t+'.png')\n",
        "  plt.show()"
      ],
      "execution_count": null,
      "outputs": [
        {
          "output_type": "stream",
          "text": [
            "['2020-06-08', '2020-06-09', '2020-06-10', '2020-06-11', '2020-06-12', '2020-06-15']\n"
          ],
          "name": "stdout"
        },
        {
          "output_type": "display_data",
          "data": {
            "image/png": "[encoded data removed]",
            "text/plain": [
              "<Figure size 432x288 with 1 Axes>"
            ]
          },
          "metadata": {
            "tags": [],
            "needs_background": "light"
          }
        }
      ]
    },
    {
      "cell_type": "markdown",
      "metadata": {
        "id": "eWpMBvQNw9c_"
      },
      "source": [
        "## DJI index"
      ]
    },
    {
      "cell_type": "code",
      "metadata": {
        "id": "9MiLQDpyv87Q"
      },
      "source": [
        "import time\n",
        "url1=\"https://query1.finance.yahoo.com/v7/finance/download/%5EDJI?period1=\"\n",
        "url2=\"&period2=\"\n",
        "url3=\"&interval=1d&events=history\"\n",
        "t2=round(time.time())\n",
        "t1=t2-86400*7\n",
        "url=url1 +str(t1) + url2+ str(t2) + url3"
      ],
      "execution_count": null,
      "outputs": []
    },
    {
      "cell_type": "code",
      "metadata": {
        "id": "nOl7-I3G9EnA",
        "colab": {
          "base_uri": "https://localhost:8080/",
          "height": 304
        },
        "outputId": "305bd766-b57b-4cae-905e-806d5f89cf6c"
      },
      "source": [
        "#download data from google drive\n",
        "import gdown\n",
        "url =url1 +str(t1) + url2+ str(t2) + url3\n",
        "gdown.download(url, mydrive+\"DJI.csv\", quiet=False)\n",
        "index_data = pd.read_csv(mydrive+'DJI.csv')\n",
        "index_data"
      ],
      "execution_count": null,
      "outputs": [
        {
          "output_type": "stream",
          "text": [
            "Downloading...\n",
            "From: https://query1.finance.yahoo.com/v7/finance/download/%5EDJI?period1=1591631065&period2=1592235865&interval=1d&events=history\n",
            "To: /content/drive/My Drive/DJI.csv\n",
            "557B [00:00, 160kB/s]                    \n"
          ],
          "name": "stderr"
        },
        {
          "output_type": "execute_result",
          "data": {
            "text/html": [
              "<div>\n",
              "<style scoped>\n",
              "    .dataframe tbody tr th:only-of-type {\n",
              "        vertical-align: middle;\n",
              "    }\n",
              "\n",
              "    .dataframe tbody tr th {\n",
              "        vertical-align: top;\n",
              "    }\n",
              "\n",
              "    .dataframe thead th {\n",
              "        text-align: right;\n",
              "    }\n",
              "</style>\n",
              "<table border=\"1\" class=\"dataframe\">\n",
              "  <thead>\n",
              "    <tr style=\"text-align: right;\">\n",
              "      <th></th>\n",
              "      <th>Date</th>\n",
              "      <th>Open</th>\n",
              "      <th>High</th>\n",
              "      <th>Low</th>\n",
              "      <th>Close</th>\n",
              "      <th>Adj Close</th>\n",
              "      <th>Volume</th>\n",
              "    </tr>\n",
              "  </thead>\n",
              "  <tbody>\n",
              "    <tr>\n",
              "      <th>0</th>\n",
              "      <td>2020-06-08</td>\n",
              "      <td>27232.929688</td>\n",
              "      <td>27580.210938</td>\n",
              "      <td>27232.480469</td>\n",
              "      <td>27572.439453</td>\n",
              "      <td>27572.439453</td>\n",
              "      <td>430200000</td>\n",
              "    </tr>\n",
              "    <tr>\n",
              "      <th>1</th>\n",
              "      <td>2020-06-09</td>\n",
              "      <td>27447.369141</td>\n",
              "      <td>27447.369141</td>\n",
              "      <td>27151.060547</td>\n",
              "      <td>27272.300781</td>\n",
              "      <td>27272.300781</td>\n",
              "      <td>381430000</td>\n",
              "    </tr>\n",
              "    <tr>\n",
              "      <th>2</th>\n",
              "      <td>2020-06-10</td>\n",
              "      <td>27251.890625</td>\n",
              "      <td>27355.220703</td>\n",
              "      <td>26938.050781</td>\n",
              "      <td>26989.990234</td>\n",
              "      <td>26989.990234</td>\n",
              "      <td>448930000</td>\n",
              "    </tr>\n",
              "    <tr>\n",
              "      <th>3</th>\n",
              "      <td>2020-06-11</td>\n",
              "      <td>26282.509766</td>\n",
              "      <td>26294.080078</td>\n",
              "      <td>25082.720703</td>\n",
              "      <td>25128.169922</td>\n",
              "      <td>25128.169922</td>\n",
              "      <td>647780000</td>\n",
              "    </tr>\n",
              "    <tr>\n",
              "      <th>4</th>\n",
              "      <td>2020-06-12</td>\n",
              "      <td>25659.419922</td>\n",
              "      <td>25965.550781</td>\n",
              "      <td>25078.410156</td>\n",
              "      <td>25605.539063</td>\n",
              "      <td>25605.539063</td>\n",
              "      <td>514440000</td>\n",
              "    </tr>\n",
              "    <tr>\n",
              "      <th>5</th>\n",
              "      <td>2020-06-15</td>\n",
              "      <td>25270.390625</td>\n",
              "      <td>25369.230469</td>\n",
              "      <td>24843.179688</td>\n",
              "      <td>25248.439453</td>\n",
              "      <td>25248.439453</td>\n",
              "      <td>169029167</td>\n",
              "    </tr>\n",
              "  </tbody>\n",
              "</table>\n",
              "</div>"
            ],
            "text/plain": [
              "         Date          Open  ...     Adj Close     Volume\n",
              "0  2020-06-08  27232.929688  ...  27572.439453  430200000\n",
              "1  2020-06-09  27447.369141  ...  27272.300781  381430000\n",
              "2  2020-06-10  27251.890625  ...  26989.990234  448930000\n",
              "3  2020-06-11  26282.509766  ...  25128.169922  647780000\n",
              "4  2020-06-12  25659.419922  ...  25605.539063  514440000\n",
              "5  2020-06-15  25270.390625  ...  25248.439453  169029167\n",
              "\n",
              "[6 rows x 7 columns]"
            ]
          },
          "metadata": {
            "tags": []
          },
          "execution_count": 9
        }
      ]
    },
    {
      "cell_type": "markdown",
      "metadata": {
        "id": "WDEMen5rJIj_"
      },
      "source": [
        "##VIX index\n"
      ]
    },
    {
      "cell_type": "code",
      "metadata": {
        "id": "_5zbqYPXJIkB"
      },
      "source": [
        "import time\n",
        "urlvix1=\"https://query1.finance.yahoo.com/v7/finance/download/%5EVIX?period1=\"\n",
        "urlvix2=\"&period2=\"\n",
        "urlvix3=\"&interval=1d&events=history\"\n",
        "t2=round(time.time())\n",
        "t1=t2-86400*7\n",
        "url=urlvix1 +str(t1) + urlvix2+ str(t2) + urlvix3"
      ],
      "execution_count": null,
      "outputs": []
    },
    {
      "cell_type": "code",
      "metadata": {
        "id": "VrwrHAXpJIkF",
        "colab": {
          "base_uri": "https://localhost:8080/",
          "height": 304
        },
        "outputId": "cee87f90-4e16-4175-9be8-2ba889b33f5b"
      },
      "source": [
        "#download data from google drive\n",
        "import gdown\n",
        "url=urlvix1 +str(t1) + urlvix2+ str(t2) + urlvix3\n",
        "gdown.download(url, mydrive+\"VIX.csv\", quiet=False)\n",
        "VIX_data = pd.read_csv(mydrive+'VIX.csv')\n",
        "VIX_data"
      ],
      "execution_count": null,
      "outputs": [
        {
          "output_type": "stream",
          "text": [
            "Downloading...\n",
            "From: https://query1.finance.yahoo.com/v7/finance/download/%5EVIX?period1=1591631069&period2=1592235869&interval=1d&events=history\n",
            "To: /content/drive/My Drive/VIX.csv\n",
            "100%|██████████| 419/419 [00:00<00:00, 302kB/s]\n"
          ],
          "name": "stderr"
        },
        {
          "output_type": "execute_result",
          "data": {
            "text/html": [
              "<div>\n",
              "<style scoped>\n",
              "    .dataframe tbody tr th:only-of-type {\n",
              "        vertical-align: middle;\n",
              "    }\n",
              "\n",
              "    .dataframe tbody tr th {\n",
              "        vertical-align: top;\n",
              "    }\n",
              "\n",
              "    .dataframe thead th {\n",
              "        text-align: right;\n",
              "    }\n",
              "</style>\n",
              "<table border=\"1\" class=\"dataframe\">\n",
              "  <thead>\n",
              "    <tr style=\"text-align: right;\">\n",
              "      <th></th>\n",
              "      <th>Date</th>\n",
              "      <th>Open</th>\n",
              "      <th>High</th>\n",
              "      <th>Low</th>\n",
              "      <th>Close</th>\n",
              "      <th>Adj Close</th>\n",
              "      <th>Volume</th>\n",
              "    </tr>\n",
              "  </thead>\n",
              "  <tbody>\n",
              "    <tr>\n",
              "      <th>0</th>\n",
              "      <td>2020-06-08</td>\n",
              "      <td>25.559999</td>\n",
              "      <td>25.980000</td>\n",
              "      <td>24.650000</td>\n",
              "      <td>25.809999</td>\n",
              "      <td>25.809999</td>\n",
              "      <td>0</td>\n",
              "    </tr>\n",
              "    <tr>\n",
              "      <th>1</th>\n",
              "      <td>2020-06-09</td>\n",
              "      <td>25.930000</td>\n",
              "      <td>27.700001</td>\n",
              "      <td>25.709999</td>\n",
              "      <td>27.570000</td>\n",
              "      <td>27.570000</td>\n",
              "      <td>0</td>\n",
              "    </tr>\n",
              "    <tr>\n",
              "      <th>2</th>\n",
              "      <td>2020-06-10</td>\n",
              "      <td>26.730000</td>\n",
              "      <td>29.010000</td>\n",
              "      <td>26.059999</td>\n",
              "      <td>27.570000</td>\n",
              "      <td>27.570000</td>\n",
              "      <td>0</td>\n",
              "    </tr>\n",
              "    <tr>\n",
              "      <th>3</th>\n",
              "      <td>2020-06-11</td>\n",
              "      <td>30.450001</td>\n",
              "      <td>42.580002</td>\n",
              "      <td>29.490000</td>\n",
              "      <td>40.790001</td>\n",
              "      <td>40.790001</td>\n",
              "      <td>0</td>\n",
              "    </tr>\n",
              "    <tr>\n",
              "      <th>4</th>\n",
              "      <td>2020-06-12</td>\n",
              "      <td>37.680000</td>\n",
              "      <td>44.160000</td>\n",
              "      <td>34.970001</td>\n",
              "      <td>36.090000</td>\n",
              "      <td>36.090000</td>\n",
              "      <td>0</td>\n",
              "    </tr>\n",
              "    <tr>\n",
              "      <th>5</th>\n",
              "      <td>2020-06-15</td>\n",
              "      <td>44.090000</td>\n",
              "      <td>44.439999</td>\n",
              "      <td>37.200001</td>\n",
              "      <td>37.490002</td>\n",
              "      <td>37.490002</td>\n",
              "      <td>0</td>\n",
              "    </tr>\n",
              "  </tbody>\n",
              "</table>\n",
              "</div>"
            ],
            "text/plain": [
              "         Date       Open       High        Low      Close  Adj Close  Volume\n",
              "0  2020-06-08  25.559999  25.980000  24.650000  25.809999  25.809999       0\n",
              "1  2020-06-09  25.930000  27.700001  25.709999  27.570000  27.570000       0\n",
              "2  2020-06-10  26.730000  29.010000  26.059999  27.570000  27.570000       0\n",
              "3  2020-06-11  30.450001  42.580002  29.490000  40.790001  40.790001       0\n",
              "4  2020-06-12  37.680000  44.160000  34.970001  36.090000  36.090000       0\n",
              "5  2020-06-15  44.090000  44.439999  37.200001  37.490002  37.490002       0"
            ]
          },
          "metadata": {
            "tags": []
          },
          "execution_count": 11
        }
      ]
    },
    {
      "cell_type": "markdown",
      "metadata": {
        "id": "sPc4P9G8d8e8"
      },
      "source": [
        "## S&P 500 (GSPC)"
      ]
    },
    {
      "cell_type": "code",
      "metadata": {
        "id": "JIYg9WhQeAKd"
      },
      "source": [
        "import time\n",
        "url11=\"https://query1.finance.yahoo.com/v7/finance/download/%5EGSPC?period1=\"\n",
        "url22=\"&period2=\"\n",
        "url33=\"&interval=1d&events=history\"\n",
        "t2=round(time.time())\n",
        "t1=t2-86400*7"
      ],
      "execution_count": null,
      "outputs": []
    },
    {
      "cell_type": "code",
      "metadata": {
        "id": "QTRfAiQ7eWUV",
        "colab": {
          "base_uri": "https://localhost:8080/",
          "height": 304
        },
        "outputId": "d02f6ea5-08f7-4641-d612-9fadf88a5da1"
      },
      "source": [
        "#download data from google drive\n",
        "import gdown\n",
        "url_GSPC=url11 +str(t1) + url22+ str(t2) + url33\n",
        "gdown.download(url_GSPC, mydrive+\"GSPC.csv\", quiet=False)\n",
        "GSPC_data = pd.read_csv(mydrive+'GSPC.csv')\n",
        "GSPC_data"
      ],
      "execution_count": null,
      "outputs": [
        {
          "output_type": "stream",
          "text": [
            "Downloading...\n",
            "From: https://query1.finance.yahoo.com/v7/finance/download/%5EGSPC?period1=1591631074&period2=1592235874&interval=1d&events=history\n",
            "To: /content/drive/My Drive/GSPC.csv\n",
            "533B [00:00, 184kB/s]                    \n"
          ],
          "name": "stderr"
        },
        {
          "output_type": "execute_result",
          "data": {
            "text/html": [
              "<div>\n",
              "<style scoped>\n",
              "    .dataframe tbody tr th:only-of-type {\n",
              "        vertical-align: middle;\n",
              "    }\n",
              "\n",
              "    .dataframe tbody tr th {\n",
              "        vertical-align: top;\n",
              "    }\n",
              "\n",
              "    .dataframe thead th {\n",
              "        text-align: right;\n",
              "    }\n",
              "</style>\n",
              "<table border=\"1\" class=\"dataframe\">\n",
              "  <thead>\n",
              "    <tr style=\"text-align: right;\">\n",
              "      <th></th>\n",
              "      <th>Date</th>\n",
              "      <th>Open</th>\n",
              "      <th>High</th>\n",
              "      <th>Low</th>\n",
              "      <th>Close</th>\n",
              "      <th>Adj Close</th>\n",
              "      <th>Volume</th>\n",
              "    </tr>\n",
              "  </thead>\n",
              "  <tbody>\n",
              "    <tr>\n",
              "      <th>0</th>\n",
              "      <td>2020-06-08</td>\n",
              "      <td>3199.919922</td>\n",
              "      <td>3233.129883</td>\n",
              "      <td>3196.000000</td>\n",
              "      <td>3232.389893</td>\n",
              "      <td>3232.389893</td>\n",
              "      <td>8437380000</td>\n",
              "    </tr>\n",
              "    <tr>\n",
              "      <th>1</th>\n",
              "      <td>2020-06-09</td>\n",
              "      <td>3213.320068</td>\n",
              "      <td>3222.709961</td>\n",
              "      <td>3193.110107</td>\n",
              "      <td>3207.179932</td>\n",
              "      <td>3207.179932</td>\n",
              "      <td>6382620000</td>\n",
              "    </tr>\n",
              "    <tr>\n",
              "      <th>2</th>\n",
              "      <td>2020-06-10</td>\n",
              "      <td>3213.419922</td>\n",
              "      <td>3223.270020</td>\n",
              "      <td>3181.489990</td>\n",
              "      <td>3190.139893</td>\n",
              "      <td>3190.139893</td>\n",
              "      <td>6570840000</td>\n",
              "    </tr>\n",
              "    <tr>\n",
              "      <th>3</th>\n",
              "      <td>2020-06-11</td>\n",
              "      <td>3123.530029</td>\n",
              "      <td>3123.530029</td>\n",
              "      <td>2999.489990</td>\n",
              "      <td>3002.100098</td>\n",
              "      <td>3002.100098</td>\n",
              "      <td>7018890000</td>\n",
              "    </tr>\n",
              "    <tr>\n",
              "      <th>4</th>\n",
              "      <td>2020-06-12</td>\n",
              "      <td>3071.040039</td>\n",
              "      <td>3088.419922</td>\n",
              "      <td>2984.469971</td>\n",
              "      <td>3041.310059</td>\n",
              "      <td>3041.310059</td>\n",
              "      <td>5832250000</td>\n",
              "    </tr>\n",
              "    <tr>\n",
              "      <th>5</th>\n",
              "      <td>2020-06-15</td>\n",
              "      <td>2993.760010</td>\n",
              "      <td>3023.100098</td>\n",
              "      <td>2965.659912</td>\n",
              "      <td>3011.250000</td>\n",
              "      <td>3011.250000</td>\n",
              "      <td>1140676798</td>\n",
              "    </tr>\n",
              "  </tbody>\n",
              "</table>\n",
              "</div>"
            ],
            "text/plain": [
              "         Date         Open         High  ...        Close    Adj Close      Volume\n",
              "0  2020-06-08  3199.919922  3233.129883  ...  3232.389893  3232.389893  8437380000\n",
              "1  2020-06-09  3213.320068  3222.709961  ...  3207.179932  3207.179932  6382620000\n",
              "2  2020-06-10  3213.419922  3223.270020  ...  3190.139893  3190.139893  6570840000\n",
              "3  2020-06-11  3123.530029  3123.530029  ...  3002.100098  3002.100098  7018890000\n",
              "4  2020-06-12  3071.040039  3088.419922  ...  3041.310059  3041.310059  5832250000\n",
              "5  2020-06-15  2993.760010  3023.100098  ...  3011.250000  3011.250000  1140676798\n",
              "\n",
              "[6 rows x 7 columns]"
            ]
          },
          "metadata": {
            "tags": []
          },
          "execution_count": 13
        }
      ]
    },
    {
      "cell_type": "markdown",
      "metadata": {
        "id": "x-LdtBjdNepp"
      },
      "source": [
        "# Index Plot"
      ]
    },
    {
      "cell_type": "code",
      "metadata": {
        "id": "AkugVQMUNepq",
        "colab": {
          "base_uri": "https://localhost:8080/",
          "height": 539
        },
        "outputId": "f0125682-437d-4799-da83-d016676abb8d"
      },
      "source": [
        "date_index=[]\n",
        "for i in range (len(index_data.Date)):\n",
        "  date_index.append(index_data.Date[i])\n",
        "date_index2=[]\n",
        "for i in range (len(GSPC_data.Date)):\n",
        "  date_index2.append(GSPC_data.Date[i])\n",
        "date_index3=[]\n",
        "for i in range (len(VIX_data.Date)):\n",
        "  date_index3.append(VIX_data.Date[i])\n",
        "\n",
        "sentindex=[37.5, 25, 100, 62.5, 50]\n",
        "\n",
        "x_value1 = date_index\n",
        "x_value2 = date_index2\n",
        "x_value3 = date_index3\n",
        "x_value4=['2020-06-09', '2020-06-10', '2020-06-11', '2020-06-12', '2020-06-15']\n",
        "\n",
        "plt.figure(figsize=(10,8))\n",
        "plt.suptitle(\"Integrated index for US news\", fontsize=14)\n",
        "\n",
        "plt.subplot(221)\n",
        "y_value1=index_data[['Close']]\n",
        "for i in y_value1:\n",
        "  plt.plot(x_value1,index_data[str(i)],label = \"DJI\", color='springgreen')\n",
        "plt.legend(loc=\"upper right\")\n",
        "plt.xticks(fontsize=8)\n",
        "plt.subplot(222)\n",
        "y_value2 = GSPC_data[['Close']]\n",
        "for i in y_value2:\n",
        "  plt.plot(x_value2,GSPC_data[str(i)],label = 'GSPC', color='gold')\n",
        "plt.legend(loc=\"upper right\")\n",
        "plt.xticks(fontsize=8)\n",
        "plt.subplot(223)\n",
        "y_value3 = VIX_data[['Close']]\n",
        "for i in y_value3:\n",
        "  plt.plot(x_value3,VIX_data[str(i)],label = 'VIX',color='cornflowerblue')\n",
        "plt.legend(loc=\"upper right\")\n",
        "plt.xticks(fontsize=8)\n",
        "plt.subplot(224)\n",
        "y_value4 = sentindex\n",
        "# for i in range(len(y_value4)):\n",
        "plt.plot(x_value4,sentindex,label = 'SENTIindex',color='tomato')\n",
        "plt.legend(loc=\"upper right\")\n",
        "plt.xticks(fontsize=8)\n",
        "\n",
        "plt.savefig(mydrive+'USindex'+t+'.png')\n",
        "\n",
        "plt.show()\n"
      ],
      "execution_count": null,
      "outputs": [
        {
          "output_type": "display_data",
          "data": {
            "image/png": "[encoded data removed]",
            "text/plain": [
              "<Figure size 720x576 with 4 Axes>"
            ]
          },
          "metadata": {
            "tags": [],
            "needs_background": "light"
          }
        }
      ]
    },
    {
      "cell_type": "markdown",
      "metadata": {
        "id": "kbgMQy80wciy"
      },
      "source": [
        "# TW Stock"
      ]
    },
    {
      "cell_type": "code",
      "metadata": {
        "id": "MFMHjPjpwYHn",
        "colab": {
          "base_uri": "https://localhost:8080/",
          "height": 34
        },
        "outputId": "cb9a28d1-7b3a-40b1-d44c-d799664cecd1"
      },
      "source": [
        "import time\n",
        "stock_name_TW=str(input(\"stock code :\" ))\n",
        "urlst1=\"https://query1.finance.yahoo.com/v7/finance/download/\"\n",
        "urlst2=stock_name_TW #user's input\n",
        "urlst3=\".TW?period1=\"\n",
        "urlst4=\"&period2=\"\n",
        "urlst5=\"&interval=1d&events=history\"\n",
        "t2=round(time.time())\n",
        "t1=t2-86400*7"
      ],
      "execution_count": null,
      "outputs": [
        {
          "output_type": "stream",
          "text": [
            "stock code :3231\n"
          ],
          "name": "stdout"
        }
      ]
    },
    {
      "cell_type": "code",
      "metadata": {
        "id": "njLhlJA5wnQs",
        "colab": {
          "base_uri": "https://localhost:8080/",
          "height": 304
        },
        "outputId": "d2ddc397-44fc-47ee-b455-f7551a248b64"
      },
      "source": [
        "#download data from google drive\n",
        "import gdown\n",
        "url_ST_TW=urlst1 +urlst2+urlst3+str(t1) + urlst4+ str(t2) + urlst5\n",
        "gdown.download(url_ST_TW, mydrive+\"stock price tw.csv\", quiet=False)\n",
        "ST_TW_data = pd.read_csv(mydrive+'stock price tw.csv')\n",
        "ST_TW_data"
      ],
      "execution_count": null,
      "outputs": [
        {
          "output_type": "stream",
          "text": [
            "Downloading...\n",
            "From: https://query1.finance.yahoo.com/v7/finance/download/3231.TW?period1=1591631174&period2=1592235974&interval=1d&events=history\n",
            "To: /content/drive/My Drive/stock price tw.csv\n",
            "100%|██████████| 461/461 [00:00<00:00, 424kB/s]\n"
          ],
          "name": "stderr"
        },
        {
          "output_type": "execute_result",
          "data": {
            "text/html": [
              "<div>\n",
              "<style scoped>\n",
              "    .dataframe tbody tr th:only-of-type {\n",
              "        vertical-align: middle;\n",
              "    }\n",
              "\n",
              "    .dataframe tbody tr th {\n",
              "        vertical-align: top;\n",
              "    }\n",
              "\n",
              "    .dataframe thead th {\n",
              "        text-align: right;\n",
              "    }\n",
              "</style>\n",
              "<table border=\"1\" class=\"dataframe\">\n",
              "  <thead>\n",
              "    <tr style=\"text-align: right;\">\n",
              "      <th></th>\n",
              "      <th>Date</th>\n",
              "      <th>Open</th>\n",
              "      <th>High</th>\n",
              "      <th>Low</th>\n",
              "      <th>Close</th>\n",
              "      <th>Adj Close</th>\n",
              "      <th>Volume</th>\n",
              "    </tr>\n",
              "  </thead>\n",
              "  <tbody>\n",
              "    <tr>\n",
              "      <th>0</th>\n",
              "      <td>2020-06-08</td>\n",
              "      <td>29.950001</td>\n",
              "      <td>30.450001</td>\n",
              "      <td>29.900000</td>\n",
              "      <td>30.450001</td>\n",
              "      <td>30.450001</td>\n",
              "      <td>20527200</td>\n",
              "    </tr>\n",
              "    <tr>\n",
              "      <th>1</th>\n",
              "      <td>2020-06-09</td>\n",
              "      <td>30.700001</td>\n",
              "      <td>31.500000</td>\n",
              "      <td>30.700001</td>\n",
              "      <td>31.150000</td>\n",
              "      <td>31.150000</td>\n",
              "      <td>26949335</td>\n",
              "    </tr>\n",
              "    <tr>\n",
              "      <th>2</th>\n",
              "      <td>2020-06-10</td>\n",
              "      <td>31.200001</td>\n",
              "      <td>31.600000</td>\n",
              "      <td>31.200001</td>\n",
              "      <td>31.450001</td>\n",
              "      <td>31.450001</td>\n",
              "      <td>18979354</td>\n",
              "    </tr>\n",
              "    <tr>\n",
              "      <th>3</th>\n",
              "      <td>2020-06-11</td>\n",
              "      <td>31.549999</td>\n",
              "      <td>32.000000</td>\n",
              "      <td>30.600000</td>\n",
              "      <td>30.650000</td>\n",
              "      <td>30.650000</td>\n",
              "      <td>21565743</td>\n",
              "    </tr>\n",
              "    <tr>\n",
              "      <th>4</th>\n",
              "      <td>2020-06-12</td>\n",
              "      <td>29.799999</td>\n",
              "      <td>30.799999</td>\n",
              "      <td>29.500000</td>\n",
              "      <td>30.700001</td>\n",
              "      <td>30.700001</td>\n",
              "      <td>16160530</td>\n",
              "    </tr>\n",
              "    <tr>\n",
              "      <th>5</th>\n",
              "      <td>2020-06-15</td>\n",
              "      <td>30.950001</td>\n",
              "      <td>31.950001</td>\n",
              "      <td>30.750000</td>\n",
              "      <td>31.100000</td>\n",
              "      <td>31.100000</td>\n",
              "      <td>17211000</td>\n",
              "    </tr>\n",
              "  </tbody>\n",
              "</table>\n",
              "</div>"
            ],
            "text/plain": [
              "         Date       Open       High        Low      Close  Adj Close    Volume\n",
              "0  2020-06-08  29.950001  30.450001  29.900000  30.450001  30.450001  20527200\n",
              "1  2020-06-09  30.700001  31.500000  30.700001  31.150000  31.150000  26949335\n",
              "2  2020-06-10  31.200001  31.600000  31.200001  31.450001  31.450001  18979354\n",
              "3  2020-06-11  31.549999  32.000000  30.600000  30.650000  30.650000  21565743\n",
              "4  2020-06-12  29.799999  30.799999  29.500000  30.700001  30.700001  16160530\n",
              "5  2020-06-15  30.950001  31.950001  30.750000  31.100000  31.100000  17211000"
            ]
          },
          "metadata": {
            "tags": []
          },
          "execution_count": 18
        }
      ]
    },
    {
      "cell_type": "code",
      "metadata": {
        "id": "m3mI6Eas7OTk",
        "colab": {
          "base_uri": "https://localhost:8080/",
          "height": 298
        },
        "outputId": "68e0d35b-c914-4aa6-bec7-82687b4ebed7"
      },
      "source": [
        "if (str(ST_TW_data)=='Empty DataFrame\\nColumns: [404 Not Found: No data found,  symbol may be delisted]\\nIndex: []'):\n",
        "  print('Nothing')\n",
        "else:\n",
        "  date=[]\n",
        "  for i in range (len(ST_TW_data.Date)):\n",
        "    date.append(ST_TW_data.Date[i])\n",
        "  print(date)\n",
        "  plt.figure()\n",
        "  x_value=date\n",
        "  y_value=ST_TW_data[['Open','Close','High', 'Low']]\n",
        "  for i in y_value:\n",
        "    plt.plot(x_value,ST_TW_data[str(i)],label = str(i))\n",
        "  plt.legend(loc=\"upper right\")\n",
        "  plt.title(stock_name_TW)\n",
        "  plt.show()"
      ],
      "execution_count": null,
      "outputs": [
        {
          "output_type": "stream",
          "text": [
            "['2020-06-08', '2020-06-09', '2020-06-10', '2020-06-11', '2020-06-12', '2020-06-15']\n"
          ],
          "name": "stdout"
        },
        {
          "output_type": "display_data",
          "data": {
            "image/png": "[encoded data removed]",
            "text/plain": [
              "<Figure size 432x288 with 1 Axes>"
            ]
          },
          "metadata": {
            "tags": [],
            "needs_background": "light"
          }
        }
      ]
    },
    {
      "cell_type": "markdown",
      "metadata": {
        "id": "Ijf7B4lSVwIm"
      },
      "source": [
        "## TWII"
      ]
    },
    {
      "cell_type": "code",
      "metadata": {
        "id": "ICmDx7GvVy1y"
      },
      "source": [
        "import time\n",
        "url11=\"https://query1.finance.yahoo.com/v7/finance/download/%5ETWII?period1=\"\n",
        "url22=\"&period2=\"\n",
        "url33=\"&interval=1d&events=history\"\n",
        "t2=round(time.time())\n",
        "t1=t2-86400*7"
      ],
      "execution_count": null,
      "outputs": []
    },
    {
      "cell_type": "code",
      "metadata": {
        "id": "Drj5me5YWLRN",
        "colab": {
          "base_uri": "https://localhost:8080/",
          "height": 304
        },
        "outputId": "7579458d-dc86-4434-e2b4-fccb5846ec50"
      },
      "source": [
        "#download data from google drive\n",
        "import gdown\n",
        "url_TW=url11 +str(t1) + url22+ str(t2) + url33\n",
        "gdown.download(url_TW, mydrive+\"TWII.csv\", quiet=False)\n",
        "TWII_data = pd.read_csv(mydrive+'TWII.csv')\n",
        "TWII_data"
      ],
      "execution_count": null,
      "outputs": [
        {
          "output_type": "stream",
          "text": [
            "Downloading...\n",
            "From: https://query1.finance.yahoo.com/v7/finance/download/%5ETWII?period1=1591631214&period2=1592236014&interval=1d&events=history\n",
            "To: /content/drive/My Drive/TWII.csv\n",
            "539B [00:00, 140kB/s]                    \n"
          ],
          "name": "stderr"
        },
        {
          "output_type": "execute_result",
          "data": {
            "text/html": [
              "<div>\n",
              "<style scoped>\n",
              "    .dataframe tbody tr th:only-of-type {\n",
              "        vertical-align: middle;\n",
              "    }\n",
              "\n",
              "    .dataframe tbody tr th {\n",
              "        vertical-align: top;\n",
              "    }\n",
              "\n",
              "    .dataframe thead th {\n",
              "        text-align: right;\n",
              "    }\n",
              "</style>\n",
              "<table border=\"1\" class=\"dataframe\">\n",
              "  <thead>\n",
              "    <tr style=\"text-align: right;\">\n",
              "      <th></th>\n",
              "      <th>Date</th>\n",
              "      <th>Open</th>\n",
              "      <th>High</th>\n",
              "      <th>Low</th>\n",
              "      <th>Close</th>\n",
              "      <th>Adj Close</th>\n",
              "      <th>Volume</th>\n",
              "    </tr>\n",
              "  </thead>\n",
              "  <tbody>\n",
              "    <tr>\n",
              "      <th>0</th>\n",
              "      <td>2020-06-08</td>\n",
              "      <td>11539.000000</td>\n",
              "      <td>11631.889648</td>\n",
              "      <td>11528.440430</td>\n",
              "      <td>11610.320313</td>\n",
              "      <td>11610.320313</td>\n",
              "      <td>3822500</td>\n",
              "    </tr>\n",
              "    <tr>\n",
              "      <th>1</th>\n",
              "      <td>2020-06-09</td>\n",
              "      <td>11600.610352</td>\n",
              "      <td>11640.450195</td>\n",
              "      <td>11537.379883</td>\n",
              "      <td>11637.110352</td>\n",
              "      <td>11637.110352</td>\n",
              "      <td>3023600</td>\n",
              "    </tr>\n",
              "    <tr>\n",
              "      <th>2</th>\n",
              "      <td>2020-06-10</td>\n",
              "      <td>11635.990234</td>\n",
              "      <td>11740.900391</td>\n",
              "      <td>11621.019531</td>\n",
              "      <td>11720.160156</td>\n",
              "      <td>11720.160156</td>\n",
              "      <td>3477600</td>\n",
              "    </tr>\n",
              "    <tr>\n",
              "      <th>3</th>\n",
              "      <td>2020-06-11</td>\n",
              "      <td>11738.490234</td>\n",
              "      <td>11771.120117</td>\n",
              "      <td>11516.589844</td>\n",
              "      <td>11535.769531</td>\n",
              "      <td>11535.769531</td>\n",
              "      <td>4457500</td>\n",
              "    </tr>\n",
              "    <tr>\n",
              "      <th>4</th>\n",
              "      <td>2020-06-12</td>\n",
              "      <td>11406.540039</td>\n",
              "      <td>11442.299805</td>\n",
              "      <td>11244.639648</td>\n",
              "      <td>11429.940430</td>\n",
              "      <td>11429.940430</td>\n",
              "      <td>3367500</td>\n",
              "    </tr>\n",
              "    <tr>\n",
              "      <th>5</th>\n",
              "      <td>2020-06-15</td>\n",
              "      <td>11436.280273</td>\n",
              "      <td>11469.839844</td>\n",
              "      <td>11299.450195</td>\n",
              "      <td>11306.259766</td>\n",
              "      <td>11306.259766</td>\n",
              "      <td>0</td>\n",
              "    </tr>\n",
              "  </tbody>\n",
              "</table>\n",
              "</div>"
            ],
            "text/plain": [
              "         Date          Open          High  ...         Close     Adj Close   Volume\n",
              "0  2020-06-08  11539.000000  11631.889648  ...  11610.320313  11610.320313  3822500\n",
              "1  2020-06-09  11600.610352  11640.450195  ...  11637.110352  11637.110352  3023600\n",
              "2  2020-06-10  11635.990234  11740.900391  ...  11720.160156  11720.160156  3477600\n",
              "3  2020-06-11  11738.490234  11771.120117  ...  11535.769531  11535.769531  4457500\n",
              "4  2020-06-12  11406.540039  11442.299805  ...  11429.940430  11429.940430  3367500\n",
              "5  2020-06-15  11436.280273  11469.839844  ...  11306.259766  11306.259766        0\n",
              "\n",
              "[6 rows x 7 columns]"
            ]
          },
          "metadata": {
            "tags": []
          },
          "execution_count": 21
        }
      ]
    },
    {
      "cell_type": "markdown",
      "metadata": {
        "id": "ICthKxIlH9Yv"
      },
      "source": [
        "##VIXT index\n"
      ]
    },
    {
      "cell_type": "code",
      "metadata": {
        "id": "q8-0XKzMIGat"
      },
      "source": [
        "import time\n",
        "urlvixt1=\"https://query1.finance.yahoo.com/v7/finance/download/00677U.TW?period1=\"\n",
        "urlvixt2=\"&period2=\"\n",
        "urlvixt3=\"&interval=1d&events=history\"\n",
        "t2=round(time.time())\n",
        "t1=t2-86400*7\n",
        "url=urlvixt1 +str(t1) + urlvixt2+ str(t2) + urlvixt3"
      ],
      "execution_count": null,
      "outputs": []
    },
    {
      "cell_type": "code",
      "metadata": {
        "id": "g8m0Dg3JIGaz",
        "colab": {
          "base_uri": "https://localhost:8080/",
          "height": 304
        },
        "outputId": "b6d85afc-70bf-4fce-bf94-c0a5c67f8393"
      },
      "source": [
        "#download data from google drive\n",
        "import gdown\n",
        "url=urlvixt1 +str(t1) + urlvixt2+ str(t2) + urlvixt3\n",
        "gdown.download(url, mydrive+\"VIXT.csv\", quiet=False)\n",
        "VIXT_data = pd.read_csv(mydrive+'VIXT.csv')\n",
        "VIXT_data"
      ],
      "execution_count": null,
      "outputs": [
        {
          "output_type": "stream",
          "text": [
            "Downloading...\n",
            "From: https://query1.finance.yahoo.com/v7/finance/download/00677U.TW?period1=1591631217&period2=1592236017&interval=1d&events=history\n",
            "To: /content/drive/My Drive/VIXT.csv\n",
            "100%|██████████| 438/438 [00:00<00:00, 148kB/s]\n"
          ],
          "name": "stderr"
        },
        {
          "output_type": "execute_result",
          "data": {
            "text/html": [
              "<div>\n",
              "<style scoped>\n",
              "    .dataframe tbody tr th:only-of-type {\n",
              "        vertical-align: middle;\n",
              "    }\n",
              "\n",
              "    .dataframe tbody tr th {\n",
              "        vertical-align: top;\n",
              "    }\n",
              "\n",
              "    .dataframe thead th {\n",
              "        text-align: right;\n",
              "    }\n",
              "</style>\n",
              "<table border=\"1\" class=\"dataframe\">\n",
              "  <thead>\n",
              "    <tr style=\"text-align: right;\">\n",
              "      <th></th>\n",
              "      <th>Date</th>\n",
              "      <th>Open</th>\n",
              "      <th>High</th>\n",
              "      <th>Low</th>\n",
              "      <th>Close</th>\n",
              "      <th>Adj Close</th>\n",
              "      <th>Volume</th>\n",
              "    </tr>\n",
              "  </thead>\n",
              "  <tbody>\n",
              "    <tr>\n",
              "      <th>0</th>\n",
              "      <td>2020-06-08</td>\n",
              "      <td>5.25</td>\n",
              "      <td>5.28</td>\n",
              "      <td>5.23</td>\n",
              "      <td>5.24</td>\n",
              "      <td>5.24</td>\n",
              "      <td>211064188</td>\n",
              "    </tr>\n",
              "    <tr>\n",
              "      <th>1</th>\n",
              "      <td>2020-06-09</td>\n",
              "      <td>5.42</td>\n",
              "      <td>5.45</td>\n",
              "      <td>5.40</td>\n",
              "      <td>5.40</td>\n",
              "      <td>5.40</td>\n",
              "      <td>144212000</td>\n",
              "    </tr>\n",
              "    <tr>\n",
              "      <th>2</th>\n",
              "      <td>2020-06-10</td>\n",
              "      <td>5.58</td>\n",
              "      <td>5.60</td>\n",
              "      <td>5.55</td>\n",
              "      <td>5.56</td>\n",
              "      <td>5.56</td>\n",
              "      <td>183093750</td>\n",
              "    </tr>\n",
              "    <tr>\n",
              "      <th>3</th>\n",
              "      <td>2020-06-11</td>\n",
              "      <td>5.70</td>\n",
              "      <td>5.98</td>\n",
              "      <td>5.65</td>\n",
              "      <td>5.96</td>\n",
              "      <td>5.96</td>\n",
              "      <td>374773096</td>\n",
              "    </tr>\n",
              "    <tr>\n",
              "      <th>4</th>\n",
              "      <td>2020-06-12</td>\n",
              "      <td>7.31</td>\n",
              "      <td>7.38</td>\n",
              "      <td>6.88</td>\n",
              "      <td>6.88</td>\n",
              "      <td>6.88</td>\n",
              "      <td>1101961543</td>\n",
              "    </tr>\n",
              "    <tr>\n",
              "      <th>5</th>\n",
              "      <td>2020-06-15</td>\n",
              "      <td>7.22</td>\n",
              "      <td>7.63</td>\n",
              "      <td>7.14</td>\n",
              "      <td>7.61</td>\n",
              "      <td>7.61</td>\n",
              "      <td>564567000</td>\n",
              "    </tr>\n",
              "  </tbody>\n",
              "</table>\n",
              "</div>"
            ],
            "text/plain": [
              "         Date  Open  High   Low  Close  Adj Close      Volume\n",
              "0  2020-06-08  5.25  5.28  5.23   5.24       5.24   211064188\n",
              "1  2020-06-09  5.42  5.45  5.40   5.40       5.40   144212000\n",
              "2  2020-06-10  5.58  5.60  5.55   5.56       5.56   183093750\n",
              "3  2020-06-11  5.70  5.98  5.65   5.96       5.96   374773096\n",
              "4  2020-06-12  7.31  7.38  6.88   6.88       6.88  1101961543\n",
              "5  2020-06-15  7.22  7.63  7.14   7.61       7.61   564567000"
            ]
          },
          "metadata": {
            "tags": []
          },
          "execution_count": 23
        }
      ]
    },
    {
      "cell_type": "markdown",
      "metadata": {
        "id": "svUmr9wsKFXd"
      },
      "source": [
        "##NASDAQ index\n"
      ]
    },
    {
      "cell_type": "code",
      "metadata": {
        "id": "MoWv8NFYKFXe"
      },
      "source": [
        "import time\n",
        "urlnas1=\"https://query1.finance.yahoo.com/v7/finance/download/%5EIXIC?period1=\"\n",
        "urlnas2=\"&period2=\"\n",
        "urlnas3=\"&interval=1d&events=history\"\n",
        "t2=round(time.time())\n",
        "t1=t2-86400*7\n",
        "url=urlnas1 +str(t1) + urlnas2+ str(t2) + urlnas3"
      ],
      "execution_count": null,
      "outputs": []
    },
    {
      "cell_type": "code",
      "metadata": {
        "id": "i7AXQxhZKFXj",
        "colab": {
          "base_uri": "https://localhost:8080/",
          "height": 304
        },
        "outputId": "56260fbf-49d4-4850-889a-9182ca8e383b"
      },
      "source": [
        "#download data from google drive\n",
        "import gdown\n",
        "url=urlnas1 +str(t1) + urlnas2+ str(t2) + urlnas3\n",
        "gdown.download(url, mydrive+\"NAS.csv\", quiet=False)\n",
        "NAS_data = pd.read_csv(mydrive+'NAS.csv')\n",
        "NAS_data"
      ],
      "execution_count": null,
      "outputs": [
        {
          "output_type": "stream",
          "text": [
            "Downloading...\n",
            "From: https://query1.finance.yahoo.com/v7/finance/download/%5EIXIC?period1=1591631221&period2=1592236021&interval=1d&events=history\n",
            "To: /content/drive/My Drive/NAS.csv\n",
            "538B [00:00, 194kB/s]                    \n"
          ],
          "name": "stderr"
        },
        {
          "output_type": "execute_result",
          "data": {
            "text/html": [
              "<div>\n",
              "<style scoped>\n",
              "    .dataframe tbody tr th:only-of-type {\n",
              "        vertical-align: middle;\n",
              "    }\n",
              "\n",
              "    .dataframe tbody tr th {\n",
              "        vertical-align: top;\n",
              "    }\n",
              "\n",
              "    .dataframe thead th {\n",
              "        text-align: right;\n",
              "    }\n",
              "</style>\n",
              "<table border=\"1\" class=\"dataframe\">\n",
              "  <thead>\n",
              "    <tr style=\"text-align: right;\">\n",
              "      <th></th>\n",
              "      <th>Date</th>\n",
              "      <th>Open</th>\n",
              "      <th>High</th>\n",
              "      <th>Low</th>\n",
              "      <th>Close</th>\n",
              "      <th>Adj Close</th>\n",
              "      <th>Volume</th>\n",
              "    </tr>\n",
              "  </thead>\n",
              "  <tbody>\n",
              "    <tr>\n",
              "      <th>0</th>\n",
              "      <td>2020-06-08</td>\n",
              "      <td>9823.440430</td>\n",
              "      <td>9927.129883</td>\n",
              "      <td>9780.610352</td>\n",
              "      <td>9924.750000</td>\n",
              "      <td>9924.750000</td>\n",
              "      <td>6143120000</td>\n",
              "    </tr>\n",
              "    <tr>\n",
              "      <th>1</th>\n",
              "      <td>2020-06-09</td>\n",
              "      <td>9867.190430</td>\n",
              "      <td>10002.500000</td>\n",
              "      <td>9863.269531</td>\n",
              "      <td>9953.750000</td>\n",
              "      <td>9953.750000</td>\n",
              "      <td>5281860000</td>\n",
              "    </tr>\n",
              "    <tr>\n",
              "      <th>2</th>\n",
              "      <td>2020-06-10</td>\n",
              "      <td>10012.320313</td>\n",
              "      <td>10086.889648</td>\n",
              "      <td>9962.580078</td>\n",
              "      <td>10020.349609</td>\n",
              "      <td>10020.349609</td>\n",
              "      <td>5128400000</td>\n",
              "    </tr>\n",
              "    <tr>\n",
              "      <th>3</th>\n",
              "      <td>2020-06-11</td>\n",
              "      <td>9791.240234</td>\n",
              "      <td>9868.080078</td>\n",
              "      <td>9491.309570</td>\n",
              "      <td>9492.730469</td>\n",
              "      <td>9492.730469</td>\n",
              "      <td>5271000000</td>\n",
              "    </tr>\n",
              "    <tr>\n",
              "      <th>4</th>\n",
              "      <td>2020-06-12</td>\n",
              "      <td>9715.870117</td>\n",
              "      <td>9768.639648</td>\n",
              "      <td>9413.620117</td>\n",
              "      <td>9588.809570</td>\n",
              "      <td>9588.809570</td>\n",
              "      <td>4366190000</td>\n",
              "    </tr>\n",
              "    <tr>\n",
              "      <th>5</th>\n",
              "      <td>2020-06-15</td>\n",
              "      <td>9426.898438</td>\n",
              "      <td>9580.292969</td>\n",
              "      <td>9403.003906</td>\n",
              "      <td>9555.828125</td>\n",
              "      <td>9555.828125</td>\n",
              "      <td>1726871729</td>\n",
              "    </tr>\n",
              "  </tbody>\n",
              "</table>\n",
              "</div>"
            ],
            "text/plain": [
              "         Date          Open  ...     Adj Close      Volume\n",
              "0  2020-06-08   9823.440430  ...   9924.750000  6143120000\n",
              "1  2020-06-09   9867.190430  ...   9953.750000  5281860000\n",
              "2  2020-06-10  10012.320313  ...  10020.349609  5128400000\n",
              "3  2020-06-11   9791.240234  ...   9492.730469  5271000000\n",
              "4  2020-06-12   9715.870117  ...   9588.809570  4366190000\n",
              "5  2020-06-15   9426.898438  ...   9555.828125  1726871729\n",
              "\n",
              "[6 rows x 7 columns]"
            ]
          },
          "metadata": {
            "tags": []
          },
          "execution_count": 25
        }
      ]
    },
    {
      "cell_type": "markdown",
      "metadata": {
        "id": "wKV5KSiq55eB"
      },
      "source": [
        "# Index Plot"
      ]
    },
    {
      "cell_type": "code",
      "metadata": {
        "id": "kkbwh2ai9XtI",
        "colab": {
          "base_uri": "https://localhost:8080/",
          "height": 539
        },
        "outputId": "e2f79db2-4bd7-43e8-addc-9dd370eccb76"
      },
      "source": [
        "date_index11=[]\n",
        "for i in range (len(TWII_data.Date)):\n",
        "  date_index11.append(TWII_data.Date[i])\n",
        "date_index22=[]\n",
        "for i in range (len(VIXT_data.Date)):\n",
        "  date_index22.append(VIXT_data.Date[i])\n",
        "date_index33=[]\n",
        "for i in range (len(NAS_data.Date)):\n",
        "  date_index33.append(NAS_data.Date[i])\n",
        "\n",
        "sentindex_ch=[75, 125, 200, 162.5, 150]\n",
        "\n",
        "x_value11 = date_index11\n",
        "x_value22 = date_index22\n",
        "x_value33 = date_index33\n",
        "x_value44=['2020-06-09', '2020-06-10', '2020-06-11', '2020-06-12', '2020-06-15']\n",
        "plt.figure(figsize=(10,8))\n",
        "plt.suptitle(\"Integrated index for TW news\", fontsize=14)\n",
        "plt.subplot(221)\n",
        "y_value11=TWII_data[['Close']]\n",
        "for i in y_value11:\n",
        "  plt.plot(x_value11,TWII_data[str(i)],label = \"TWII\", color='springgreen')\n",
        "plt.legend(loc=\"upper right\")\n",
        "plt.xticks(fontsize=8)\n",
        "plt.subplot(222)\n",
        "y_value22 = VIXT_data[['Close']]\n",
        "for i in y_value22:\n",
        "  plt.plot(x_value22,VIXT_data[str(i)],label = 'VIXT',color='gold')\n",
        "plt.legend(loc=\"upper right\")\n",
        "plt.xticks(fontsize=8)\n",
        "plt.subplot(223)\n",
        "y_value33 = NAS_data[['Close']]\n",
        "for i in y_value33:\n",
        "  plt.plot(x_value33,NAS_data[str(i)],label = 'NAS',color='cornflowerblue')\n",
        "plt.legend(loc=\"upper right\")\n",
        "plt.xticks(fontsize=8)\n",
        "plt.subplot(224)\n",
        "y_value44 = sentindex_ch\n",
        "# for i in range(len(y_value4)):\n",
        "plt.plot(x_value44,sentindex_ch,label = 'SENTI_CHindex',color='tomato')\n",
        "plt.legend(loc=\"upper right\")\n",
        "plt.xticks(fontsize=8)\n",
        "plt.show()"
      ],
      "execution_count": null,
      "outputs": [
        {
          "output_type": "display_data",
          "data": {
            "image/png": "[encoded data removed]",
            "text/plain": [
              "<Figure size 720x576 with 4 Axes>"
            ]
          },
          "metadata": {
            "tags": [],
            "needs_background": "light"
          }
        }
      ]
    },
    {
      "cell_type": "markdown",
      "metadata": {
        "id": "9r72A8_lWQl9"
      },
      "source": [
        "# Query term"
      ]
    },
    {
      "cell_type": "code",
      "metadata": {
        "id": "9DRX99qLMl_c",
        "colab": {
          "base_uri": "https://localhost:8080/",
          "height": 108
        },
        "outputId": "f48bf71a-80e0-4844-bfef-43b441ccef5c"
      },
      "source": [
        "#download data from google drive\n",
        "import gdown\n",
        "url = \"https://drive.google.com/u/0/uc?id=1-24aWX9oqnhYm65onxV5Zm4PbXppvtGD&export=download\"\n",
        "gdown.download(url, mydrive+\"news_en.csv\", quiet=False)"
      ],
      "execution_count": null,
      "outputs": [
        {
          "output_type": "stream",
          "text": [
            "Downloading...\n",
            "From: https://drive.google.com/u/0/uc?id=1-24aWX9oqnhYm65onxV5Zm4PbXppvtGD&export=download\n",
            "To: /content/drive/My Drive/news_en.csv\n",
            "100%|██████████| 6.12k/6.12k [00:00<00:00, 6.24MB/s]\n"
          ],
          "name": "stderr"
        },
        {
          "output_type": "execute_result",
          "data": {
            "text/plain": [
              "'/content/drive/My Drive/news_en.csv'"
            ]
          },
          "metadata": {
            "tags": []
          },
          "execution_count": 82
        }
      ]
    },
    {
      "cell_type": "code",
      "metadata": {
        "id": "cPse43hBWYHB",
        "colab": {
          "base_uri": "https://localhost:8080/",
          "height": 54
        },
        "outputId": "b0228874-0b90-4675-b581-471ad88d1506"
      },
      "source": [
        "import pandas as pd\n",
        "import nltk\n",
        "nltk.download('punkt')\n",
        "df_query = pd.read_csv(mydrive+\"news_en.csv\")\n",
        "df_query\n",
        "doc_all={}\n",
        "for i in range(len(df_query)):\n",
        "  tokens = nltk.word_tokenize(df_query.news[i])\n",
        "  token_filtered = [w.lower() for w in tokens if w.isalpha()]\n",
        "  doc_all[i]=token_filtered\n",
        "# doc_all.values()"
      ],
      "execution_count": null,
      "outputs": [
        {
          "output_type": "stream",
          "text": [
            "[nltk_data] Downloading package punkt to /root/nltk_data...\n",
            "[nltk_data]   Package punkt is already up-to-date!\n"
          ],
          "name": "stdout"
        }
      ]
    },
    {
      "cell_type": "code",
      "metadata": {
        "id": "zzluQFf3WaKv"
      },
      "source": [
        "# Declare all function \n",
        "# create tf function\n",
        "def tf(term, token_doc):\n",
        "    tf = token_doc.count(term)/len(token_doc)\n",
        "    return tf\n",
        "\n",
        "# create function to calculate how many doc contain the term \n",
        "def numDocsContaining(word, token_doclist):\n",
        "    doccount = 0\n",
        "    for doc_token in token_doclist:\n",
        "        if doc_token.count(word) > 0:\n",
        "            doccount +=1\n",
        "    return doccount\n",
        "  \n",
        "import math\n",
        "# create function to calculate  Inverse Document Frequency in doclist - this list of all documents\n",
        "def idf(word, token_doclist):\n",
        "    n = len(token_doclist)\n",
        "    df = numDocsContaining(word, token_doclist)\n",
        "    return math.log10(n/df)\n",
        "\n",
        "#define a function to do cosine normalization a data dictionary\n",
        "def cos_norm(dic): # dic is distionary data structure\n",
        "  import numpy as np\n",
        "  dic_norm={}\n",
        "  factor=1.0/np.sqrt(sum([np.square(i) for i in dic.values()]))\n",
        "  for k in dic:\n",
        "    dic_norm[k] = dic[k]*factor\n",
        "  return dic_norm\n",
        "\n",
        "#create function to calculate normalize tfidf \n",
        "def compute_tfidf(token_doc,bag_words_idf):\n",
        "  tfidf_doc={}\n",
        "  for word in set(token_doc):\n",
        "    tfidf_doc[word]= tf(word,token_doc) * bag_words_idf[word]   \n",
        "  tfidf_norm = cos_norm(tfidf_doc)\n",
        "  return tfidf_norm\n",
        "\n",
        "# create normalize term frequency\n",
        "def tf_norm(token_doc):\n",
        "  tf_norm={}\n",
        "  for term in token_doc:\n",
        "    tf = token_doc.count(term)/len(token_doc)\n",
        "    tf_norm[term]=tf\n",
        "  tf_max = max(tf_norm.values())\n",
        "  for term, value in tf_norm.items():\n",
        "    tf_norm[term]= 0.5 + 0.5*value/tf_max\n",
        "  return tf_norm\n",
        "  \n",
        "def compute_tfidf_query(query_token,bag_words_idf):\n",
        "  tfidf_query={}\n",
        "  tf_norm_query = tf_norm(query_token)\n",
        "  for term, value in tf_norm_query.items():\n",
        "    tfidf_query[term]=value*bag_words_idf[term]   \n",
        "  return tfidf_query"
      ],
      "execution_count": null,
      "outputs": []
    },
    {
      "cell_type": "code",
      "metadata": {
        "id": "xH7nqTP2WeeL",
        "colab": {
          "base_uri": "https://localhost:8080/",
          "height": 290
        },
        "outputId": "b59d2cca-77f8-4b0c-affe-e2e4bf0321a7"
      },
      "source": [
        "import os\n",
        "from datetime import datetime\n",
        "from pytz import timezone\n",
        "now = datetime.now(timezone('Asia/Taipei'))\n",
        "start_time = now.strftime(\"%H:%M:%S\")\n",
        "print(\"Start tfidf processing at\", start_time)\n",
        "\n",
        "#create bag words\n",
        "bag_words =[] # declare bag_words is a list\n",
        "for doc in doc_all.keys():\n",
        "  bag_words += doc_all[doc]\n",
        "bag_words=set(bag_words)\n",
        "\n",
        "#calculate idf for every word in bag_words\n",
        "bag_words_idf={} # declare \"bag_words_idf\" data structure is dictionary \n",
        "bag_words_len = len(bag_words)\n",
        "bag_word_10 = round(bag_words_len/10,0)\n",
        "print(\"the number of term in bag_word\", bag_words_len)\n",
        "print(\"Start idf processing\")\n",
        "i=0\n",
        "for word in bag_words:\n",
        "  i+=1\n",
        "  if (i%bag_word_10==0):print(\"finish %s idf processing\" %(str(round(i*10/bag_word_10))+\"%\"))\n",
        "  bag_words_idf[word]= idf(word,doc_all.values())\n",
        "\n",
        "print(\"finish idf processing\")\n",
        "##calculate tfidf with cosine normalization\n",
        "tfidf={} # declare tfidf dictionary to store tfidf value\n",
        "for doc in doc_all.keys():\n",
        "  tfidf[doc]= compute_tfidf(doc_all[doc],bag_words_idf)\n",
        "finish_time = datetime.now(timezone('Asia/Taipei')).strftime(\"%H:%M:%S\")\n",
        "print(\"finish tfidf processing at\", finish_time)"
      ],
      "execution_count": null,
      "outputs": [
        {
          "output_type": "stream",
          "text": [
            "Start tfidf processing at 23:34:10\n",
            "the number of term in bag_word 554\n",
            "Start idf processing\n",
            "finish 10% idf processing\n",
            "finish 20% idf processing\n",
            "finish 30% idf processing\n",
            "finish 40% idf processing\n",
            "finish 50% idf processing\n",
            "finish 60% idf processing\n",
            "finish 70% idf processing\n",
            "finish 80% idf processing\n",
            "finish 90% idf processing\n",
            "finish 100% idf processing\n",
            "finish idf processing\n",
            "finish tfidf processing at 23:34:10\n"
          ],
          "name": "stdout"
        }
      ]
    },
    {
      "cell_type": "code",
      "metadata": {
        "id": "C3sT_orXWg5Z",
        "colab": {
          "base_uri": "https://localhost:8080/",
          "height": 255
        },
        "outputId": "5dfa0c3a-f57f-47c4-dcd7-7091840d9feb"
      },
      "source": [
        "query=str(input(\"query term :\" ))\n",
        "query=query.lower()\n",
        "query_token_raw= nltk.word_tokenize(query)\n",
        "query_token = [term for term in query_token_raw if term in bag_words]\n",
        "if len(query_token) >0 :\n",
        "    tfidf_query =compute_tfidf_query(query_token,bag_words_idf) #calculate tfidf for query text\n",
        "    print(tfidf_query)\n",
        "else:\n",
        "    print(\"No relative news.\")"
      ],
      "execution_count": null,
      "outputs": [
        {
          "output_type": "stream",
          "text": [
            "query term :trump\n"
          ],
          "name": "stdout"
        },
        {
          "output_type": "error",
          "ename": "NameError",
          "evalue": "ignored",
          "traceback": [
            "\u001b[0;31m---------------------------------------------------------------------------\u001b[0m",
            "\u001b[0;31mNameError\u001b[0m                                 Traceback (most recent call last)",
            "\u001b[0;32m<ipython-input-27-98c2dff85b26>\u001b[0m in \u001b[0;36m<module>\u001b[0;34m()\u001b[0m\n\u001b[1;32m      1\u001b[0m \u001b[0mquery\u001b[0m\u001b[0;34m=\u001b[0m\u001b[0mstr\u001b[0m\u001b[0;34m(\u001b[0m\u001b[0minput\u001b[0m\u001b[0;34m(\u001b[0m\u001b[0;34m\"query term :\"\u001b[0m \u001b[0;34m)\u001b[0m\u001b[0;34m)\u001b[0m\u001b[0;34m\u001b[0m\u001b[0;34m\u001b[0m\u001b[0m\n\u001b[1;32m      2\u001b[0m \u001b[0mquery\u001b[0m\u001b[0;34m=\u001b[0m\u001b[0mquery\u001b[0m\u001b[0;34m.\u001b[0m\u001b[0mlower\u001b[0m\u001b[0;34m(\u001b[0m\u001b[0;34m)\u001b[0m\u001b[0;34m\u001b[0m\u001b[0;34m\u001b[0m\u001b[0m\n\u001b[0;32m----> 3\u001b[0;31m \u001b[0mquery_token_raw\u001b[0m\u001b[0;34m=\u001b[0m \u001b[0mnltk\u001b[0m\u001b[0;34m.\u001b[0m\u001b[0mword_tokenize\u001b[0m\u001b[0;34m(\u001b[0m\u001b[0mquery\u001b[0m\u001b[0;34m)\u001b[0m\u001b[0;34m\u001b[0m\u001b[0;34m\u001b[0m\u001b[0m\n\u001b[0m\u001b[1;32m      4\u001b[0m \u001b[0mquery_token\u001b[0m \u001b[0;34m=\u001b[0m \u001b[0;34m[\u001b[0m\u001b[0mterm\u001b[0m \u001b[0;32mfor\u001b[0m \u001b[0mterm\u001b[0m \u001b[0;32min\u001b[0m \u001b[0mquery_token_raw\u001b[0m \u001b[0;32mif\u001b[0m \u001b[0mterm\u001b[0m \u001b[0;32min\u001b[0m \u001b[0mbag_words\u001b[0m\u001b[0;34m]\u001b[0m\u001b[0;34m\u001b[0m\u001b[0;34m\u001b[0m\u001b[0m\n\u001b[1;32m      5\u001b[0m \u001b[0;32mif\u001b[0m \u001b[0mlen\u001b[0m\u001b[0;34m(\u001b[0m\u001b[0mquery_token\u001b[0m\u001b[0;34m)\u001b[0m \u001b[0;34m>\u001b[0m\u001b[0;36m0\u001b[0m \u001b[0;34m:\u001b[0m\u001b[0;34m\u001b[0m\u001b[0;34m\u001b[0m\u001b[0m\n",
            "\u001b[0;31mNameError\u001b[0m: name 'nltk' is not defined"
          ]
        }
      ]
    },
    {
      "cell_type": "code",
      "metadata": {
        "id": "B0LwKsYv40a5"
      },
      "source": [
        "type(query_token_raw)"
      ],
      "execution_count": null,
      "outputs": []
    },
    {
      "cell_type": "code",
      "metadata": {
        "id": "C6u-Gy_xWjzF"
      },
      "source": [
        "# add tfidf of query text to tfidf of all doc and convert to dataframe\n",
        "tfidf[\"query\"]=tfidf_query\n",
        "\n",
        "import pandas as pd\n",
        "tfidf_df = pd.DataFrame(tfidf).transpose()\n",
        "tfidf_df= tfidf_df.fillna(0) # replace all NaN by zero\n",
        "\n",
        "from scipy.spatial.distance import cosine\n",
        "cosine_sim ={}\n",
        "for row in tfidf_df.index:\n",
        "  if row != \"query\":\n",
        "    cosine_sim[row]= 1-cosine(tfidf_df.loc[row],tfidf_df.loc[\"query\"])\n",
        "\n",
        "# the top 10 relevant document\n",
        "if len(query_token) >0 :\n",
        "  cosine_sim_top10 = dict(sorted(cosine_sim.items(), key=lambda item: item[1],reverse=True)[:10])\n",
        "  print(cosine_sim_top10)\n",
        "else:\n",
        "  print(0)"
      ],
      "execution_count": null,
      "outputs": []
    },
    {
      "cell_type": "code",
      "metadata": {
        "id": "C6Hi41boWl_V"
      },
      "source": [
        "returns=list(cosine_sim_top10.keys())[0]\n",
        "print(returns)"
      ],
      "execution_count": null,
      "outputs": []
    },
    {
      "cell_type": "code",
      "metadata": {
        "id": "xf0wV2q9ZDeS"
      },
      "source": [
        "print(news_title[returns],\"\\n\",website[returns])"
      ],
      "execution_count": null,
      "outputs": []
    },
    {
      "cell_type": "code",
      "metadata": {
        "id": "QBW1fm1kyfpW"
      },
      "source": [
        "TEXT = input()\n",
        "\n",
        "if TEXT.isalpha()==True:\n",
        "  print(TEXT)\n",
        "\n",
        "else:\n",
        "  print(\"000:\")"
      ],
      "execution_count": null,
      "outputs": []
    },
    {
      "cell_type": "code",
      "metadata": {
        "id": "baesNOcA0pEv"
      },
      "source": [
        ""
      ],
      "execution_count": null,
      "outputs": []
    },
    {
      "cell_type": "code",
      "metadata": {
        "id": "rlH8aU5x0IUS"
      },
      "source": [
        ""
      ],
      "execution_count": null,
      "outputs": []
    }
  ]
}